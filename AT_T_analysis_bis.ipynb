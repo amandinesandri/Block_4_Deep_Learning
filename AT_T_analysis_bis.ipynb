{
  "cells": [
    {
      "cell_type": "markdown",
      "metadata": {
        "id": "S9eXv62ttX9d"
      },
      "source": [
        "# AT&T Spams detector"
      ]
    },
    {
      "cell_type": "markdown",
      "metadata": {
        "id": "vBQtyzSItX9e"
      },
      "source": [
        "## Loading the data and libraries"
      ]
    },
    {
      "cell_type": "code",
      "execution_count": 3,
      "metadata": {
        "id": "EPAE_qHbtX9e"
      },
      "outputs": [],
      "source": []
    },
    {
      "cell_type": "code",
      "execution_count": 4,
      "metadata": {
        "id": "-nP0irDQtX9e"
      },
      "outputs": [],
      "source": [
        "# librairies usuelles\n",
        "import pandas as pd\n",
        "import numpy as np\n",
        "import plotly.express as px\n",
        "# librairies qui vont servir lors du preprocessing textuel\n",
        "import datetime\n",
        "import spacy\n",
        "from spacy.lang.en.stop_words import STOP_WORDS\n",
        "import re\n",
        "\n",
        "# librairies pour nos modèles : Tensorflow et Transformers de Hugging Face (pour les modèles pré-entraînés)\n",
        "import tensorflow as tf\n",
        "from transformers import TFAutoModel, AutoTokenizer\n",
        "\n",
        "# classes et méthodes de Scikit-Learn pour le préprocessing, le splitting, les métriques, etc...\n",
        "from sklearn.preprocessing import LabelEncoder, OneHotEncoder, StandardScaler\n",
        "from sklearn.model_selection import train_test_split\n",
        "from sklearn.metrics import ConfusionMatrixDisplay, accuracy_score, precision_score, recall_score\n",
        "\n",
        "# On importe également les plugings params pour Tensorboard, pour le tracking des performances de nos modèles\n",
        "from tensorboard.plugins.hparams import api as hp\n",
        "import warnings\n",
        "warnings.filterwarnings('ignore')"
      ]
    },
    {
      "cell_type": "code",
      "execution_count": 5,
      "metadata": {
        "colab": {
          "base_uri": "https://localhost:8080/"
        },
        "id": "ZjS-EVsgtX9f",
        "outputId": "8a98254b-65a2-407b-9ecc-74f6da25768c"
      },
      "outputs": [
        {
          "output_type": "stream",
          "name": "stdout",
          "text": [
            "2023-12-15 20:49:44.130252: E external/local_xla/xla/stream_executor/cuda/cuda_dnn.cc:9261] Unable to register cuDNN factory: Attempting to register factory for plugin cuDNN when one has already been registered\n",
            "2023-12-15 20:49:44.130315: E external/local_xla/xla/stream_executor/cuda/cuda_fft.cc:607] Unable to register cuFFT factory: Attempting to register factory for plugin cuFFT when one has already been registered\n",
            "2023-12-15 20:49:44.131692: E external/local_xla/xla/stream_executor/cuda/cuda_blas.cc:1515] Unable to register cuBLAS factory: Attempting to register factory for plugin cuBLAS when one has already been registered\n",
            "2023-12-15 20:49:45.783488: W tensorflow/compiler/tf2tensorrt/utils/py_utils.cc:38] TF-TRT Warning: Could not find TensorRT\n",
            "Collecting en-core-web-md==3.6.0\n",
            "  Downloading https://github.com/explosion/spacy-models/releases/download/en_core_web_md-3.6.0/en_core_web_md-3.6.0-py3-none-any.whl (42.8 MB)\n",
            "\u001b[2K     \u001b[90m━━━━━━━━━━━━━━━━━━━━━━━━━━━━━━━━━━━━━━━━\u001b[0m \u001b[32m42.8/42.8 MB\u001b[0m \u001b[31m13.7 MB/s\u001b[0m eta \u001b[36m0:00:00\u001b[0m\n",
            "\u001b[?25hRequirement already satisfied: spacy<3.7.0,>=3.6.0 in /usr/local/lib/python3.10/dist-packages (from en-core-web-md==3.6.0) (3.6.1)\n",
            "Requirement already satisfied: spacy-legacy<3.1.0,>=3.0.11 in /usr/local/lib/python3.10/dist-packages (from spacy<3.7.0,>=3.6.0->en-core-web-md==3.6.0) (3.0.12)\n",
            "Requirement already satisfied: spacy-loggers<2.0.0,>=1.0.0 in /usr/local/lib/python3.10/dist-packages (from spacy<3.7.0,>=3.6.0->en-core-web-md==3.6.0) (1.0.5)\n",
            "Requirement already satisfied: murmurhash<1.1.0,>=0.28.0 in /usr/local/lib/python3.10/dist-packages (from spacy<3.7.0,>=3.6.0->en-core-web-md==3.6.0) (1.0.10)\n",
            "Requirement already satisfied: cymem<2.1.0,>=2.0.2 in /usr/local/lib/python3.10/dist-packages (from spacy<3.7.0,>=3.6.0->en-core-web-md==3.6.0) (2.0.8)\n",
            "Requirement already satisfied: preshed<3.1.0,>=3.0.2 in /usr/local/lib/python3.10/dist-packages (from spacy<3.7.0,>=3.6.0->en-core-web-md==3.6.0) (3.0.9)\n",
            "Requirement already satisfied: thinc<8.2.0,>=8.1.8 in /usr/local/lib/python3.10/dist-packages (from spacy<3.7.0,>=3.6.0->en-core-web-md==3.6.0) (8.1.12)\n",
            "Requirement already satisfied: wasabi<1.2.0,>=0.9.1 in /usr/local/lib/python3.10/dist-packages (from spacy<3.7.0,>=3.6.0->en-core-web-md==3.6.0) (1.1.2)\n",
            "Requirement already satisfied: srsly<3.0.0,>=2.4.3 in /usr/local/lib/python3.10/dist-packages (from spacy<3.7.0,>=3.6.0->en-core-web-md==3.6.0) (2.4.8)\n",
            "Requirement already satisfied: catalogue<2.1.0,>=2.0.6 in /usr/local/lib/python3.10/dist-packages (from spacy<3.7.0,>=3.6.0->en-core-web-md==3.6.0) (2.0.10)\n",
            "Requirement already satisfied: typer<0.10.0,>=0.3.0 in /usr/local/lib/python3.10/dist-packages (from spacy<3.7.0,>=3.6.0->en-core-web-md==3.6.0) (0.9.0)\n",
            "Requirement already satisfied: pathy>=0.10.0 in /usr/local/lib/python3.10/dist-packages (from spacy<3.7.0,>=3.6.0->en-core-web-md==3.6.0) (0.10.3)\n",
            "Requirement already satisfied: smart-open<7.0.0,>=5.2.1 in /usr/local/lib/python3.10/dist-packages (from spacy<3.7.0,>=3.6.0->en-core-web-md==3.6.0) (6.4.0)\n",
            "Requirement already satisfied: tqdm<5.0.0,>=4.38.0 in /usr/local/lib/python3.10/dist-packages (from spacy<3.7.0,>=3.6.0->en-core-web-md==3.6.0) (4.66.1)\n",
            "Requirement already satisfied: numpy>=1.15.0 in /usr/local/lib/python3.10/dist-packages (from spacy<3.7.0,>=3.6.0->en-core-web-md==3.6.0) (1.23.5)\n",
            "Requirement already satisfied: requests<3.0.0,>=2.13.0 in /usr/local/lib/python3.10/dist-packages (from spacy<3.7.0,>=3.6.0->en-core-web-md==3.6.0) (2.31.0)\n",
            "Requirement already satisfied: pydantic!=1.8,!=1.8.1,<3.0.0,>=1.7.4 in /usr/local/lib/python3.10/dist-packages (from spacy<3.7.0,>=3.6.0->en-core-web-md==3.6.0) (1.10.13)\n",
            "Requirement already satisfied: jinja2 in /usr/local/lib/python3.10/dist-packages (from spacy<3.7.0,>=3.6.0->en-core-web-md==3.6.0) (3.1.2)\n",
            "Requirement already satisfied: setuptools in /usr/local/lib/python3.10/dist-packages (from spacy<3.7.0,>=3.6.0->en-core-web-md==3.6.0) (67.7.2)\n",
            "Requirement already satisfied: packaging>=20.0 in /usr/local/lib/python3.10/dist-packages (from spacy<3.7.0,>=3.6.0->en-core-web-md==3.6.0) (23.2)\n",
            "Requirement already satisfied: langcodes<4.0.0,>=3.2.0 in /usr/local/lib/python3.10/dist-packages (from spacy<3.7.0,>=3.6.0->en-core-web-md==3.6.0) (3.3.0)\n",
            "Requirement already satisfied: typing-extensions>=4.2.0 in /usr/local/lib/python3.10/dist-packages (from pydantic!=1.8,!=1.8.1,<3.0.0,>=1.7.4->spacy<3.7.0,>=3.6.0->en-core-web-md==3.6.0) (4.5.0)\n",
            "Requirement already satisfied: charset-normalizer<4,>=2 in /usr/local/lib/python3.10/dist-packages (from requests<3.0.0,>=2.13.0->spacy<3.7.0,>=3.6.0->en-core-web-md==3.6.0) (3.3.2)\n",
            "Requirement already satisfied: idna<4,>=2.5 in /usr/local/lib/python3.10/dist-packages (from requests<3.0.0,>=2.13.0->spacy<3.7.0,>=3.6.0->en-core-web-md==3.6.0) (3.6)\n",
            "Requirement already satisfied: urllib3<3,>=1.21.1 in /usr/local/lib/python3.10/dist-packages (from requests<3.0.0,>=2.13.0->spacy<3.7.0,>=3.6.0->en-core-web-md==3.6.0) (2.0.7)\n",
            "Requirement already satisfied: certifi>=2017.4.17 in /usr/local/lib/python3.10/dist-packages (from requests<3.0.0,>=2.13.0->spacy<3.7.0,>=3.6.0->en-core-web-md==3.6.0) (2023.11.17)\n",
            "Requirement already satisfied: blis<0.8.0,>=0.7.8 in /usr/local/lib/python3.10/dist-packages (from thinc<8.2.0,>=8.1.8->spacy<3.7.0,>=3.6.0->en-core-web-md==3.6.0) (0.7.11)\n",
            "Requirement already satisfied: confection<1.0.0,>=0.0.1 in /usr/local/lib/python3.10/dist-packages (from thinc<8.2.0,>=8.1.8->spacy<3.7.0,>=3.6.0->en-core-web-md==3.6.0) (0.1.4)\n",
            "Requirement already satisfied: click<9.0.0,>=7.1.1 in /usr/local/lib/python3.10/dist-packages (from typer<0.10.0,>=0.3.0->spacy<3.7.0,>=3.6.0->en-core-web-md==3.6.0) (8.1.7)\n",
            "Requirement already satisfied: MarkupSafe>=2.0 in /usr/local/lib/python3.10/dist-packages (from jinja2->spacy<3.7.0,>=3.6.0->en-core-web-md==3.6.0) (2.1.3)\n",
            "\u001b[38;5;2m✔ Download and installation successful\u001b[0m\n",
            "You can now load the package via spacy.load('en_core_web_md')\n"
          ]
        }
      ],
      "source": [
        "# import vocabulary package\n",
        "# Charger le modèle de langue anglais\n",
        "!python -m spacy download en_core_web_md\n"
      ]
    },
    {
      "cell_type": "code",
      "execution_count": 6,
      "metadata": {
        "colab": {
          "base_uri": "https://localhost:8080/"
        },
        "id": "-abXbcSUtX9g",
        "outputId": "af3b2c77-4963-49a9-da35-ccd03189ac84"
      },
      "outputs": [
        {
          "output_type": "stream",
          "name": "stdout",
          "text": [
            "     v1                                                 v2 Unnamed: 2  \\\n",
            "0   ham  Go until jurong point, crazy.. Available only ...        NaN   \n",
            "1   ham                      Ok lar... Joking wif u oni...        NaN   \n",
            "2  spam  Free entry in 2 a wkly comp to win FA Cup fina...        NaN   \n",
            "3   ham  U dun say so early hor... U c already then say...        NaN   \n",
            "4   ham  Nah I don't think he goes to usf, he lives aro...        NaN   \n",
            "\n",
            "  Unnamed: 3 Unnamed: 4  \n",
            "0        NaN        NaN  \n",
            "1        NaN        NaN  \n",
            "2        NaN        NaN  \n",
            "3        NaN        NaN  \n",
            "4        NaN        NaN  \n"
          ]
        }
      ],
      "source": [
        "# Load dataset\n",
        "\n",
        "data = pd.read_csv('./spam.csv', encoding = 'ISO-8859-1')\n",
        "print(data.head())"
      ]
    },
    {
      "cell_type": "code",
      "execution_count": 7,
      "metadata": {
        "colab": {
          "base_uri": "https://localhost:8080/"
        },
        "id": "ILfLH0TUtX9g",
        "outputId": "d76d0490-c269-4ac6-f2af-03fc886605ab"
      },
      "outputs": [
        {
          "output_type": "stream",
          "name": "stdout",
          "text": [
            "Nombre de valeurs NaN par colonne :\n",
            "v1               0\n",
            "v2               0\n",
            "Unnamed: 2    5522\n",
            "Unnamed: 3    5560\n",
            "Unnamed: 4    5566\n",
            "dtype: int64\n"
          ]
        }
      ],
      "source": [
        "\n",
        "# Compter le nombre de valeurs NaN pour chaque colonne\n",
        "nan_counts = data.isna().sum()\n",
        "\n",
        "print(\"Nombre de valeurs NaN par colonne :\")\n",
        "print(nan_counts)"
      ]
    },
    {
      "cell_type": "code",
      "execution_count": 8,
      "metadata": {
        "colab": {
          "base_uri": "https://localhost:8080/"
        },
        "id": "tCMXRRaEtX9g",
        "outputId": "4b760d7c-6deb-46f0-a667-327d70377a26"
      },
      "outputs": [
        {
          "output_type": "stream",
          "name": "stdout",
          "text": [
            "     v1                                                 v2\n",
            "0   ham  Go until jurong point, crazy.. Available only ...\n",
            "1   ham                      Ok lar... Joking wif u oni...\n",
            "2  spam  Free entry in 2 a wkly comp to win FA Cup fina...\n",
            "3   ham  U dun say so early hor... U c already then say...\n",
            "4   ham  Nah I don't think he goes to usf, he lives aro...\n",
            "(5572, 2)\n",
            "\n",
            " Nombre de hams et de span: \n",
            " ham     4825\n",
            "spam     747\n",
            "Name: v1, dtype: int64\n"
          ]
        }
      ],
      "source": [
        "# Supprimer les colonnes qui contiennent plus de 50% de valeurs NaN\n",
        "\n",
        "data = data.drop(['Unnamed: 2', 'Unnamed: 3', 'Unnamed: 4'], axis=1)\n",
        "print(data.head())\n",
        "print(data.shape)\n",
        "\n",
        "print(\"\\n Nombre de hams et de span: \\n\", data['v1'].value_counts())"
      ]
    },
    {
      "cell_type": "markdown",
      "metadata": {
        "id": "x_P2ZjbQtX9g"
      },
      "source": [
        "# Preprocessing"
      ]
    },
    {
      "cell_type": "markdown",
      "metadata": {
        "id": "ihE_BJemtX9h"
      },
      "source": [
        "## Nettoyage du texte"
      ]
    },
    {
      "cell_type": "code",
      "execution_count": 9,
      "metadata": {
        "colab": {
          "base_uri": "https://localhost:8080/",
          "height": 204
        },
        "id": "LjGp1r7xtX9h",
        "outputId": "5104c7ec-966b-44a6-8d16-7d8947a57db9"
      },
      "outputs": [
        {
          "output_type": "execute_result",
          "data": {
            "text/plain": [
              "     v1                                                 v2  \\\n",
              "0   ham  Go until jurong point, crazy.. Available only ...   \n",
              "1   ham                      Ok lar... Joking wif u oni...   \n",
              "2  spam  Free entry in 2 a wkly comp to win FA Cup fina...   \n",
              "3   ham  U dun say so early hor... U c already then say...   \n",
              "4   ham  Nah I don't think he goes to usf, he lives aro...   \n",
              "\n",
              "                                            v2_clean  \n",
              "0  go until jurong point crazy available only in ...  \n",
              "1                            ok lar joking wif u oni  \n",
              "2  free entry in 2 a wkly comp to win fa cup fina...  \n",
              "3        u dun say so early hor u c already then say  \n",
              "4  nah i dont think he goes to usf he lives aroun...  "
            ],
            "text/html": [
              "\n",
              "  <div id=\"df-ec66be66-c50f-4849-8bf5-0a6baff628e5\" class=\"colab-df-container\">\n",
              "    <div>\n",
              "<style scoped>\n",
              "    .dataframe tbody tr th:only-of-type {\n",
              "        vertical-align: middle;\n",
              "    }\n",
              "\n",
              "    .dataframe tbody tr th {\n",
              "        vertical-align: top;\n",
              "    }\n",
              "\n",
              "    .dataframe thead th {\n",
              "        text-align: right;\n",
              "    }\n",
              "</style>\n",
              "<table border=\"1\" class=\"dataframe\">\n",
              "  <thead>\n",
              "    <tr style=\"text-align: right;\">\n",
              "      <th></th>\n",
              "      <th>v1</th>\n",
              "      <th>v2</th>\n",
              "      <th>v2_clean</th>\n",
              "    </tr>\n",
              "  </thead>\n",
              "  <tbody>\n",
              "    <tr>\n",
              "      <th>0</th>\n",
              "      <td>ham</td>\n",
              "      <td>Go until jurong point, crazy.. Available only ...</td>\n",
              "      <td>go until jurong point crazy available only in ...</td>\n",
              "    </tr>\n",
              "    <tr>\n",
              "      <th>1</th>\n",
              "      <td>ham</td>\n",
              "      <td>Ok lar... Joking wif u oni...</td>\n",
              "      <td>ok lar joking wif u oni</td>\n",
              "    </tr>\n",
              "    <tr>\n",
              "      <th>2</th>\n",
              "      <td>spam</td>\n",
              "      <td>Free entry in 2 a wkly comp to win FA Cup fina...</td>\n",
              "      <td>free entry in 2 a wkly comp to win fa cup fina...</td>\n",
              "    </tr>\n",
              "    <tr>\n",
              "      <th>3</th>\n",
              "      <td>ham</td>\n",
              "      <td>U dun say so early hor... U c already then say...</td>\n",
              "      <td>u dun say so early hor u c already then say</td>\n",
              "    </tr>\n",
              "    <tr>\n",
              "      <th>4</th>\n",
              "      <td>ham</td>\n",
              "      <td>Nah I don't think he goes to usf, he lives aro...</td>\n",
              "      <td>nah i dont think he goes to usf he lives aroun...</td>\n",
              "    </tr>\n",
              "  </tbody>\n",
              "</table>\n",
              "</div>\n",
              "    <div class=\"colab-df-buttons\">\n",
              "\n",
              "  <div class=\"colab-df-container\">\n",
              "    <button class=\"colab-df-convert\" onclick=\"convertToInteractive('df-ec66be66-c50f-4849-8bf5-0a6baff628e5')\"\n",
              "            title=\"Convert this dataframe to an interactive table.\"\n",
              "            style=\"display:none;\">\n",
              "\n",
              "  <svg xmlns=\"http://www.w3.org/2000/svg\" height=\"24px\" viewBox=\"0 -960 960 960\">\n",
              "    <path d=\"M120-120v-720h720v720H120Zm60-500h600v-160H180v160Zm220 220h160v-160H400v160Zm0 220h160v-160H400v160ZM180-400h160v-160H180v160Zm440 0h160v-160H620v160ZM180-180h160v-160H180v160Zm440 0h160v-160H620v160Z\"/>\n",
              "  </svg>\n",
              "    </button>\n",
              "\n",
              "  <style>\n",
              "    .colab-df-container {\n",
              "      display:flex;\n",
              "      gap: 12px;\n",
              "    }\n",
              "\n",
              "    .colab-df-convert {\n",
              "      background-color: #E8F0FE;\n",
              "      border: none;\n",
              "      border-radius: 50%;\n",
              "      cursor: pointer;\n",
              "      display: none;\n",
              "      fill: #1967D2;\n",
              "      height: 32px;\n",
              "      padding: 0 0 0 0;\n",
              "      width: 32px;\n",
              "    }\n",
              "\n",
              "    .colab-df-convert:hover {\n",
              "      background-color: #E2EBFA;\n",
              "      box-shadow: 0px 1px 2px rgba(60, 64, 67, 0.3), 0px 1px 3px 1px rgba(60, 64, 67, 0.15);\n",
              "      fill: #174EA6;\n",
              "    }\n",
              "\n",
              "    .colab-df-buttons div {\n",
              "      margin-bottom: 4px;\n",
              "    }\n",
              "\n",
              "    [theme=dark] .colab-df-convert {\n",
              "      background-color: #3B4455;\n",
              "      fill: #D2E3FC;\n",
              "    }\n",
              "\n",
              "    [theme=dark] .colab-df-convert:hover {\n",
              "      background-color: #434B5C;\n",
              "      box-shadow: 0px 1px 3px 1px rgba(0, 0, 0, 0.15);\n",
              "      filter: drop-shadow(0px 1px 2px rgba(0, 0, 0, 0.3));\n",
              "      fill: #FFFFFF;\n",
              "    }\n",
              "  </style>\n",
              "\n",
              "    <script>\n",
              "      const buttonEl =\n",
              "        document.querySelector('#df-ec66be66-c50f-4849-8bf5-0a6baff628e5 button.colab-df-convert');\n",
              "      buttonEl.style.display =\n",
              "        google.colab.kernel.accessAllowed ? 'block' : 'none';\n",
              "\n",
              "      async function convertToInteractive(key) {\n",
              "        const element = document.querySelector('#df-ec66be66-c50f-4849-8bf5-0a6baff628e5');\n",
              "        const dataTable =\n",
              "          await google.colab.kernel.invokeFunction('convertToInteractive',\n",
              "                                                    [key], {});\n",
              "        if (!dataTable) return;\n",
              "\n",
              "        const docLinkHtml = 'Like what you see? Visit the ' +\n",
              "          '<a target=\"_blank\" href=https://colab.research.google.com/notebooks/data_table.ipynb>data table notebook</a>'\n",
              "          + ' to learn more about interactive tables.';\n",
              "        element.innerHTML = '';\n",
              "        dataTable['output_type'] = 'display_data';\n",
              "        await google.colab.output.renderOutput(dataTable, element);\n",
              "        const docLink = document.createElement('div');\n",
              "        docLink.innerHTML = docLinkHtml;\n",
              "        element.appendChild(docLink);\n",
              "      }\n",
              "    </script>\n",
              "  </div>\n",
              "\n",
              "\n",
              "<div id=\"df-17dbd924-af75-4f7a-997b-c729efd57f66\">\n",
              "  <button class=\"colab-df-quickchart\" onclick=\"quickchart('df-17dbd924-af75-4f7a-997b-c729efd57f66')\"\n",
              "            title=\"Suggest charts\"\n",
              "            style=\"display:none;\">\n",
              "\n",
              "<svg xmlns=\"http://www.w3.org/2000/svg\" height=\"24px\"viewBox=\"0 0 24 24\"\n",
              "     width=\"24px\">\n",
              "    <g>\n",
              "        <path d=\"M19 3H5c-1.1 0-2 .9-2 2v14c0 1.1.9 2 2 2h14c1.1 0 2-.9 2-2V5c0-1.1-.9-2-2-2zM9 17H7v-7h2v7zm4 0h-2V7h2v10zm4 0h-2v-4h2v4z\"/>\n",
              "    </g>\n",
              "</svg>\n",
              "  </button>\n",
              "\n",
              "<style>\n",
              "  .colab-df-quickchart {\n",
              "      --bg-color: #E8F0FE;\n",
              "      --fill-color: #1967D2;\n",
              "      --hover-bg-color: #E2EBFA;\n",
              "      --hover-fill-color: #174EA6;\n",
              "      --disabled-fill-color: #AAA;\n",
              "      --disabled-bg-color: #DDD;\n",
              "  }\n",
              "\n",
              "  [theme=dark] .colab-df-quickchart {\n",
              "      --bg-color: #3B4455;\n",
              "      --fill-color: #D2E3FC;\n",
              "      --hover-bg-color: #434B5C;\n",
              "      --hover-fill-color: #FFFFFF;\n",
              "      --disabled-bg-color: #3B4455;\n",
              "      --disabled-fill-color: #666;\n",
              "  }\n",
              "\n",
              "  .colab-df-quickchart {\n",
              "    background-color: var(--bg-color);\n",
              "    border: none;\n",
              "    border-radius: 50%;\n",
              "    cursor: pointer;\n",
              "    display: none;\n",
              "    fill: var(--fill-color);\n",
              "    height: 32px;\n",
              "    padding: 0;\n",
              "    width: 32px;\n",
              "  }\n",
              "\n",
              "  .colab-df-quickchart:hover {\n",
              "    background-color: var(--hover-bg-color);\n",
              "    box-shadow: 0 1px 2px rgba(60, 64, 67, 0.3), 0 1px 3px 1px rgba(60, 64, 67, 0.15);\n",
              "    fill: var(--button-hover-fill-color);\n",
              "  }\n",
              "\n",
              "  .colab-df-quickchart-complete:disabled,\n",
              "  .colab-df-quickchart-complete:disabled:hover {\n",
              "    background-color: var(--disabled-bg-color);\n",
              "    fill: var(--disabled-fill-color);\n",
              "    box-shadow: none;\n",
              "  }\n",
              "\n",
              "  .colab-df-spinner {\n",
              "    border: 2px solid var(--fill-color);\n",
              "    border-color: transparent;\n",
              "    border-bottom-color: var(--fill-color);\n",
              "    animation:\n",
              "      spin 1s steps(1) infinite;\n",
              "  }\n",
              "\n",
              "  @keyframes spin {\n",
              "    0% {\n",
              "      border-color: transparent;\n",
              "      border-bottom-color: var(--fill-color);\n",
              "      border-left-color: var(--fill-color);\n",
              "    }\n",
              "    20% {\n",
              "      border-color: transparent;\n",
              "      border-left-color: var(--fill-color);\n",
              "      border-top-color: var(--fill-color);\n",
              "    }\n",
              "    30% {\n",
              "      border-color: transparent;\n",
              "      border-left-color: var(--fill-color);\n",
              "      border-top-color: var(--fill-color);\n",
              "      border-right-color: var(--fill-color);\n",
              "    }\n",
              "    40% {\n",
              "      border-color: transparent;\n",
              "      border-right-color: var(--fill-color);\n",
              "      border-top-color: var(--fill-color);\n",
              "    }\n",
              "    60% {\n",
              "      border-color: transparent;\n",
              "      border-right-color: var(--fill-color);\n",
              "    }\n",
              "    80% {\n",
              "      border-color: transparent;\n",
              "      border-right-color: var(--fill-color);\n",
              "      border-bottom-color: var(--fill-color);\n",
              "    }\n",
              "    90% {\n",
              "      border-color: transparent;\n",
              "      border-bottom-color: var(--fill-color);\n",
              "    }\n",
              "  }\n",
              "</style>\n",
              "\n",
              "  <script>\n",
              "    async function quickchart(key) {\n",
              "      const quickchartButtonEl =\n",
              "        document.querySelector('#' + key + ' button');\n",
              "      quickchartButtonEl.disabled = true;  // To prevent multiple clicks.\n",
              "      quickchartButtonEl.classList.add('colab-df-spinner');\n",
              "      try {\n",
              "        const charts = await google.colab.kernel.invokeFunction(\n",
              "            'suggestCharts', [key], {});\n",
              "      } catch (error) {\n",
              "        console.error('Error during call to suggestCharts:', error);\n",
              "      }\n",
              "      quickchartButtonEl.classList.remove('colab-df-spinner');\n",
              "      quickchartButtonEl.classList.add('colab-df-quickchart-complete');\n",
              "    }\n",
              "    (() => {\n",
              "      let quickchartButtonEl =\n",
              "        document.querySelector('#df-17dbd924-af75-4f7a-997b-c729efd57f66 button');\n",
              "      quickchartButtonEl.style.display =\n",
              "        google.colab.kernel.accessAllowed ? 'block' : 'none';\n",
              "    })();\n",
              "  </script>\n",
              "</div>\n",
              "    </div>\n",
              "  </div>\n"
            ]
          },
          "metadata": {},
          "execution_count": 9
        }
      ],
      "source": [
        "# remove poncutuations and convert to lower cases\n",
        "\n",
        "data['v2_clean'] = data['v2'].apply(lambda s : re.sub(r'[^\\w\\s]', '', s).lower())\n",
        "data.head()"
      ]
    },
    {
      "cell_type": "markdown",
      "metadata": {
        "id": "l8rX1gEctX9h"
      },
      "source": [
        "## Lemmatisation et tokenisation"
      ]
    },
    {
      "cell_type": "code",
      "execution_count": 10,
      "metadata": {
        "colab": {
          "base_uri": "https://localhost:8080/",
          "height": 272
        },
        "id": "ZXECTZ1StX9h",
        "outputId": "f5305d48-9492-4b59-daee-3a6e6d752549"
      },
      "outputs": [
        {
          "output_type": "execute_result",
          "data": {
            "text/plain": [
              "     v1                                                 v2  \\\n",
              "0   ham  Go until jurong point, crazy.. Available only ...   \n",
              "1   ham                      Ok lar... Joking wif u oni...   \n",
              "2  spam  Free entry in 2 a wkly comp to win FA Cup fina...   \n",
              "3   ham  U dun say so early hor... U c already then say...   \n",
              "4   ham  Nah I don't think he goes to usf, he lives aro...   \n",
              "\n",
              "                                            v2_clean  \\\n",
              "0  go until jurong point crazy available only in ...   \n",
              "1                            ok lar joking wif u oni   \n",
              "2  free entry in 2 a wkly comp to win fa cup fina...   \n",
              "3        u dun say so early hor u c already then say   \n",
              "4  nah i dont think he goes to usf he lives aroun...   \n",
              "\n",
              "                                            v2_lemma  \n",
              "0  jurong point crazy available bugis n great wor...  \n",
              "1                              ok lar joke wif u oni  \n",
              "2  free entry 2 wkly comp win fa cup final tkts 2...  \n",
              "3                                u dun early hor u c  \n",
              "4                                 nah think usf live  "
            ],
            "text/html": [
              "\n",
              "  <div id=\"df-38c6a077-540b-4077-ad1f-c825d6024724\" class=\"colab-df-container\">\n",
              "    <div>\n",
              "<style scoped>\n",
              "    .dataframe tbody tr th:only-of-type {\n",
              "        vertical-align: middle;\n",
              "    }\n",
              "\n",
              "    .dataframe tbody tr th {\n",
              "        vertical-align: top;\n",
              "    }\n",
              "\n",
              "    .dataframe thead th {\n",
              "        text-align: right;\n",
              "    }\n",
              "</style>\n",
              "<table border=\"1\" class=\"dataframe\">\n",
              "  <thead>\n",
              "    <tr style=\"text-align: right;\">\n",
              "      <th></th>\n",
              "      <th>v1</th>\n",
              "      <th>v2</th>\n",
              "      <th>v2_clean</th>\n",
              "      <th>v2_lemma</th>\n",
              "    </tr>\n",
              "  </thead>\n",
              "  <tbody>\n",
              "    <tr>\n",
              "      <th>0</th>\n",
              "      <td>ham</td>\n",
              "      <td>Go until jurong point, crazy.. Available only ...</td>\n",
              "      <td>go until jurong point crazy available only in ...</td>\n",
              "      <td>jurong point crazy available bugis n great wor...</td>\n",
              "    </tr>\n",
              "    <tr>\n",
              "      <th>1</th>\n",
              "      <td>ham</td>\n",
              "      <td>Ok lar... Joking wif u oni...</td>\n",
              "      <td>ok lar joking wif u oni</td>\n",
              "      <td>ok lar joke wif u oni</td>\n",
              "    </tr>\n",
              "    <tr>\n",
              "      <th>2</th>\n",
              "      <td>spam</td>\n",
              "      <td>Free entry in 2 a wkly comp to win FA Cup fina...</td>\n",
              "      <td>free entry in 2 a wkly comp to win fa cup fina...</td>\n",
              "      <td>free entry 2 wkly comp win fa cup final tkts 2...</td>\n",
              "    </tr>\n",
              "    <tr>\n",
              "      <th>3</th>\n",
              "      <td>ham</td>\n",
              "      <td>U dun say so early hor... U c already then say...</td>\n",
              "      <td>u dun say so early hor u c already then say</td>\n",
              "      <td>u dun early hor u c</td>\n",
              "    </tr>\n",
              "    <tr>\n",
              "      <th>4</th>\n",
              "      <td>ham</td>\n",
              "      <td>Nah I don't think he goes to usf, he lives aro...</td>\n",
              "      <td>nah i dont think he goes to usf he lives aroun...</td>\n",
              "      <td>nah think usf live</td>\n",
              "    </tr>\n",
              "  </tbody>\n",
              "</table>\n",
              "</div>\n",
              "    <div class=\"colab-df-buttons\">\n",
              "\n",
              "  <div class=\"colab-df-container\">\n",
              "    <button class=\"colab-df-convert\" onclick=\"convertToInteractive('df-38c6a077-540b-4077-ad1f-c825d6024724')\"\n",
              "            title=\"Convert this dataframe to an interactive table.\"\n",
              "            style=\"display:none;\">\n",
              "\n",
              "  <svg xmlns=\"http://www.w3.org/2000/svg\" height=\"24px\" viewBox=\"0 -960 960 960\">\n",
              "    <path d=\"M120-120v-720h720v720H120Zm60-500h600v-160H180v160Zm220 220h160v-160H400v160Zm0 220h160v-160H400v160ZM180-400h160v-160H180v160Zm440 0h160v-160H620v160ZM180-180h160v-160H180v160Zm440 0h160v-160H620v160Z\"/>\n",
              "  </svg>\n",
              "    </button>\n",
              "\n",
              "  <style>\n",
              "    .colab-df-container {\n",
              "      display:flex;\n",
              "      gap: 12px;\n",
              "    }\n",
              "\n",
              "    .colab-df-convert {\n",
              "      background-color: #E8F0FE;\n",
              "      border: none;\n",
              "      border-radius: 50%;\n",
              "      cursor: pointer;\n",
              "      display: none;\n",
              "      fill: #1967D2;\n",
              "      height: 32px;\n",
              "      padding: 0 0 0 0;\n",
              "      width: 32px;\n",
              "    }\n",
              "\n",
              "    .colab-df-convert:hover {\n",
              "      background-color: #E2EBFA;\n",
              "      box-shadow: 0px 1px 2px rgba(60, 64, 67, 0.3), 0px 1px 3px 1px rgba(60, 64, 67, 0.15);\n",
              "      fill: #174EA6;\n",
              "    }\n",
              "\n",
              "    .colab-df-buttons div {\n",
              "      margin-bottom: 4px;\n",
              "    }\n",
              "\n",
              "    [theme=dark] .colab-df-convert {\n",
              "      background-color: #3B4455;\n",
              "      fill: #D2E3FC;\n",
              "    }\n",
              "\n",
              "    [theme=dark] .colab-df-convert:hover {\n",
              "      background-color: #434B5C;\n",
              "      box-shadow: 0px 1px 3px 1px rgba(0, 0, 0, 0.15);\n",
              "      filter: drop-shadow(0px 1px 2px rgba(0, 0, 0, 0.3));\n",
              "      fill: #FFFFFF;\n",
              "    }\n",
              "  </style>\n",
              "\n",
              "    <script>\n",
              "      const buttonEl =\n",
              "        document.querySelector('#df-38c6a077-540b-4077-ad1f-c825d6024724 button.colab-df-convert');\n",
              "      buttonEl.style.display =\n",
              "        google.colab.kernel.accessAllowed ? 'block' : 'none';\n",
              "\n",
              "      async function convertToInteractive(key) {\n",
              "        const element = document.querySelector('#df-38c6a077-540b-4077-ad1f-c825d6024724');\n",
              "        const dataTable =\n",
              "          await google.colab.kernel.invokeFunction('convertToInteractive',\n",
              "                                                    [key], {});\n",
              "        if (!dataTable) return;\n",
              "\n",
              "        const docLinkHtml = 'Like what you see? Visit the ' +\n",
              "          '<a target=\"_blank\" href=https://colab.research.google.com/notebooks/data_table.ipynb>data table notebook</a>'\n",
              "          + ' to learn more about interactive tables.';\n",
              "        element.innerHTML = '';\n",
              "        dataTable['output_type'] = 'display_data';\n",
              "        await google.colab.output.renderOutput(dataTable, element);\n",
              "        const docLink = document.createElement('div');\n",
              "        docLink.innerHTML = docLinkHtml;\n",
              "        element.appendChild(docLink);\n",
              "      }\n",
              "    </script>\n",
              "  </div>\n",
              "\n",
              "\n",
              "<div id=\"df-ba813e99-d765-47fb-8ddd-89f08c71f918\">\n",
              "  <button class=\"colab-df-quickchart\" onclick=\"quickchart('df-ba813e99-d765-47fb-8ddd-89f08c71f918')\"\n",
              "            title=\"Suggest charts\"\n",
              "            style=\"display:none;\">\n",
              "\n",
              "<svg xmlns=\"http://www.w3.org/2000/svg\" height=\"24px\"viewBox=\"0 0 24 24\"\n",
              "     width=\"24px\">\n",
              "    <g>\n",
              "        <path d=\"M19 3H5c-1.1 0-2 .9-2 2v14c0 1.1.9 2 2 2h14c1.1 0 2-.9 2-2V5c0-1.1-.9-2-2-2zM9 17H7v-7h2v7zm4 0h-2V7h2v10zm4 0h-2v-4h2v4z\"/>\n",
              "    </g>\n",
              "</svg>\n",
              "  </button>\n",
              "\n",
              "<style>\n",
              "  .colab-df-quickchart {\n",
              "      --bg-color: #E8F0FE;\n",
              "      --fill-color: #1967D2;\n",
              "      --hover-bg-color: #E2EBFA;\n",
              "      --hover-fill-color: #174EA6;\n",
              "      --disabled-fill-color: #AAA;\n",
              "      --disabled-bg-color: #DDD;\n",
              "  }\n",
              "\n",
              "  [theme=dark] .colab-df-quickchart {\n",
              "      --bg-color: #3B4455;\n",
              "      --fill-color: #D2E3FC;\n",
              "      --hover-bg-color: #434B5C;\n",
              "      --hover-fill-color: #FFFFFF;\n",
              "      --disabled-bg-color: #3B4455;\n",
              "      --disabled-fill-color: #666;\n",
              "  }\n",
              "\n",
              "  .colab-df-quickchart {\n",
              "    background-color: var(--bg-color);\n",
              "    border: none;\n",
              "    border-radius: 50%;\n",
              "    cursor: pointer;\n",
              "    display: none;\n",
              "    fill: var(--fill-color);\n",
              "    height: 32px;\n",
              "    padding: 0;\n",
              "    width: 32px;\n",
              "  }\n",
              "\n",
              "  .colab-df-quickchart:hover {\n",
              "    background-color: var(--hover-bg-color);\n",
              "    box-shadow: 0 1px 2px rgba(60, 64, 67, 0.3), 0 1px 3px 1px rgba(60, 64, 67, 0.15);\n",
              "    fill: var(--button-hover-fill-color);\n",
              "  }\n",
              "\n",
              "  .colab-df-quickchart-complete:disabled,\n",
              "  .colab-df-quickchart-complete:disabled:hover {\n",
              "    background-color: var(--disabled-bg-color);\n",
              "    fill: var(--disabled-fill-color);\n",
              "    box-shadow: none;\n",
              "  }\n",
              "\n",
              "  .colab-df-spinner {\n",
              "    border: 2px solid var(--fill-color);\n",
              "    border-color: transparent;\n",
              "    border-bottom-color: var(--fill-color);\n",
              "    animation:\n",
              "      spin 1s steps(1) infinite;\n",
              "  }\n",
              "\n",
              "  @keyframes spin {\n",
              "    0% {\n",
              "      border-color: transparent;\n",
              "      border-bottom-color: var(--fill-color);\n",
              "      border-left-color: var(--fill-color);\n",
              "    }\n",
              "    20% {\n",
              "      border-color: transparent;\n",
              "      border-left-color: var(--fill-color);\n",
              "      border-top-color: var(--fill-color);\n",
              "    }\n",
              "    30% {\n",
              "      border-color: transparent;\n",
              "      border-left-color: var(--fill-color);\n",
              "      border-top-color: var(--fill-color);\n",
              "      border-right-color: var(--fill-color);\n",
              "    }\n",
              "    40% {\n",
              "      border-color: transparent;\n",
              "      border-right-color: var(--fill-color);\n",
              "      border-top-color: var(--fill-color);\n",
              "    }\n",
              "    60% {\n",
              "      border-color: transparent;\n",
              "      border-right-color: var(--fill-color);\n",
              "    }\n",
              "    80% {\n",
              "      border-color: transparent;\n",
              "      border-right-color: var(--fill-color);\n",
              "      border-bottom-color: var(--fill-color);\n",
              "    }\n",
              "    90% {\n",
              "      border-color: transparent;\n",
              "      border-bottom-color: var(--fill-color);\n",
              "    }\n",
              "  }\n",
              "</style>\n",
              "\n",
              "  <script>\n",
              "    async function quickchart(key) {\n",
              "      const quickchartButtonEl =\n",
              "        document.querySelector('#' + key + ' button');\n",
              "      quickchartButtonEl.disabled = true;  // To prevent multiple clicks.\n",
              "      quickchartButtonEl.classList.add('colab-df-spinner');\n",
              "      try {\n",
              "        const charts = await google.colab.kernel.invokeFunction(\n",
              "            'suggestCharts', [key], {});\n",
              "      } catch (error) {\n",
              "        console.error('Error during call to suggestCharts:', error);\n",
              "      }\n",
              "      quickchartButtonEl.classList.remove('colab-df-spinner');\n",
              "      quickchartButtonEl.classList.add('colab-df-quickchart-complete');\n",
              "    }\n",
              "    (() => {\n",
              "      let quickchartButtonEl =\n",
              "        document.querySelector('#df-ba813e99-d765-47fb-8ddd-89f08c71f918 button');\n",
              "      quickchartButtonEl.style.display =\n",
              "        google.colab.kernel.accessAllowed ? 'block' : 'none';\n",
              "    })();\n",
              "  </script>\n",
              "</div>\n",
              "    </div>\n",
              "  </div>\n"
            ]
          },
          "metadata": {},
          "execution_count": 10
        }
      ],
      "source": [
        "# lemmatize\n",
        "nlp = spacy.load('en_core_web_md')\n",
        "data[\"v2_lemma\"] = data[\"v2_clean\"].apply(lambda x: \" \".join([token.lemma_ for token in nlp(x) if (token.lemma_ not in STOP_WORDS) and (token.text not in STOP_WORDS)]))\n",
        "data.head()\n"
      ]
    },
    {
      "cell_type": "code",
      "execution_count": 11,
      "metadata": {
        "colab": {
          "base_uri": "https://localhost:8080/"
        },
        "id": "lU2QlVjWtX9h",
        "outputId": "9ffd9262-e708-4e21-d90c-701ba7189c7a"
      },
      "outputs": [
        {
          "output_type": "stream",
          "name": "stdout",
          "text": [
            "2000\n",
            "{1: 'out_of_vocab', 2: 'u', 3: 'm', 4: '2', 5: 'ur', 6: 'come', 7: 's', 8: '4', 9: 'know', 10: 'ok', 11: 'ltgt', 12: 'free', 13: 'good', 14: 'send', 15: 'like', 16: 'want', 17: 'day', 18: 'ill', 19: 'time', 20: 'love', 21: 'text', 22: 'tell', 23: 'think', 24: 'need', 25: 'txt', 26: 'home', 27: 'lor', 28: 'reply', 29: 'stop', 30: 'sorry', 31: 'r', 32: 'd', 33: 'win', 34: 'mobile', 35: 'today', 36: 'n', 37: 'phone', 38: 'new', 39: 'week', 40: 'later', 41: 'work', 42: 'ask', 43: 'da', 44: 'hi', 45: 'miss', 46: 'ì', 47: 'hope', 48: 'night', 49: 'claim', 50: 'meet', 51: 'wait', 52: 'thing', 53: 'great', 54: 'try', 55: 'oh', 56: 'leave', 57: 'hey', 58: 'dear', 59: 'pls', 60: 'wat', 61: 'happy', 62: 'message', 63: 'number', 64: 'friend', 65: 'feel', 66: 'thank', 67: 'way', 68: 've', 69: 'late', 70: 'prize', 71: 'right', 72: 'msg', 73: 'find', 74: 'pick', 75: 'tomorrow', 76: 'yes', 77: 'let', 78: 'yeah', 79: 'e', 80: '1', 81: 'babe', 82: 'amp', 83: 'sleep', 84: 'min', 85: 'c', 86: 'life', 87: 'morning', 88: 'buy', 89: 'service', 90: 'cos', 91: 'cash', 92: 'year', 93: 'contact', 94: '3', 95: 'lol', 96: 'care', 97: 'tone', 98: 'look', 99: 'k', 100: 'sure', 101: 'smile', 102: 'wish', 103: 'watch', 104: 'nokia', 105: 'start', 106: 'award', 107: 'end', 108: 'urgent', 109: 'b', 110: 'finish', 111: 'place', 112: 'soon', 113: 'guy', 114: 'talk', 115: 'tonight', 116: 'customer', 117: 'mean', 118: 'chat', 119: 'help', 120: 'nice', 121: 'money', 122: 'word', 123: 'plan', 124: 'ya', 125: 'dun', 126: 'wan', 127: 'eat', 128: 'man', 129: 'check', 130: 'live', 131: 'gud', 132: 'v', 133: 'ìï', 134: 'hour', 135: 'people', 136: 'lot', 137: 'minute', 138: '16', 139: 'reach', 140: 'girl', 141: 'guarantee', 142: 'long', 143: 'happen', 144: 'thk', 145: 'x', 146: 'hello', 147: 'person', 148: 'haha', 149: 'early', 150: 'pay', 151: 'class', 152: 'offer', 153: 'play', 154: 'stuff', 155: 'fine', 156: 'forget', 157: 'y', 158: 'line', 159: 'receive', 160: 'use', 161: 'lunch', 162: 'job', 163: '5', 164: 'speak', 165: 'car', 166: 'bit', 167: 'draw', 168: 'holiday', 169: 'big', 170: 'heart', 171: 'sit', 172: 'enjoy', 173: 'month', 174: 'yup', 175: 'special', 176: 'hear', 177: '18', 178: 'account', 179: 'wake', 180: 'bring', 181: 'guess', 182: 'chance', 183: 'cool', 184: 'ready', 185: 'lose', 186: 'problem', 187: 'god', 188: 'mind', 189: 'cost', 190: 'weekend', 191: 'sm', 192: 'bad', 193: 'room', 194: 'dat', 195: 'lar', 196: 'half', 197: 'wanna', 198: 'drive', 199: 'shop', 200: 'book', 201: '1st', 202: 'date', 203: 'run', 204: 'yo', 205: 'voucher', 206: 'world', 207: 'camera', 208: 'charge', 209: 'real', 210: 'birthday', 211: 'landline', 212: 'house', 213: 'boy', 214: 'stay', 215: 'easy', 216: 'shit', 217: 'kiss', 218: 'dinner', 219: 'sweet', 220: 'å1000', 221: 'join', 222: 'sir', 223: 'liao', 224: 'jus', 225: 'box', 226: '6', 227: 'remember', 228: '150ppm', 229: 'question', 230: 'luv', 231: 'fuck', 232: 'point', 233: 'apply', 234: 'collect', 235: 'change', 236: 'aight', 237: 'shall', 238: 'probably', 239: 'pic', 240: 'fun', 241: 'xxx', 242: 'network', 243: 'pa', 244: 'bed', 245: 'hurt', 246: 'worry', 247: 'rate', 248: 'answer', 249: 'po', 250: 'video', 251: 'baby', 252: 'game', 253: 'actually', 254: 'den', 255: 'princess', 256: '9', 257: 'select', 258: 'bus', 259: 'ringtone', 260: 'maybe', 261: 'å2000', 262: 'thanx', 263: 'dunno', 264: 'orange', 265: '7', 266: 'code', 267: '2nd', 268: 'dis', 269: 'ah', 270: 'little', 271: 'walk', 272: 'dad', 273: 'frnd', 274: 'school', 275: 'evening', 276: 'leh', 277: 'face', 278: 'tcs', 279: 'mate', 280: 'pound', 281: 'afternoon', 282: 'tv', 283: 'tmr', 284: 'sound', 285: 'g', 286: 'movie', 287: 'gift', 288: 'await', 289: 'wif', 290: 'å150', 291: 'credit', 292: 'got', 293: 'decide', 294: 'test', 295: 'll', 296: 'mail', 297: 'sexy', 298: 'dream', 299: 'read', 300: 'post', 301: 'detail', 302: 'town', 303: 'entry', 304: 'update', 305: 'lesson', 306: 'close', 307: 'abt', 308: 'okay', 309: 'able', 310: 'hav', 311: 'important', 312: 'collection', 313: 'pain', 314: 'mob', 315: 'wk', 316: 'price', 317: 'juz', 318: 'enter', 319: 'order', 320: 'til', 321: 'smoke', 322: '500', 323: 'true', 324: 'plz', 325: 'office', 326: 'de', 327: 'away', 328: 'plus', 329: 'till', 330: 'hair', 331: 'wen', 332: 'pm', 333: 'break', 334: 'weekly', 335: 'wot', 336: 'dude', 337: 'attempt', 338: 'wonder', 339: 'drop', 340: 'valid', 341: 'tc', 342: 'alright', 343: 'yesterday', 344: 'double', 345: 'trip', 346: 'food', 347: 'bt', 348: 'haf', 349: 'hand', 350: 'ltdecimalgt', 351: 'oso', 352: 'music', 353: 'hold', 354: 'hot', 355: 'drink', 356: '150p', 357: 'lei', 358: 'set', 359: 'colour', 360: 'search', 361: 'invite', 362: 'delivery', 363: 'spend', 364: 'head', 365: 'ring', 366: 'friendship', 367: 'sch', 368: 'å100', 369: 'wife', 370: 'online', 371: 'ard', 372: 'mom', 373: '8', 374: 'second', 375: 'bonus', 376: 'cause', 377: 'address', 378: 'player', 379: 'xmas', 380: 'story', 381: 'nite', 382: 'wid', 383: 'choose', 384: 'tot', 385: 'sae', 386: 'fast', 387: 'family', 388: 'goin', 389: '8007', 390: 'sad', 391: 'brother', 392: 'å5000', 393: 'old', 394: 'todays', 395: 'match', 396: 'believe', 397: 'touch', 398: 'noe', 399: 'club', 400: 'okie', 401: 'huh', 402: 'beautiful', 403: 'simple', 404: 'email', 405: 'treat', 406: 'aft', 407: 'meeting', 408: 'busy', 409: 'private', 410: 'study', 411: 'gr8', 412: 'awesome', 413: 'die', 414: 'coz', 415: '86688', 416: 'eve', 417: 'land', 418: 'å500', 419: 't', 420: 'listen', 421: 'mum', 422: 'rite', 423: 'final', 424: 'caller', 425: 'congrat', 426: 'download', 427: 'statement', 428: 'expire', 429: 'age', 430: 'open', 431: 'hard', 432: 'content', 433: 'fancy', 434: 'company', 435: 'wil', 436: 'angry', 437: '750', 438: 'unsubscribe', 439: 'card', 440: 'sister', 441: 'valentine', 442: 'reason', 443: 'poly', 444: 'bored', 445: 'neva', 446: 'pub', 447: 'crazy', 448: 'value', 449: '100', 450: 'news', 451: 'tho', 452: 'tomo', 453: 'lucky', 454: 'prob', 455: 'bank', 456: 'worth', 457: 'sis', 458: 'knw', 459: 'sell', 460: 'parent', 461: 'auction', 462: 'available', 463: 'joke', 464: 'winner', 465: 'pobox', 466: 'ha', 467: 'smth', 468: 'catch', 469: 'uk', 470: 'saturday', 471: '08000930705', 472: 'pass', 473: 'cut', 474: 'song', 475: 'ticket', 476: 'uncle', 477: 'yr', 478: 'type', 479: 'log', 480: 'boytoy', 481: 'exam', 482: 'secret', 483: 'anytime', 484: 'sort', 485: 'far', 486: 'fone', 487: 'light', 488: 'mobileupd8', 489: 'å250', 490: '10', 491: 'welcome', 492: 'kind', 493: 'visit', 494: 'sun', 495: 'laugh', 496: 'add', 497: 'gd', 498: 'understand', 499: 'party', 500: 'wonderful', 501: 'fall', 502: 'camcorder', 503: 'save', 504: 'rain', 505: 'hit', 506: 'bday', 507: 'operator', 508: 'friday', 509: 'dog', 510: 'ltd', 511: 'wit', 512: 'carlos', 513: 'finally', 514: 'college', 515: 'oredi', 516: 'bill', 517: 'case', 518: 'return', 519: '150pmsg', 520: '08000839402', 521: 'project', 522: 'nope', 523: 'outside', 524: 'fri', 525: 'pretty', 526: 'sea', 527: 'cheap', 528: 'tsc', 529: 'drug', 530: 'û', 531: 'lovely', 532: 'wkly', 533: '12', 534: 'hungry', 535: 'confirm', 536: 'follow', 537: 'mu', 538: 'quiz', 539: 'course', 540: 'mrng', 541: 'darlin', 542: 'goodmorning', 543: '10p', 544: 'fix', 545: 'congratulation', 546: 'unlimited', 547: 'park', 548: 'jay', 549: 'bout', 550: 'th', 551: 'suppose', 552: 'cum', 553: 'term', 554: 'cs', 555: 'o', 556: 'kid', 557: 'train', 558: 'snow', 559: 'opt', 560: 'b4', 561: 'gal', 562: 'wrong', 563: 'promise', 564: 'turn', 565: 'etc', 566: 'short', 567: 'hee', 568: '0800', 569: 'shower', 570: 'computer', 571: 'mah', 572: 'joy', 573: 'bathe', 574: 'march', 575: 'tel', 576: 'fr', 577: '87066', 578: 'dnt', 579: 'single', 580: 'bslvyl', 581: 'txts', 582: 'figure', 583: 'currently', 584: 'moment', 585: 'motorola', 586: 'slow', 587: 'couple', 588: 'rock', 589: 'ass', 590: 'scream', 591: 'savamob', 592: 'sub', 593: '2003', 594: '800', 595: 'yar', 596: 'happiness', 597: 'area', 598: 'å350', 599: 'paper', 600: 'sex', 601: 'mayb', 602: 'murder', 603: 'surprise', 604: 'film', 605: 'chennai', 606: 'tht', 607: 'w', 608: 'gas', 609: 'freemsg', 610: 'eh', 611: 'national', 612: 'eg', 613: 'cheer', 614: 'crave', 615: 'hospital', 616: 'wow', 617: 'correct', 618: 'complimentary', 619: 'load', 620: 'askd', 621: 'direct', 622: 'tired', 623: 'ni8', 624: 'wine', 625: 'hell', 626: 'mr', 627: 'complete', 628: 'semester', 629: 'teach', 630: 'laptop', 631: 'cd', 632: 'blue', 633: 'small', 634: '150', 635: 'ago', 636: 'st', 637: 'chikku', 638: 'rental', 639: 'fucking', 640: 'remove', 641: 'ipod', 642: 'gym', 643: 'shopping', 644: 'darren', 645: 'eye', 646: 'store', 647: 'ugh', 648: 'extra', 649: 'photo', 650: 'fill', 651: 'support', 652: 'information', 653: 'grin', 654: 'luck', 655: 'write', 656: 'difficult', 657: 'john', 658: 'father', 659: 'comp', 660: 'usf', 661: 'request', 662: 'link', 663: 'comin', 664: 'abiola', 665: 'xx', 666: 'stand', 667: 'loan', 668: 'page', 669: 'txte', 670: 'safe', 671: 'muz', 672: 'bath', 673: 'orchard', 674: 'kate', 675: 'register', 676: 'deep', 677: 'expect', 678: 'lover', 679: 'disturb', 680: 'wana', 681: 'swing', 682: 'sim', 683: 'somebody', 684: 'forward', 685: 'discount', 686: 'india', 687: 'hmm', 688: 'rent', 689: 'lady', 690: 'unredeeme', 691: 'identifier', 692: 'marry', 693: 'warm', 694: 'clean', 695: 'door', 696: 'idea', 697: 'truth', 698: 'frm', 699: 'don', 700: 'cancel', 701: 'fren', 702: 'fantasy', 703: 'fact', 704: 'slowly', 705: 'nah', 706: 'callertune', 707: 'press', 708: 'copy', 709: 'reward', 710: 'info', 711: 'wap', 712: 'england', 713: 'child', 714: 'texte', 715: 'situation', 716: 'rply', 717: 'representative', 718: 'quote', 719: 'del', 720: 'uks', 721: 'lovable', 722: 'pray', 723: 'waste', 724: 'trust', 725: 'deal', 726: 'sign', 727: 'bcoz', 728: 'road', 729: 'kick', 730: 'admirer', 731: 'hmv', 732: 'stupid', 733: 'christmas', 734: 'immediately', 735: 'ex', 736: 'mm', 737: 'yep', 738: 'voice', 739: 'ldn', 740: 'ure', 741: 'different', 742: 'style', 743: 'monday', 744: 'fight', 745: 'water', 746: 'near', 747: 'opinion', 748: 'member', 749: 'em', 750: 'gap', 751: 'fantastic', 752: 'glad', 753: 'summer', 754: 'gettin', 755: 'reveal', 756: 'poor', 757: 'asap', 758: 'ntt', 759: 'thought', 760: '10pmin', 761: 'na', 762: 'doctor', 763: 'energy', 764: 'doin', 765: 'excuse', 766: 'std', 767: '11', 768: 'seriously', 769: 'worried', 770: 'sick', 771: 'clear', 772: 'oop', 773: 'forever', 774: '12hrs', 775: 'boss', 776: 'specially', 777: 'app', 778: 'sunshine', 779: 'sony', 780: 'lazy', 781: 'lect', 782: 'completely', 783: 'hmmm', 784: 'lift', 785: 'especially', 786: 'mrt', 787: 'appreciate', 788: 'flirt', 789: 'throw', 790: 'sport', 791: 'accept', 792: 'å200', 793: 'normal', 794: 'rest', 795: '11mths', 796: 'merry', 797: 'pete', 798: 'record', 799: 'access', 800: 'round', 801: 'urself', 802: 'bluetooth', 803: 'reference', 804: 'mistake', 805: '50', 806: 'kinda', 807: 'result', 808: 'optout', 809: 'meh', 810: 'silent', 811: '40', 812: 'hotel', 813: 'remind', 814: 'hurry', 815: 'noon', 816: 'ûò', 817: 'ho', 818: 'xy', 819: 'no1', 820: 'wwwgetzedcouk', 821: 'bid', 822: 'charity', 823: 'tampa', 824: 'user', 825: 'mid', 826: 'sale', 827: 'gay', 828: 'wear', 829: 'å800', 830: 'nyt', 831: 'hiya', 832: 'f', 833: 'convey', 834: 'p', 835: 'deliver', 836: 'mode', 837: 'bb', 838: 'share', 839: '2nite', 840: 'list', 841: 'thinkin', 842: 'flag', 843: 'colleague', 844: 'hr', 845: 'cup', 846: 'entitle', 847: 'anymore', 848: 'sunday', 849: '87077', 850: 'mark', 851: 'pizza', 852: 'quick', 853: 'learn', 854: 'roommate', 855: 'letter', 856: 'nigeria', 857: 'ice', 858: 'cinema', 859: 'trouble', 860: 'ave', 861: 'apartment', 862: 'inc', 863: 'inform', 864: '2004', 865: 'bother', 866: 'bak', 867: 'dvd', 868: 'lay', 869: 'goto', 870: '12hr', 871: 'freephone', 872: 'settle', 873: 'dead', 874: 'rs', 875: 'gt', 876: 'file', 877: 'street', 878: 'ufind', 879: 'rreveal', 880: 'specialcall', 881: 'goodnight', 882: 'tnc', 883: 'lemme', 884: 'horny', 885: 'tease', 886: 'rise', 887: 'high', 888: '4u', 889: '2day', 890: 'power', 891: 'woman', 892: 'wiv', 893: 'weed', 894: 'hgsuite3422land', 895: 'picture', 896: 'facebook', 897: 'yahoo', 898: 'aha', 899: '3030', 900: 'respond', 901: 'tough', 902: 'din', 903: 'fat', 904: 'finger', 905: 'self', 906: 'workin', 907: 'daddy', 908: 'present', 909: 'future', 910: '25p', 911: 'pc', 912: 'tuesday', 913: 'student', 914: 'tonite', 915: 'library', 916: 'space', 917: 'slave', 918: 'omg', 919: 'bag', 920: 'moon', 921: 'travel', 922: 'possible', 923: 'mo', 924: 'medical', 925: 'il', 926: 'digital', 927: 'cute', 928: 'arrive', 929: 'south', 930: 'btnationalrate', 931: 'wednesday', 932: 'se', 933: 'mon', 934: 'mood', 935: 'sofa', 936: 'tear', 937: 'issue', 938: 'police', 939: 'bugis', 940: 'la', 941: 'cine', 942: 'å900', 943: 'co', 944: 'cry', 945: 'click', 946: 'team', 947: 'suck', 948: 'ahead', 949: 'realize', 950: 'kill', 951: 'wun', 952: 'include', 953: 'pleasure', 954: '530', 955: 'password', 956: 'forgot', 957: 'location', 958: 'cuz', 959: 'umma', 960: 'eatin', 961: 'country', 962: 'begin', 963: 'shirt', 964: 'arrange', 965: 'menu', 966: 'hop', 967: 'discuss', 968: 'experience', 969: 'net', 970: 'buck', 971: 'connection', 972: 'past', 973: 'battery', 974: 'uve', 975: 'naked', 976: 'quality', 977: 'usual', 978: 'ge', 979: 'sense', 980: 'loyalty', 981: 'coffee', 982: 'imagine', 983: 'key', 984: 'kb', 985: 'yoga', 986: 'rcvd', 987: 'insurance', 988: 'cashbalance', 989: 'maximize', 990: 'cashin', 991: 'sigh', 992: 'al', 993: 'ad', 994: 'dollar', 995: 'notice', 996: 'tenerife', 997: 'sec', 998: 'depend', 999: 'character', 1000: 'gb', 1001: 'mp3', 1002: 'xma', 1003: '85023', 1004: 'å300', 1005: 'malaria', 1006: 'omw', 1007: 'weight', 1008: 'izzit', 1009: 'spree', 1010: 'custcare', 1011: 'ar', 1012: 'imma', 1013: 'shuhui', 1014: 'weather', 1015: 'alex', 1016: 'pop', 1017: 'funny', 1018: 'login', 1019: 'fetch', 1020: '20', 1021: 'awake', 1022: 'bedroom', 1023: 'king', 1024: 'torch', 1025: 'bold', 1026: 'holla', 1027: 'lttimegt', 1028: '36504', 1029: 'polys', 1030: 'hai', 1031: 'midnight', 1032: 'january', 1033: '08712460324', 1034: 'sk38xh', 1035: 'recently', 1036: 'heavy', 1037: 'miracle', 1038: 'flower', 1039: 'regard', 1040: 'station', 1041: 'doc', 1042: 'honey', 1043: 'cell', 1044: 'shd', 1045: 'vl', 1046: '20p', 1047: '1327', 1048: 'croydon', 1049: 'cr9', 1050: '5wb', 1051: 'bear', 1052: 'vomit', 1053: 'excellent', 1054: 'instead', 1055: 'buzz', 1056: 'inside', 1057: 'sight', 1058: 'remain', 1059: 'thnk', 1060: 'cook', 1061: 'costa', 1062: 'sol', 1063: 'role', 1064: 'pix', 1065: 'hw', 1066: 'murderer', 1067: 'hug', 1068: 'cover', 1069: 'med', 1070: 'melle', 1071: 'hl', 1072: 'naughty', 1073: 'stock', 1074: 'egg', 1075: 'tea', 1076: 'pack', 1077: 'burn', 1078: 'inch', 1079: 'tyler', 1080: 'usually', 1081: 'fyi', 1082: 'ride', 1083: '150pm', 1084: 'pleased', 1085: 'review', 1086: 'coin', 1087: 'donût', 1088: 'simply', 1089: 'verify', 1090: 'hol', 1091: 'consider', 1092: 'lie', 1093: 'directly', 1094: '08712300220', 1095: 'standard', 1096: 'q', 1097: 'local', 1098: 'ki', 1099: 'delete', 1100: '62468', 1101: 'personal', 1102: 'balance', 1103: 'straight', 1104: 'system', 1105: 'partner', 1106: 'star', 1107: 'argument', 1108: 'kallis', 1109: 'cal', 1110: 'handset', 1111: 'dint', 1112: 'sunny', 1113: 'hang', 1114: 'definitely', 1115: 'track', 1116: 'report', 1117: '1000s', 1118: 'interested', 1119: 'yijue', 1120: 'num', 1121: 'fault', 1122: 'ish', 1123: 'cc', 1124: 'cold', 1125: 'air', 1126: '1000', 1127: 'cuddle', 1128: 'willing', 1129: 'mei', 1130: 'guide', 1131: 'relax', 1132: 'dai', 1133: 'fullonsmscom', 1134: 'irritate', 1135: 'shell', 1136: 'wnt', 1137: 'vry', 1138: 'vary', 1139: 'askin', 1140: 'group', 1141: 'ttyl', 1142: 'decision', 1143: 'transfer', 1144: 'moan', 1145: '8th', 1146: 'fb', 1147: 'activate', 1148: 'condition', 1149: 'bore', 1150: 'tat', 1151: 'pin', 1152: 'adult', 1153: 'campus', 1154: 'l8r', 1155: 'lead', 1156: 'aiyo', 1157: 'barely', 1158: 'marriage', 1159: 'announcement', 1160: 'daily', 1161: 'vodafone', 1162: 'holder', 1163: 'evng', 1164: 'envelope', 1165: 'prepare', 1166: 'weird', 1167: 'wer', 1168: 'aftr', 1169: 'exactly', 1170: 'yay', 1171: 'advance', 1172: 'damn', 1173: 'sing', 1174: 'pobox84', 1175: 'w45wq', 1176: 'norm150ptone', 1177: 'model', 1178: 'boo', 1179: '2u', 1180: 'skype', 1181: 'surely', 1182: 'version', 1183: 'yrs', 1184: 'matter', 1185: 'bird', 1186: 'sup', 1187: 'fail', 1188: 'attend', 1189: 'expensive', 1190: 'ull', 1191: 'brand', 1192: 'nxt', 1193: 'games', 1194: 'contract', 1195: 'j', 1196: 'loverboy', 1197: 'fool', 1198: 'sipix', 1199: 'receipt', 1200: 'black', 1201: 'aiyah', 1202: 'httpwwwurawinnercom', 1203: 'lets', 1204: 'howz', 1205: 'oz', 1206: 'choice', 1207: 'arm', 1208: 'tour', 1209: 'alrite', 1210: 'super', 1211: '08707509020', 1212: 'meaning', 1213: 'vote', 1214: 'lmao', 1215: '4th', 1216: 'nature', 1217: '0870', 1218: 'internet', 1219: '86021', 1220: 'freak', 1221: 'london', 1222: 'title', 1223: 'lookin', 1224: 'hook', 1225: 'arcade', 1226: 'create', 1227: 'exciting', 1228: 'hate', 1229: '09050090044', 1230: 'toclaim', 1231: 'pobox334', 1232: 'stockport', 1233: 'costå150pm', 1234: 'max10min', 1235: 'theatre', 1236: 'ahmad', 1237: 'training', 1238: 'official', 1239: 'armand', 1240: 'foot', 1241: 'vikky', 1242: 'pussy', 1243: 'solve', 1244: 'budget', 1245: 'plenty', 1246: 'amazing', 1247: 'cancer', 1248: 'feb', 1249: 'ignore', 1250: 'tariff', 1251: 'tick', 1252: 'mth', 1253: 'å400', 1254: 'blessing', 1255: 'wet', 1256: 'iûm', 1257: 'subscription', 1258: 'hopefully', 1259: 'weak', 1260: 'red', 1261: 'plane', 1262: 'urgnt', 1263: 'appointment', 1264: 'boston', 1265: 'truly', 1266: 'cabin', 1267: 'unredeemed', 1268: 'identifi', 1269: 'voda', 1270: '82277', 1271: 'large', 1272: 'interview', 1273: 'avoid', 1274: 'transaction', 1275: 'cross', 1276: 'sam', 1277: '25', 1278: 'print', 1279: 'argue', 1280: 'website', 1281: 'bcum', 1282: 'childish', 1283: 'ray', 1284: 'bf', 1285: 'anybody', 1286: 'meal', 1287: 'hide', 1288: 'selection', 1289: 'enemy', 1290: 'december', 1291: 'flight', 1292: 'surf', 1293: 'basically', 1294: 'sonyericsson', 1295: 'geeee', 1296: 'didt', 1297: 'bar', 1298: 'body', 1299: 'lick', 1300: 'intro', 1301: 'pilate', 1302: 'current', 1303: 'darling', 1304: 'yan', 1305: 'jiu', 1306: 'competition', 1307: 'logo', 1308: 'pobox36504w45wq', 1309: 'hostel', 1310: 'hv', 1311: 'amt', 1312: 'si', 1313: 'donåõt', 1314: 'flat', 1315: 'some1', 1316: 'village', 1317: 'stylish', 1318: 'unsub', 1319: 'age16', 1320: 'english', 1321: '2mrw', 1322: 'quit', 1323: 'jazz', 1324: 'yogasana', 1325: '1x150pwk', 1326: 'exhaust', 1327: 'indian', 1328: 'somethin', 1329: 'euro2004', 1330: 'forwarded', 1331: '80062', 1332: 'thursday', 1333: 'cartoon', 1334: 'gentle', 1335: 'earth', 1336: 'belly', 1337: 'law', 1338: 'purchase', 1339: 'alert', 1340: 'dey', 1341: 'assume', 1342: 'twice', 1343: 'å10', 1344: 'clock', 1345: 'realy', 1346: 'meetin', 1347: 'tis', 1348: 'row', 1349: 'polyphonic', 1350: 'piece', 1351: 'wwwcomuknet', 1352: 'zed', 1353: 'mother', 1354: 'white', 1355: 'ym', 1356: 'diet', 1357: 'iam', 1358: 'mins', 1359: 'å10000', 1360: 'blow', 1361: 'score', 1362: '08718720201', 1363: 'bowl', 1364: 'site', 1365: 'videophone', 1366: 'videochat', 1367: 'java', 1368: 'dload', 1369: 'noline', 1370: 'rentl', 1371: 'yun', 1372: 'jesus', 1373: 'kerala', 1374: 'asleep', 1375: 'stamp', 1376: 'raise', 1377: '3rd', 1378: 'april', 1379: 'bitch', 1380: 'xchat', 1381: 'frndship', 1382: 'subscriber', 1383: 'interesting', 1384: 'uni', 1385: 'o2', 1386: 'italian', 1387: 'driving', 1388: 'speed', 1389: 'horrible', 1390: 'nw', 1391: 'island', 1392: 'strong', 1393: '150ptone', 1394: 'chinese', 1395: 'cbe', 1396: 'original', 1397: 'arrest', 1398: 'linerental', 1399: 'cafe', 1400: 'gee', 1401: 'totally', 1402: 'rem', 1403: 'fly', 1404: 'google', 1405: 'messageit', 1406: 'centre', 1407: 'airport', 1408: 'blank', 1409: 'chase', 1410: '250', 1411: 'adore', 1412: 'eerie', 1413: 'allow', 1414: 'rd', 1415: 'connect', 1416: 'bin', 1417: 'social', 1418: 'bun', 1419: 'beer', 1420: 'dirty', 1421: 'season', 1422: 'moral', 1423: 'nvm', 1424: 'obviously', 1425: 'boost', 1426: 'affair', 1427: 'art', 1428: 'inclusive', 1429: 'ip4', 1430: '5we', 1431: 'hill', 1432: 'minut', 1433: 'latr', 1434: 'caken', 1435: 'unable', 1436: 'spook', 1437: 'sky', 1438: 'limit', 1439: 'dress', 1440: 'random', 1441: 'ru', 1442: 'er', 1443: 'advice', 1444: 'process', 1445: '28', 1446: 'note', 1447: 'celebrate', 1448: 'relation', 1449: 'lik', 1450: '3510i', 1451: '300', 1452: 'ans', 1453: 'step', 1454: 'common', 1455: 'oni', 1456: 'fa', 1457: 'tkts', 1458: '87121', 1459: 'tb', 1460: 'oru', 1461: '87575', 1462: 'spell', 1463: 'thatåõs', 1464: 'str', 1465: 'force', 1466: 'fry', 1467: 'gram', 1468: 'smart', 1469: 'crash', 1470: 'embarasse', 1471: 'ac', 1472: 'series', 1473: 'iq', 1474: 'advise', 1475: 'å1500', 1476: 'valuable', 1477: 'wah', 1478: 'machan', 1479: 'sheet', 1480: 'becoz', 1481: 'fml', 1482: 'legal', 1483: 'nyc', 1484: 'research', 1485: 'scare', 1486: 'tt', 1487: 'flights', 1488: '786', 1489: 'kkhow', 1490: 'ansr', 1491: 'sptyrone', 1492: 'dogging', 1493: 'ec2a', 1494: 'befor', 1495: 'activity', 1496: 'netcollex', 1497: 'qatar', 1498: 'window', 1499: 'module', 1500: 'escape', 1501: 'bloody', 1502: 'anyways', 1503: '0808', 1504: '145', 1505: '4742', 1506: '9am11pm', 1507: 'radio', 1508: 'shoot', 1509: '2optout', 1510: 'career', 1511: 'penny', 1512: 'theory', 1513: 'wwwldewcom1win150ppmx3age16', 1514: 'affection', 1515: 'kettoda', 1516: 'manda', 1517: 'mmm', 1518: 'bay', 1519: 'cam', 1520: 'accidentally', 1521: 'upgrade', 1522: 'def', 1523: 'belovd', 1524: 'afraid', 1525: '08002986906', 1526: 'cake', 1527: 'cud', 1528: 'ppl', 1529: 'waitin', 1530: '85', 1531: '83600', 1532: 'wtf', 1533: 'roww1j6hl', 1534: '87131', 1535: 'cream', 1536: 'ship', 1537: 'goal', 1538: 'esplanade', 1539: 'source', 1540: 'wc1n3xx', 1541: 'gorgeous', 1542: 'improve', 1543: 'purpose', 1544: 'tenant', 1545: 'refuse', 1546: 'intelligent', 1547: 'bye', 1548: '5000', 1549: 'cw25wx', 1550: 'dry', 1551: 'center', 1552: 'jada', 1553: 'kusruthi', 1554: 'spl', 1555: 'matured', 1556: '83355', 1557: 'mono', 1558: 'cha', 1559: 'rude', 1560: 'pg', 1561: 'passionate', 1562: 'confidence', 1563: 'bloke', 1564: 'btw', 1565: 'iûll', 1566: 'essential', 1567: 'lab', 1568: '2000', 1569: 'bite', 1570: 'dance', 1571: '08715705022', 1572: 'grand', 1573: '542', 1574: 'pie', 1575: 'grow', 1576: 'bud', 1577: 'effect', 1578: 'temple', 1579: 'church', 1580: 'bet', 1581: 'hella', 1582: 'lonely', 1583: 'explain', 1584: 'map', 1585: 'drivin', 1586: 'height', 1587: '10am7pm', 1588: 'stress', 1589: 'txtauction', 1590: 'feeling', 1591: 'shout', 1592: 'realise', 1593: 'subscribe', 1594: 'å3', 1595: 'act', 1596: 'city', 1597: 'apparently', 1598: 'beg', 1599: 'perfect', 1600: 'dictionary', 1601: 'm263uz', 1602: 'appt', 1603: 'ache', 1604: '3qxj9', 1605: '9ae', 1606: 'profit', 1607: 'brain', 1608: 'green', 1609: 'cust', 1610: 'sura', 1611: 'ibiza', 1612: 'ppm', 1613: 'suite', 1614: 'careful', 1615: 'vip', 1616: 'supply', 1617: 'wall', 1618: 'ta', 1619: 'derek', 1620: 'pissed', 1621: 'pig', 1622: 'addict', 1623: 'ma', 1624: 'acc', 1625: 'fever', 1626: 'gravity', 1627: 'carefully', 1628: 'salary', 1629: 'talent', 1630: 'butt', 1631: 'sore', 1632: 'aunt', 1633: '150pmin', 1634: 'throat', 1635: 'lecture', 1636: 'concentrate', 1637: 'june', 1638: 'vijay', 1639: 'dem', 1640: 'ne', 1641: 'aiyar', 1642: 'rally', 1643: 'shame', 1644: 'å3wk', 1645: 'mite', 1646: 'txtin', 1647: '4info', 1648: '08712405020', 1649: 'exact', 1650: 'favour', 1651: 'lion', 1652: 'wwwringtonescouk', 1653: '3gbp', 1654: 'idiot', 1655: 'dark', 1656: 'february', 1657: 'rush', 1658: '6hrs', 1659: 'thinking', 1660: 'blackberry', 1661: 'pple', 1662: 'moji', 1663: 'upload', 1664: '4get', 1665: 'urn', 1666: 'tuition', 1667: 'practice', 1668: '150pmsgrcvdhgsuite3422landsroww1j6hl', 1669: 'aiya', 1670: 'bright', 1671: 'pod', 1672: '020603', 1673: '7th', 1674: '6th', 1675: '5th', 1676: 'personality', 1677: 'tablet', 1678: 'purity', 1679: 'total', 1680: 'shortly', 1681: 'forum', 1682: 'ron', 1683: '7250i', 1684: 'roww1jhl', 1685: 'yuo', 1686: 'tihs', 1687: 'bishan', 1688: 'preferably', 1689: 'idk', 1690: 'jst', 1691: 'moby', 1692: 'action', 1693: 'maintain', 1694: 'queen', 1695: '60pmin', 1696: 'stick', 1697: 'bahama', 1698: 'setting', 1699: 'atlanta', 1700: 'takin', 1701: 'jess', 1702: 'package', 1703: 'upto', 1704: '08001950382', 1705: 'godi', 1706: 'youclean', 1707: 'bloodsend', 1708: 'itplspls', 1709: 'push', 1710: 'pull', 1711: 'master', 1712: 'cat', 1713: 'hip', 1714: 'havnt', 1715: '87239', 1716: 'rule', 1717: 'freefone', 1718: 'natural', 1719: 'infernal', 1720: 'yer', 1721: '84199', 1722: 'eng', 1723: 'box39822', 1724: 'w111wx', 1725: 'mad', 1726: 'manage', 1727: 'kidz', 1728: 'ntwk', 1729: '630', 1730: 'leg', 1731: 'å450', 1732: '8552', 1733: 'wkend', 1734: 'football', 1735: 'happend', 1736: 'sugar', 1737: 'roger', 1738: 'brilliant', 1739: 'greeting', 1740: 'release', 1741: 'bx420', 1742: 'ruin', 1743: 'boring', 1744: 'sept', 1745: 'housemaid', 1746: 'public', 1747: 'govtinstituition', 1748: 'closedinclude', 1749: 'dare', 1750: 'low', 1751: 'iz', 1752: 'handle', 1753: 'gets', 1754: 'porn', 1755: '730', 1756: 'tm', 1757: 'abi', 1758: 'grl', 1759: 'cheat', 1760: '09061221066', 1761: 'fromm', 1762: 'wylie', 1763: 'basic', 1764: 'outta', 1765: 'captain', 1766: 'taunton', 1767: 'loss', 1768: 'santa', 1769: '21st', 1770: '2005', 1771: 'minnaminunginte', 1772: 'nurungu', 1773: 'vettam', 1774: 'membership', 1775: 'scotland', 1776: 'slice', 1777: 'fear', 1778: 'timing', 1779: 'xuhui', 1780: 'yummy', 1781: 'callsmessagesmisse', 1782: 'fair', 1783: 'lturlgt', 1784: '09061209465', 1785: 'suprman', 1786: 'matrix3', 1787: 'starwars3', 1788: 'bx420ip45we', 1789: 'burger', 1790: 'dresser', 1791: 'recent', 1792: 'gentleman', 1793: 'dignity', 1794: 'respect', 1795: 'earn', 1796: 'nitro', 1797: 'pour', 1798: 'sum1', 1799: 'lido', 1800: 'mix', 1801: 'ham', 1802: 'vava', 1803: 'loud', 1804: 'k52', 1805: 'wa', 1806: 'sentence', 1807: 'anythin', 1808: '45239', 1809: 'apologise', 1810: 'hardcore', 1811: 'occupy', 1812: 'dot', 1813: 'female', 1814: 'birla', 1815: 'soft', 1816: 'flow', 1817: 'floor', 1818: 'utter', 1819: 'spanish', 1820: 'mall', 1821: 'maneesha', 1822: 'satisfied', 1823: 'toll', 1824: 'mummy', 1825: 'unique', 1826: 'august', 1827: 'suggest', 1828: 'successfully', 1829: 'dats', 1830: 'atm', 1831: 'repair', 1832: 'romantic', 1833: '89545', 1834: 'å1', 1835: 'www4tcbiz', 1836: '08718726270150gbpmtmsg18', 1837: 'teacher', 1838: 'tomarrow', 1839: 'avent', 1840: 'slipper', 1841: 'bat', 1842: 'dearly', 1843: '125gift', 1844: 'ranjith', 1845: '5min', 1846: 'shipping', 1847: 'mini', 1848: 'flash', 1849: 'jealous', 1850: 'chart', 1851: 'genuine', 1852: 'infowww100percentrealcom', 1853: 'celebration', 1854: 'gautham', 1855: 'buzy', 1856: 'tmobile', 1857: '0845', 1858: 'scary', 1859: '21', 1860: 'themob', 1861: 'gossip', 1862: 'fit', 1863: 'garage', 1864: 'dayu', 1865: 'dear1', 1866: 'best1', 1867: 'clos1', 1868: 'lvblefrnd', 1869: 'jstfrnd', 1870: 'cutefrnd', 1871: 'lifpartnr', 1872: 'swtheart', 1873: 'bstfrnd', 1874: 'm26', 1875: '3uz', 1876: 'pongal', 1877: 'gona', 1878: 'germany', 1879: 'steal', 1880: 'supervisor', 1881: 'lifetime', 1882: 'sleepingand', 1883: 'favourite', 1884: 'shag', 1885: 'slap', 1886: 'alcohol', 1887: 'breathe', 1888: 'now', 1889: 'spoil', 1890: 'recognise', 1891: 'ptbo', 1892: '4mths', 1893: 'mobilesdirect', 1894: '08000938767', 1895: 'or2stoptxt', 1896: 'shut', 1897: 'period', 1898: 'business', 1899: 'quickly', 1900: 'chechi', 1901: 'tree', 1902: 'skip', 1903: 'blah', 1904: 'aathiwhere', 1905: 'bmw', 1906: 'urgentlyit', 1907: 'urgentbut', 1908: 'shortage', 1909: 'lacsthere', 1910: 'arng', 1911: 'lacsthat', 1912: '3mins', 1913: 'iouri', 1914: 'yeshe', 1915: 'oic', 1916: 'å75000', 1917: 'homeowner', 1918: 'previously', 1919: '1956669', 1920: 'oreo', 1921: 'ear', 1922: 'july', 1923: 'railway', 1924: 'doggy', 1925: 'fave', 1926: 'position', 1927: 'dave', 1928: '9ja', 1929: 'wise', 1930: 'aathilove', 1931: 'boye', 1932: 'fightng', 1933: 'dificult', 1934: 'fish', 1935: '123', 1936: 'å1450', 1937: 'tcsstop', 1938: 'fee', 1939: 'prabhaim', 1940: 'sorydarealyfrm', 1941: 'sory', 1942: 'forgive', 1943: 'ibhltd', 1944: 'ldnw15h', 1945: '150pmtmsgrcvd18', 1946: 'slide', 1947: 'nos', 1948: 'behave', 1949: 'box95qu', 1950: '08717898035', 1951: 'todaysundaysunday', 1952: 'holidayso', 1953: 'lt', 1954: 'ummmmmaah', 1955: 'tirupur', 1956: 'develop', 1957: 'cock', 1958: 'generally', 1959: 'blood', 1960: 'milk', 1961: 'loose', 1962: 'itûs', 1963: 'thatûs', 1964: 'likely', 1965: 'american', 1966: 'callin', 1967: 'dick', 1968: 'snake', 1969: 'headache', 1970: '80878', 1971: 'swim', 1972: '2morow', 1973: 'nichols', 1974: '83222', 1975: 'que', 1976: 'beauty', 1977: 'leona', 1978: 'market', 1979: 'postcode', 1980: 'seven', 1981: 'weûre', 1982: 'peace', 1983: '89555', 1984: 'textoperator', 1985: 'building', 1986: 'ws', 1987: 'uu', 1988: 'maxå7', 1989: 'spring', 1990: 'gimme', 1991: 'lip', 1992: 'confuse', 1993: 'spare', 1994: 'paris', 1995: 'yest', 1996: 'mas', 1997: '88039', 1998: 'skilgme', 1999: 'opening', 2000: 'diff', 2001: 'community', 2002: 'subpoly', 2003: 'bein', 2004: 'jan', 2005: 'weigh', 2006: '3d', 2007: 'hint', 2008: '08702840625comuk', 2009: '220cm2', 2010: 'alfie', 2011: 'm8s', 2012: 'nokias', 2013: '08701417012', 2014: 'hahahause', 2015: 'recd', 2016: 'successful', 2017: '2morrow', 2018: '434', 2019: 'sk3', 2020: '8wp', 2021: 'stomach', 2022: 'spk', 2023: 'sn', 2024: 'virgin', 2025: 'nap', 2026: 'shesil', 2027: '10k', 2028: 'liverpool', 2029: 'reminder', 2030: 'mac', 2031: 'wifehow', 2032: 'opportunity', 2033: 'outstanding', 2034: 'taylor', 2035: 'greet', 2036: 'male', 2037: 'msge', 2038: '88600', 2039: '11414', 2040: 'tcrw1', 2041: 'magical', 2042: 'welp', 2043: 'chicken', 2044: 'potential', 2045: '09063458130', 2046: 'polyph', 2047: 'fuckin', 2048: 'yetunde', 2049: 'terrible', 2050: 'fan', 2051: 'exe', 2052: 'prey', 2053: 'foreign', 2054: 'speechless', 2055: 'roast', 2056: 'euro', 2057: 'drunk', 2058: '84025', 2059: 'technical', 2060: 'juicy', 2061: 'dearer', 2062: 'evn', 2063: 'alwy', 2064: '09061790121', 2065: 'wind', 2066: 'math', 2067: 'okok', 2068: 'okthenwhat', 2069: 'error', 2070: 'hgsuite3422landsroww1j6hl', 2071: 'jordan', 2072: 'pocketbabecouk', 2073: 'voicemail', 2074: 'natuition', 2075: 'walmart', 2076: 'kkim', 2077: '87021', 2078: 'rofl', 2079: 'anti', 2080: 'delay', 2081: 'morn', 2082: 'havin', 2083: 'hun', 2084: 'executive', 2085: '2moro', 2086: 'jane', 2087: 'express', 2088: 'ipad', 2089: 'fran', 2090: 'ps', 2091: 'software', 2092: 'whenevr', 2093: 'interest', 2094: 'chill', 2095: 'chillin', 2096: 'saucy', 2097: 'chain', 2098: 'suffer', 2099: 'suntec', 2100: 'messenger', 2101: '3cover', 2102: 'screen', 2103: '4press', 2104: '5gently', 2105: 'tom', 2106: 'shot', 2107: 'storm', 2108: 'phne', 2109: 'wt', 2110: 'margaret', 2111: 'girlfrnd', 2112: 'grahmbell', 2113: 'invnte', 2114: 'telphone', 2115: 'moralone', 2116: 'unsold', 2117: 'shld', 2118: 'beware', 2119: 'option', 2120: 'goodnite', 2121: 'arsenal', 2122: 'painful', 2123: 'everybody', 2124: 'sen', 2125: 'missin', 2126: 'guilty', 2127: 'cardiff', 2128: 'addie', 2129: 'tue', 2130: 'tscs', 2131: 'monkey', 2132: 'certainly', 2133: 'stupidit', 2134: 'claire', 2135: 'aah', 2136: '09066362231', 2137: '07xxxxxxxxx', 2138: 'hubby', 2139: 'blake', 2140: 'lotr', 2141: '80488', 2142: 'karaoke', 2143: 'ese', 2144: 'prospect', 2145: 'buff', 2146: 'gang', 2147: 'adventure', 2148: 'brothas', 2149: 'lt3', 2150: 'fire', 2151: 'blame', 2152: 'surprised', 2153: '82242', 2154: 'event', 2155: 'monthly', 2156: 'cramp', 2157: 'nan', 2158: '81303', 2159: 'dislike', 2160: '121', 2161: 'james', 2162: 'di', 2163: 'cruise', 2164: '18only', 2165: 'iåõm', 2166: '0', 2167: 'arun', 2168: 'philosophy', 2169: 'husband', 2170: 'norm', 2171: 'toa', 2172: 'payoh', 2173: 'payment', 2174: 'fathima', 2175: 'mmmm', 2176: 'nearly', 2177: 'jog', 2178: '18yr', 2179: 'abta', 2180: '80182', 2181: '08452810073', 2182: 'table', 2183: 'build', 2184: 'ikea', 2185: 'cn', 2186: 'kadeem', 2187: 'carry', 2188: 'avatar', 2189: 'constantly', 2190: 'lousy', 2191: 'ic', 2192: 'wrk', 2193: 'honeybee', 2194: 'sweetest', 2195: 'waitu', 2196: 'crack', 2197: 'gmgngegn', 2198: 'boat', 2199: 'proof', 2200: 'provide', 2201: 'major', 2202: 'birth', 2203: 'responsibility', 2204: 'onwards', 2205: 'calicut', 2206: 'box97n7qp', 2207: 'giv', 2208: 'normally', 2209: 'rich', 2210: 'yor', 2211: 'jason', 2212: 'argh', 2213: 'diamond', 2214: 'tessypl', 2215: 'favor', 2216: 'nimyapls', 2217: 'shijas', 2218: 'china', 2219: 'morphine', 2220: 'prefer', 2221: 'mile', 2222: 'smash', 2223: 'rajipls', 2224: 'nimya', 2225: 'continue', 2226: 'shelf', 2227: 'distance', 2228: 'knock', 2229: 'temp', 2230: 'display', 2231: 'soup', 2232: 'management', 2233: 'regular', 2234: 'lounge', 2235: 'u4', 2236: '88066', 2237: 'journey', 2238: 'cornwall', 2239: 'sp', 2240: 'iscome', 2241: '80082', 2242: 'halloween', 2243: 'logopic', 2244: 'regret', 2245: 'measure', 2246: 'thm', 2247: 'wn', 2248: 'instantly', 2249: 'impossible', 2250: 'messageno', 2251: 'responcewhat', 2252: 'vodka', 2253: 'gain', 2254: 'thangam', 2255: 'okey', 2256: '1his', 2257: '2police', 2258: '3wife', 2259: 'siri', 2260: '4cook', 2261: '5gardener', 2262: 'vegetable', 2263: '6housemaid', 2264: '7children', 2265: '8neighbour', 2266: 'bloo', 2267: 'indians', 2268: 'citizen', 2269: 'block', 2270: 'lock', 2271: '09066612661', 2272: 'calling', 2273: 'shove', 2274: '24', 2275: 'require', 2276: 'resume', 2277: 'maga', 2278: 'medicine', 2279: 'incident', 2280: 'violence', 2281: 'erm', 2282: 'instruction', 2283: 'death', 2284: 'usualiam', 2285: '1030', 2286: 'reality', 2287: 'booty', 2288: 'bro', 2289: 'bros', 2290: 'response', 2291: 'pout', 2292: 'stomp', 2293: 'serve', 2294: '2stoptxt', 2295: 'officeunderstand', 2296: 'luxury', 2297: 'ben', 2298: 'middle', 2299: 'replace', 2300: 'enuff', 2301: 'strike', 2302: 'seat', 2303: '50p', 2304: 'flake', 2305: 'gary', 2306: 'history', 2307: 'bell', 2308: 'reboot', 2309: 'disconnect', 2310: 'hm', 2311: 'crab', 2312: 'footprint', 2313: 'thur', 2314: 'kano', 2315: 'mess', 2316: 'count', 2317: 'challenge', 2318: 'randomly', 2319: 'tape', 2320: 'auto', 2321: '450', 2322: '1u', 2323: '3u', 2324: 'deliveredtomorrow', 2325: 'in2', 2326: 'callback', 2327: 'ts', 2328: 'wedding', 2329: 'accident', 2330: 'wisdom', 2331: 'cannt', 2332: 'piss', 2333: 'symbol', 2334: 'prolly', 2335: 'åð', 2336: '200', 2337: 'dubsack', 2338: 'macho', 2339: 'audition', 2340: 'difference', 2341: 'forevr', 2342: 'stone', 2343: 'possession', 2344: 'concert', 2345: 'dial', 2346: 'university', 2347: 'california', 2348: 'mnth', 2349: 'tog', 2350: 'repeat', 2351: 'haiz', 2352: 'previous', 2353: 'dsnt', 2354: '30', 2355: 'comedy', 2356: 'allah', 2357: 'warner', 2358: 'bottle', 2359: 'buffet', 2360: 'questionstd', 2361: 'ratetcs', 2362: '08452810075over18', 2363: 'hor', 2364: 'darle', 2365: 'rcv', 2366: 'receivea', 2367: '09061701461', 2368: 'kl341', 2369: '08002986030', 2370: '20000', 2371: 'csh11', 2372: '150pday', 2373: '6days', 2374: 'tsandcs', 2375: 'å100000', 2376: 'jackpot', 2377: '81010', 2378: 'wwwdbuknet', 2379: 'lccltd', 2380: '4403ldnw1a7rw18', 2381: 'sarcastic', 2382: 'mmmmmm', 2383: 'sucker', 2384: 'eighth', 2385: 'sptv', 2386: 'detroit', 2387: 'hockey', 2388: 'odi', 2389: '09066364589', 2390: 'dedicated', 2391: 'dedicate', 2392: 'eurodisinc', 2393: 'trav', 2394: 'acoentry41', 2395: '186å150morefrmmob', 2396: 'shracomorsglsuplt10', 2397: 'ls1', 2398: '3aj', 2399: 'divorce', 2400: 'finished', 2401: 'kkwhere', 2402: 'perform', 2403: 'shy', 2404: 'jacket', 2405: 'ela', 2406: '169', 2407: '6031', 2408: '10am9pm', 2409: '85069', 2410: 'usher', 2411: 'britney', 2412: '\\r', 2413: 'noun', 2414: 'gent', 2415: '09064012160', 2416: 'puttin', 2417: 'goodo', 2418: 'tortilla', 2419: '07742676969', 2420: '08719180248', 2421: '350', 2422: 'predict', 2423: 'involve', 2424: 'sum', 2425: 'algarve', 2426: '69888', 2427: '31pmsg150p', 2428: 'msn', 2429: 'pouch', 2430: 'swt', 2431: 'staff', 2432: 'randy', 2433: '08700621170150p', 2434: 'plaza', 2435: 'mouth', 2436: '0871277810810', 2437: 'beloved', 2438: 'formclark', 2439: 'approach', 2440: 'handsome', 2441: 'wishin', 2442: 'hamster', 2443: 'refill', 2444: 'inr', 2445: 'keralacircle', 2446: 'prepaid', 2447: 'kr', 2448: 'ericsson', 2449: 'bruv', 2450: 'rewarding', 2451: 'ahsen', 2452: 'os', 2453: 'instal', 2454: 'todayfrom', 2455: 'horo', 2456: 'conduct', 2457: 'yeshere', 2458: 'upstairs', 2459: '447801259231', 2460: '09058094597', 2461: 'shine', 2462: 'commercial', 2463: 'innings', 2464: 'drpd', 2465: 'deeraj', 2466: 'deepak', 2467: 'doinghow', 2468: '2wks', 2469: 'lag', 2470: 'necessarily', 2471: 'headin', 2472: 'jolt', 2473: 'suzy', 2474: '69698', 2475: '150pwk', 2476: 'gf', 2477: 'tool', 2478: 'jenny', 2479: 'resend', 2480: '021', 2481: 'grave', 2482: 'tomocant', 2483: 'shocking', 2484: 'taxi', 2485: 'actor', 2486: 'blind', 2487: 'thread', 2488: 'funky', 2489: '82468', 2490: 'tahan', 2491: 'anot', 2492: 'lo', 2493: 'bristol', 2494: 'dahow', 2495: '0844', 2496: '861', 2497: 'prepayment', 2498: 'violate', 2499: 'privacy', 2500: 'paperwork', 2501: 'custcare08718720201', 2502: 'dine', 2503: 'caroline', 2504: 'bless', 2505: 'stranger', 2506: 'gudnitetcpractice', 2507: 'misbehave', 2508: 'unemployed', 2509: 'audrey', 2510: 'status', 2511: 'alive', 2512: 'agree', 2513: 'ovulation', 2514: '6months', 2515: 'call2optoutn9dx', 2516: 'grace', 2517: 'field', 2518: 'administrator', 2519: 'loxahatchee', 2520: 'slightly', 2521: 'wld', 2522: 'messagesome', 2523: 'sendername', 2524: 'sentdate', 2525: 'missing', 2526: 'iron', 2527: 'box334sk38ch', 2528: 'whatsup', 2529: '80086', 2530: 'wwwtxttowincouk', 2531: 'name1', 2532: 'name2', 2533: 'mobno', 2534: 'adam', 2535: '07123456789', 2536: 'txtno', 2537: 'expression', 2538: '3650', 2539: '09066382422', 2540: '300603', 2541: 'bcm4284', 2542: 'applebee', 2543: 'greatbhaji', 2544: 'cricketer', 2545: 'sachin', 2546: 'worldvery', 2547: 'truffle', 2548: 'amy', 2549: 'cope', 2550: '0207', 2551: '153', 2552: '26th', 2553: 'language', 2554: '09061743806', 2555: 'box326', 2556: 'infront', 2557: 'tension', 2558: 'taste', 2559: 'www07781482378com', 2560: 'trade', 2561: 'sorryin', 2562: 'rec', 2563: '7ish', 2564: '09050002311', 2565: 'b4280703', 2566: '08718727868', 2567: 'hyde', 2568: 'anthony', 2569: 'scrounge', 2570: 'renewal', 2571: 'transport', 2572: 'definite', 2573: 'ebay', 2574: 'pickle', 2575: 'taco', 2576: '020903', 2577: '24hrs', 2578: 'channel', 2579: '08718738001', 2580: 'web', 2581: 'ability', 2582: 'recovery', 2583: 'cali', 2584: 'faggy', 2585: 'demand', 2586: 'fo', 2587: 'pan', 2588: 'brownie', 2589: 'geeeee', 2590: 'jen', 2591: 'oooh', 2592: 'ey', 2593: 'call09050000327', 2594: 'hardly', 2595: 'wwwtxt2shopcom', 2596: '08712402050', 2597: '10ppm', 2598: 'ag', 2599: 'promo', 2600: '0825', 2601: 'tsunamis', 2602: 'occur', 2603: 'soiree', 2604: '22', 2605: 'suit', 2606: 'auntie', 2607: 'reaction', 2608: 'useful', 2609: 'officially', 2610: 'textbuddy', 2611: 'gaytextbuddycom', 2612: '89693', 2613: '4882', 2614: '09064019014', 2615: 'httpwwwetlpcoukexpressoffer', 2616: 'sweetheart', 2617: 'restock', 2618: 'wee', 2619: 'jolly', 2620: '40533', 2621: '311004', 2622: 'rstm', 2623: 'sw7', 2624: '3ss', 2625: 'panic', 2626: 'wesley', 2627: 'dealer', 2628: 'impatient', 2629: 'river', 2630: 'premium', 2631: 'en', 2632: 'yell', 2633: 'hex', 2634: 'sue', 2635: 'cochin', 2636: 'farm', 2637: '4d', 2638: 'poop', 2639: 'gpu', 2640: 'deari', 2641: 'deck', 2642: 'aeronautic', 2643: 'professor', 2644: 'calld', 2645: 'aeroplane', 2646: 'saidif', 2647: 'dorm', 2648: 'å1250', 2649: '09071512433', 2650: '050703', 2651: 'tcsbcm4235wc1n3xx', 2652: 'callcost', 2653: 'mobilesvary', 2654: 'cookie', 2655: 'ba', 2656: 'half8th', 2657: 'offerthe', 2658: 'nokia6650', 2659: '81151', 2660: '4tctxt', 2661: '150pmtmsg', 2662: 'attach', 2663: '930', 2664: 'helpline', 2665: '08706091795', 2666: 'gist', 2667: 'thousand', 2668: 'premier', 2669: 'christma', 2670: 'grandma', 2671: 'mt', 2672: 'tscs087147403231winawkage16', 2673: 'å150perwksub', 2674: '0578', 2675: 'pole', 2676: '08718727870', 2677: 'thot', 2678: 'nic', 2679: '8077', 2680: 'cashto', 2681: '08000407165', 2682: 'getstop', 2683: '88222', 2684: 'php', 2685: 'imp', 2686: 'bec', 2687: 'costume', 2688: 'borrow', 2689: 'galileo', 2690: 'oktake', 2691: 'loveme', 2692: 'xxxx', 2693: 'sip', 2694: 'cappuccino', 2695: 'mojibiola', 2696: '09065174042', 2697: '07821230901', 2698: 'havenåõt', 2699: 'kz', 2700: 'ultimatum', 2701: 'countin', 2702: 'aburo', 2703: '08002888812', 2704: 'inconsiderate', 2705: 'nag', 2706: 'recession', 2707: 'soo', 2708: '09066350750', 2709: '10000', 2710: 'kkwhen', 2711: 'warn', 2712: 'nowi', 2713: 'shoe', 2714: 'discreet', 2715: 'spoon', 2716: 'genius', 2717: 'lotta', 2718: 'lately', 2719: 'mystery', 2720: 'wwwsmsconet', 2721: 'approx', 2722: 'peaceful', 2723: '41685', 2724: '071104', 2725: '5k', 2726: '09064011000', 2727: 'cr01327bt', 2728: 'fixedline', 2729: 'castor', 2730: '09058094565', 2731: 'oil', 2732: 'permission', 2733: 'usb', 2734: 'gibb', 2735: 'unbelievable', 2736: 'ie', 2737: 'superb', 2738: 'agent', 2739: 'smell', 2740: '08709222922', 2741: '15pmin', 2742: '78pmin', 2743: 'peak', 2744: 'chip', 2745: 'yck', 2746: 'ashley', 2747: 'jeans', 2748: 'bleh', 2749: 'ton', 2750: 'application', 2751: 'filthy', 2752: '09050001808', 2753: 'm95', 2754: 'valid12hr', 2755: 'necklace', 2756: 'rice', 2757: 'crap', 2758: 'borin', 2759: 'weakness', 2760: 'chocolate', 2761: 'dayshe', 2762: 'reckon', 2763: 'ubi', 2764: 'tech', 2765: 'blessed', 2766: 'quiet', 2767: 'helen', 2768: 'anniversary', 2769: 'image', 2770: 'secretly', 2771: 'datebox1282essexcm61xn', 2772: 'pattern', 2773: 'scratch', 2774: 'plm', 2775: 'sheffield', 2776: 'zoe', 2777: 'million', 2778: 'blanket', 2779: 'sufficient', 2780: 'thx', 2781: 'edison', 2782: 'rightly', 2783: 'viva', 2784: 'gm', 2785: 'ls15hb', 2786: 'educational', 2787: 'kickoff', 2788: 'thesis', 2789: 'eastender', 2790: 'compare', 2791: 'violet', 2792: 'tulip', 2793: 'lily', 2794: 'wkent150p16', 2795: 'dentist', 2796: '09058091854', 2797: 'box385', 2798: 'm6', 2799: '6wu', 2800: '09050003091', 2801: 'c52', 2802: 'oi', 2803: 'breath', 2804: 'heri', 2805: 'herlove', 2806: 'singe', 2807: 'curry', 2808: 'lotwill', 2809: '09061221061', 2810: '28days', 2811: 'box177', 2812: 'm221bp', 2813: '2yr', 2814: 'warranty', 2815: 'på399', 2816: 'tomorro', 2817: 'fret', 2818: 'strip', 2819: 'cliff', 2820: 'depressed', 2821: 'durban', 2822: 'speedchat', 2823: '08000776320', 2824: 'survey', 2825: 'difficulty', 2826: 'sar', 2827: 'tank', 2828: '4fil', 2829: 'neighbor', 2830: 'silently', 2831: 'wrc', 2832: 'lucozade', 2833: 'le', 2834: '61200', 2835: 'lucozadecoukwrc', 2836: 'itcould', 2837: 'toot', 2838: 'annoying', 2839: 'makin', 2840: '2go', 2841: 'neft', 2842: 'beneficiary', 2843: 'wwwldewcomsubs161win150ppmx3', 2844: 'apart', 2845: 'creepy', 2846: '08719181513', 2847: 'finewhen', 2848: 'nok', 2849: 'invest', 2850: '1hr', 2851: 'submit', 2852: '84128', 2853: 'wwwtextcompcom', 2854: '1s', 2855: 'purse', 2856: 'europe', 2857: 'flip', 2858: 'jd', 2859: 'hunny', 2860: 'callså1minmoremobsemspobox45po139wa', 2861: 'tee', 2862: 'dough', 2863: 'control', 2864: 'stalk', 2865: 'profile', 2866: 'jerry', 2867: 'drinkin', 2868: 'deposit', 2869: 'birthdate', 2870: 'nydc', 2871: 'ola', 2872: 'garbage', 2873: 'item', 2874: 'jamster', 2875: 'gold', 2876: '16only', 2877: 'lionm', 2878: 'lionp', 2879: 'jokin', 2880: 'remembr', 2881: 'potter', 2882: 'phoenix', 2883: 'harry', 2884: 'reader', 2885: 'canada', 2886: 'getting', 2887: 'goodnoon', 2888: 'xavi', 2889: 'free2day', 2890: 'georges', 2891: 'jordantxt', 2892: '89080', 2893: 'celeb4', 2894: '0870241182716', 2895: 'tmrw', 2896: 'soul', 2897: 'convince', 2898: 'main', 2899: 'sweetie', 2900: 'buyer', 2901: '4a', 2902: 'whn', 2903: '0870k', 2904: '08718730666', 2905: 'juan', 2906: 'call2optoutlf56', 2907: 'tlk', 2908: 'ideal', 2909: 'path', 2910: 'reserve', 2911: 'tirunelvali', 2912: 'recharge', 2913: 'stretch', 2914: 'sinco', 2915: 'payee', 2916: 'icicibankcom', 2917: 'fraud', 2918: 'disclose', 2919: 'kaiez', 2920: 'beneath', 2921: 'pale', 2922: 'silver', 2923: 'silence', 2924: 'wwwldewcom', 2925: 'revision', 2926: 'exeter', 2927: 'determine', 2928: 'coat', 2929: 'restaurant', 2930: 'textpod', 2931: 'wwwtextpodnet', 2932: 'function', 2933: 'desperate', 2934: 'practical', 2935: 'lyfu', 2936: 'lyf', 2937: 'ke', 2938: 'lucy', 2939: 'callså1minmobsmorelkpobox177hp51fl', 2940: 'musthu', 2941: 'jsco', 2942: 'dawhat', 2943: 'nit', 2944: 'format', 2945: 'sarcasm', 2946: 'unfortunately', 2947: 'konw', 2948: 'waht', 2949: 'rael', 2950: 'gve', 2951: 'exmpel', 2952: 'jsut', 2953: 'evrey', 2954: 'spllee', 2955: 'wrnog', 2956: 'sitll', 2957: 'raed', 2958: 'wihtuot', 2959: 'ayn', 2960: 'mitsake', 2961: 'sleepsweet', 2962: 'degree', 2963: 'finance', 2964: 'jia', 2965: 'sux', 2966: 'kegger', 2967: 'rhythm', 2968: 'wifi', 2969: 'noi', 2970: 'rumour', 2971: '7250', 2972: 'boyfriend', 2973: 'driver', 2974: 'dime', 2975: 'smeone', 2976: 'flame', 2977: 'propose', 2978: 'kthen', 2979: 'dippeditinadew', 2980: 'lovingly', 2981: 'itwhichturnedinto', 2982: 'tomeandsaidthis', 2983: 'freezing', 2984: 'pro', 2985: 'batch', 2986: 'flaky', 2987: 'sooooo', 2988: 'living', 2989: 'loving', 2990: 'laughing', 2991: 'winning', 2992: 'tooo', 2993: '09058094599', 2994: 'wate', 2995: 'british', 2996: 'sw73ss', 2997: 'dracula', 2998: 'ghost', 2999: 'addamsfa', 3000: 'munster', 3001: 'exorcist', 3002: 'twilight', 3003: 'constant', 3004: 'msg150p', 3005: '2rcv', 3006: 'hlp', 3007: '08712317606', 3008: 'switch', 3009: 'bagi', 3010: '80608', 3011: 'wwwmovietriviatv', 3012: '08712405022', 3013: 'partnership', 3014: 'married', 3015: 'å6', 3016: 'shjas', 3017: 'ringtoneget', 3018: 'freesend', 3019: '816183', 3020: 'weekstop', 3021: 'sms08718727870', 3022: 'poker', 3023: 'messy', 3024: 'traffic', 3025: 'slip', 3026: 'wkg', 3027: 'unknown', 3028: 'album', 3029: '09094646899', 3030: 'vu', 3031: 'bcm1896wc1n3xx', 3032: '2007', 3033: 'maangalyam', 3034: 'alaipayuthe', 3035: 'frens', 3036: 'complain', 3037: 'easter', 3038: 'telephone', 3039: 'callfreefone', 3040: '08081560665', 3041: 'ofå2000', 3042: '07786200117', 3043: 'calm', 3044: 'up4', 3045: 'habit', 3046: 'schedule', 3047: 'mandan', 3048: '07734396839', 3049: 'ibh', 3050: 'nokia6600', 3051: 'txtauctiontxt', 3052: 'wordstart', 3053: 'no81151', 3054: 'now4', 3055: 'invader', 3056: 'orig', 3057: 'console', 3058: 'o2coukgames', 3059: 'transfr', 3060: 'didnåõt', 3061: 'foley', 3062: 'wwwwin82050couk', 3063: 'desparate', 3064: '3100', 3065: 'combine', 3066: 'sian', 3067: 'g696ga', 3068: 'joanna', 3069: 'replacement', 3070: 'telly', 3071: 'btooth', 3072: 'tag', 3073: 'laundry', 3074: 'underwear', 3075: 'waheed', 3076: 'knee', 3077: 'expose', 3078: '0776xxxxxxx', 3079: '326', 3080: 'knackere', 3081: 'uh', 3082: 'vday', 3083: 'snowman', 3084: 'prescription', 3085: 'electricity', 3086: 'fujitsu', 3087: 'scold', 3088: 'accordingly', 3089: 'wud', 3090: '09066358152', 3091: 'prompt', 3092: 'planning', 3093: 'upset', 3094: 'kkwhy', 3095: 'aka', 3096: 'delhi', 3097: 'length', 3098: 'fringe', 3099: 'distract', 3100: '61610', 3101: 'help08712400602450p', 3102: 'tones2youcouk', 3103: 'yeh', 3104: 'memory', 3105: 'mel', 3106: 'intention', 3107: '08006344447', 3108: 'cast', 3109: 'aom', 3110: 'nd', 3111: 'parco', 3112: 'nb', 3113: 'hallaq', 3114: 'bck', 3115: 'color', 3116: 'gender', 3117: 'sleepwellamptake', 3118: 'mca', 3119: 'thanksgiving', 3120: 'tme', 3121: 'rub', 3122: 'clever', 3123: '113', 3124: 'bray', 3125: 'wicklow', 3126: 'eire', 3127: 'wwwidewcom', 3128: 'skillgame', 3129: '1winaweek', 3130: '150ppermesssubscription', 3131: 'xam', 3132: 'shitload', 3133: 'aunty', 3134: 'mcat', 3135: 'sacrifice', 3136: 'stayin', 3137: 'satisfy', 3138: 'cld', 3139: 'kindly', 3140: 'everybodys', 3141: 'tok', 3142: 'specific', 3143: 'affectionate', 3144: 'cousin', 3145: 'neck', 3146: 'holy', 3147: 'billion', 3148: 'ref', 3149: 'belive', 3150: 'slot', 3151: 'prem', 3152: '2morro', 3153: 'complaint', 3154: 'lk', 3155: 'lov', 3156: '300p', 3157: '01223585334', 3158: '2c', 3159: '2end', 3160: 'huge', 3161: 'upd8', 3162: 'annie', 3163: '21870000hi', 3164: 'mailbox', 3165: '09056242159', 3166: 'retrieve', 3167: 'hrishi', 3168: 'nothin', 3169: 'poem', 3170: 'quizwin', 3171: 'duchess', 3172: '82277unsub', 3173: '008704050406', 3174: 'nahi', 3175: 'jo', 3176: 'dan', 3177: 'aww', 3178: 'stare', 3179: 'cm', 3180: 'unnecessarily', 3181: '08701417012150p', 3182: 'gamestar', 3183: 'active', 3184: 'å250k', 3185: 'scoring', 3186: 'nowsky', 3187: '88088', 3188: 'propsd', 3189: 'gv', 3190: 'lv', 3191: 'lttrs', 3192: 'aproach', 3193: 'dt', 3194: 'truck', 3195: 'girld', 3196: 'thy', 3197: 'happily', 3198: '2gthr', 3199: 'drinking', 3200: 'evrydy', 3201: 'msgsd', 3202: 'paragon', 3203: 'bluff', 3204: 'sary', 3205: 'wwwfullonsmscom', 3206: 'gn', 3207: 'wiskey', 3208: 'brandy', 3209: 'rum', 3210: 'gin', 3211: 'scotch', 3212: 'shampain', 3213: 'kudiyarasu', 3214: 'dhina', 3215: 'vaazhthukkal', 3216: 'kg', 3217: 'dumb', 3218: 'kay', 3219: 'nasty', 3220: 'christ', 3221: 'science', 3222: 'swiss', 3223: 'director', 3224: 'crore', 3225: 'lane', 3226: 'politician', 3227: 'donno', 3228: 'properly', 3229: 'pongaldo', 3230: 'sry', 3231: 'furniture', 3232: 'strange', 3233: 'acl03530150pm', 3234: 'indyarockscom', 3235: 'datoday', 3236: 'yunny', 3237: '83383', 3238: 'mmmmm', 3239: 'relative', 3240: 'risk', 3241: 'benefit', 3242: 'program', 3243: 'belong', 3244: 'goodenvironment', 3245: 'terrific', 3246: 'dr', 3247: 'superior', 3248: 'dock', 3249: 'picsfree1', 3250: 'elaborate', 3251: 'department', 3252: 'conform', 3253: 'bc', 3254: 'toshiba', 3255: 'madam', 3256: 'innocent', 3257: 'mental', 3258: '2marrow', 3259: 'hon', 3260: '900', 3261: 'fab', 3262: 'tiwary', 3263: 'bang', 3264: 'pap', 3265: 'secretary', 3266: 'shake', 3267: '69696', 3268: '3lp', 3269: 'å150msg', 3270: 'northampton', 3271: 'abj', 3272: 'anna', 3273: 'nagar', 3274: 'theme', 3275: 'petrol', 3276: 'evr', 3277: 'west', 3278: 'steam', 3279: 'reg', 3280: 'canary', 3281: 'sleepy', 3282: 'mag', 3283: 'left', 3284: 'diwali', 3285: 'thgt', 3286: 'gudk', 3287: 'success', 3288: 'division', 3289: 'creep', 3290: 'lil', 3291: 'property', 3292: 'interflora', 3293: 'cough', 3294: '09058099801', 3295: 'b4190604', 3296: '7876150ppm', 3297: 'nicenicehow', 3298: 'yellow', 3299: '88888', 3300: 'doubt', 3301: 'japanese', 3302: 'proverb', 3303: 'itu', 3304: 'itleave', 3305: 'freedom', 3306: 'paint', 3307: 'swatch', 3308: 'ganesh', 3309: 'helloooo', 3310: '2geva', 3311: 'wuld', 3312: 'sake', 3313: 'bruce', 3314: 'chest', 3315: 'brief', 3316: 'pt2', 3317: 'msgs150p', 3318: 'salon', 3319: 'raj', 3320: 'usc', 3321: 'wave', 3322: 'range', 3323: 'admin', 3324: 'visionsmscom', 3325: 'andro', 3326: 'penis', 3327: 'fal', 3328: 'vth', 3329: 'eveb', 3330: 'cds', 3331: 'removal', 3332: '08708034412', 3333: 'sack', 3334: 'lookatme', 3335: 'msgs', 3336: 'agalla', 3337: 'xxxxx', 3338: 'otside', 3339: '830', 3340: 'size', 3341: '08712101358', 3342: 'itåõs', 3343: 'tight', 3344: 'av', 3345: 'everyday', 3346: 'curious', 3347: 'postcard', 3348: 'bread', 3349: 'mahal', 3350: 'redred', 3351: 'bloodblood', 3352: 'heartheart', 3353: '4some1', 3354: 'luvs', 3355: 'necessary', 3356: 'arise', 3357: 'disaster', 3358: 'deus', 3359: 'tap', 3360: 'spile', 3361: 'broad', 3362: 'canal', 3363: 'engin', 3364: 'east', 3365: 'howard', 3366: 'starve', 3367: 'owe', 3368: 'muchi', 3369: 'ee', 3370: 'easily', 3371: 'custom', 3372: 'sac', 3373: 'jiayin', 3374: 'pobox45w2tg150p', 3375: 'reverse', 3376: 'mathematic', 3377: '2waxsto', 3378: 'minimum', 3379: 'elaine', 3380: 'drunken', 3381: 'ias', 3382: 'mb', 3383: 'cameravideo', 3384: 'desire', 3385: 'bloomberg', 3386: '447797706009', 3387: 'httpcareer', 3388: 'bloombergcom', 3389: 'kent', 3390: 'vale', 3391: 'wan2', 3392: 'meetgreet', 3393: 'westlife', 3394: 'm8', 3395: '1unbreakable', 3396: '2untamed', 3397: '3unkempt', 3398: '83049', 3399: 'prince', 3400: 'granite', 3401: 'strongbuy', 3402: 'explosive', 3403: 'nasdaq', 3404: 'cdgt', 3405: 'thurs', 3406: 'base', 3407: 'placement', 3408: 'didnût', 3409: 'devour', 3410: 'airtel', 3411: '69669', 3412: 'jaya', 3413: 'itlet', 3414: 'mumtaz', 3415: 'shahjahan', 3416: 'mumtazs', 3417: 'incredible', 3418: 'o2fwd', 3419: '18ptxt', 3420: 'maturity', 3421: 'decimal', 3422: 'kavalan', 3423: 'outage', 3424: 'xin', 3425: 'lib', 3426: 'hrs', 3427: 'reschedule', 3428: 'despite', 3429: 'swoop', 3430: 'langport', 3431: 'senthil', 3432: 'vegas', 3433: 'lou', 3434: 'båõday', 3435: 'vewy', 3436: 'rip', 3437: 'pool', 3438: '09065989182', 3439: 'callcoz', 3440: 'terrorist', 3441: 'itz', 3442: 'confirmd', 3443: 'cnn', 3444: 'ibn', 3445: 'hppnss', 3446: 'sorrow', 3447: 'goodfriend', 3448: 'mila', 3449: 'age23', 3450: 'blonde', 3451: 'mtalk', 3452: '6986618', 3453: '30pptxt', 3454: '5free', 3455: 'increment', 3456: 'help08718728876', 3457: 'ful', 3458: 'atlast', 3459: 'desert', 3460: 'funk', 3461: 'tones2u', 3462: 'section', 3463: 'funeral', 3464: 'brah', 3465: 'protect', 3466: 'ethreat', 3467: 'sib', 3468: 'sensitive', 3469: 'passwordsatmsm', 3470: 'blu', 3471: 'cheese', 3472: 'pink', 3473: 'httptms', 3474: 'widelivecomindex', 3475: '09061702893', 3476: 'melt', 3477: 'ground', 3478: 'eek', 3479: 'secure', 3480: '09061743386', 3481: 'heater', 3482: 'call2optout674', 3483: 'eta', 3484: 'housewife', 3485: '08717507711', 3486: 'btnational', 3487: 'ball', 3488: '09066364311', 3489: 'literally', 3490: 'motivate', 3491: 'kothi', 3492: 'prof', 3493: 'sem', 3494: 'actual', 3495: 'sathya', 3496: 'tip', 3497: 'reasonable', 3498: 'thanks', 3499: 'election', 3500: 'kappa', 3501: 'approve', 3502: 'renew', 3503: 'tooth', 3504: 'royal', 3505: 'sticky', 3506: 'indicate', 3507: 'calculation', 3508: 'blur', 3509: 'clothe', 3510: 'lush', 3511: 'day2find', 3512: 'courage', 3513: 'defeat', 3514: 'heartgn', 3515: '430', 3516: 'natalja', 3517: '25f', 3518: 'yes440', 3519: 'no440', 3520: 'wwwsmsacunat27081980', 3521: 'sunlight', 3522: 'kit', 3523: 'mokka', 3524: '09061744553', 3525: 'polyh', 3526: 'bone', 3527: 'epsilon', 3528: 'sent', 3529: 'mesage', 3530: 'lst', 3531: 'massive', 3532: 'fineabsolutly', 3533: 'wwwtcbiz', 3534: 'polo', 3535: '373', 3536: 'w1j', 3537: '6hl', 3538: 'academic', 3539: 'coast', 3540: 'explicit', 3541: '02073162414', 3542: '20pmin', 3543: 'clearly', 3544: '89070', 3545: '86888', 3546: 'subscribe6gbpmnth', 3547: '3hrs', 3548: 'stoptxtstop', 3549: 'capital', 3550: 'mis', 3551: 'prabha', 3552: 'loyal', 3553: '09066380611', 3554: 'dokey', 3555: 'sleepin', 3556: 'minor', 3557: 'ni8swt', 3558: 'woulda', 3559: 'miserable', 3560: 'shoppin', 3561: 'toopray', 3562: '08718726270', 3563: 'nuther', 3564: 'infection', 3565: 'henry', 3566: 'mountain', 3567: 'woot', 3568: 'donate', 3569: 'cme', 3570: 'parking', 3571: 'sms', 3572: 'sarasota', 3573: 'nat', 3574: 'cherish', 3575: 'young', 3576: 'wallpaper', 3577: 'dearslp', 3578: 'welltake', 3579: 'careswt', 3580: 'dreamsmuah', 3581: 'andre', 3582: '4eva', 3583: 'garden', 3584: 'bulb', 3585: 'seed', 3586: 'å3350', 3587: 'scotsman', 3588: 'go2', 3589: 'notxtcouk', 3590: 'gastroenteritis', 3591: 'reduce', 3592: 'illness', 3593: '09061213237', 3594: '177', 3595: 'm227xy', 3596: 'favorite', 3597: 'amuse', 3598: 'suggestion', 3599: 'mega', 3600: 'shu', 3601: '2p', 3602: 'jurong', 3603: 'amore', 3604: 'chgs', 3605: 'aids', 3606: 'patent', 3607: 'breather', 3608: 'grant', 3609: 'fulfil', 3610: 'xxxmobilemovieclub', 3611: 'httpwap', 3612: 'xxxmobilemovieclubcomnqjkgighjjgcbl', 3613: 'kim', 3614: 'gota', 3615: 'macedonia', 3616: 'goalsteam', 3617: 'trywale', 3618: '4txtì¼120', 3619: 'poboxox36504w45wq', 3620: 'ffffffffff', 3621: 'convincing', 3622: 'ahhh', 3623: 'vaguely', 3624: 'apologetic', 3625: 'actin', 3626: 'spoilt', 3627: 'badly', 3628: 'faint', 3629: 'housework', 3630: 'cuppa', 3631: 'å5month', 3632: 'watts', 3633: 'arabian', 3634: 'steed', 3635: '07732584351', 3636: 'rodger', 3637: 'endow', 3638: 'hep', 3639: 'immunisation', 3640: 'stubborn', 3641: 'embarassed', 3642: 'accomodation', 3643: 'cave', 3644: 'jersey', 3645: 'devil', 3646: 'wing', 3647: 'incorrect', 3648: 'mallika', 3649: 'sherawat', 3650: 'yesgauti', 3651: 'sehwag', 3652: 'seeker', 3653: 'barbie', 3654: 'ken', 3655: 'youhow', 3656: 'operate', 3657: 'tas', 3658: 'multis', 3659: 'factory', 3660: 'kanoil', 3661: 'youûll', 3662: 'casualty', 3663: 'stuff42moro', 3664: 'telugu', 3665: 'moviewat', 3666: 'hairdresser', 3667: 'ams', 3668: '4the', 3669: 'signin', 3670: 'memorable', 3671: 'ip', 3672: 'minecraft', 3673: 'server', 3674: 'grumpy', 3675: 'plural', 3676: 'dinnermsg', 3677: 'openin', 3678: 'formal', 3679: 'weighthaha', 3680: '0871277810910pmin', 3681: 'eggpotato', 3682: 'ratio', 3683: 'hmmmy', 3684: '5903', 3685: '09064019788', 3686: 'box42wr29c', 3687: 'applespairsall', 3688: 'malarky', 3689: '7548', 3690: '4041', 3691: 'sao', 3692: 'knowyetunde', 3693: 'impose', 3694: 'lucyxx', 3695: 'tmorrowpls', 3696: 'accomodate', 3697: 'gravel', 3698: 'yijuehotmailcom', 3699: 'svc', 3700: '69988', 3701: 'nver', 3702: 'cozsomtime', 3703: 'ummmawill', 3704: 'inour', 3705: 'sindu', 3706: 'nevere', 3707: 'typical', 3708: 'dirt', 3709: 'chore', 3710: 'exist', 3711: 'hail', 3712: 'mist', 3713: 'aaooooright', 3714: 'meare', 3715: 'annoncement', 3716: '07046744435', 3717: 'envy', 3718: 'parentsi', 3719: 'excited', 3720: 'bootydelious', 3721: '32f', 3722: 'yes434', 3723: 'no434', 3724: 'wwwsmsacubootydelious', 3725: 'bangbabe', 3726: 'bangb', 3727: 'internetservice', 3728: 'culture', 3729: '09061701939', 3730: 's89', 3731: 'missunderstde', 3732: 'bridge', 3733: 'lager', 3734: 'axis', 3735: 'surname', 3736: 'clue', 3737: 'goodfine', 3738: 'greatbye', 3739: '30th', 3740: 'wwwareyouuniquecouk', 3741: 'league', 3742: 'stool', 3743: 'babyjontet', 3744: 'enc', 3745: 'ga', 3746: 'alter', 3747: 'dogg', 3748: 'refund', 3749: 'kkgoodstudy', 3750: 'prediction', 3751: 'ubandu', 3752: 'diskyou', 3753: 'scenery', 3754: 'flyng', 3755: 'arie', 3756: 'elama', 3757: 'mudyadhu', 3758: 'strict', 3759: 'gandhipuram', 3760: 'rubber', 3761: 'recdthirtyeight', 3762: 'youwhen', 3763: 'hearing', 3764: 'pleassssssseeeeee', 3765: 'sportsx', 3766: 'baig', 3767: '3day', 3768: 'usp', 3769: 'bribe', 3770: 'nipost', 3771: 'luton', 3772: '0125698789', 3773: 'h', 3774: 'sometme', 3775: 'club4mobilescom', 3776: '87070', 3777: 'club4', 3778: 'box1146', 3779: 'mk45', 3780: '2wt', 3781: 'evo', 3782: 'narcotic', 3783: 'objection', 3784: 'rob', 3785: 'mack', 3786: 'theater', 3787: 'ahold', 3788: 'cruisin', 3789: 'dearshall', 3790: 'tonitebusy', 3791: 'streetshall', 3792: 'tonitething', 3793: 'okvarunnathu', 3794: 'edukkukayee', 3795: 'raksha', 3796: 'ollubut', 3797: '3680offer', 3798: '28thfebtcs', 3799: 'gurl', 3800: 'appropriate', 3801: 'diesel', 3802: 'fridge', 3803: 'womdarfull', 3804: 'rodds1', 3805: 'aberdeen', 3806: 'united', 3807: 'kingdom', 3808: 'httpimg', 3809: 'acwicmb3cktz8r74', 3810: 'remb', 3811: 'jos', 3812: 'bookshelf', 3813: '85222', 3814: 'nowtcs', 3815: 'winnersclub', 3816: '84', 3817: 'gbp150week', 3818: 'waythis', 3819: 'uniquei', 3820: 'mylife', 3821: 'kkadvance', 3822: 'l8', 3823: 'gon', 3824: 'guild', 3825: 'kkapo', 3826: 'kgood', 3827: 'evaporate', 3828: 'employer', 3829: 'tadaaaaa', 3830: 'huime', 3831: 'prestige', 3832: 'dointereste', 3833: 'sextextukcom', 3834: 'xxuk', 3835: '69876', 3836: 'jeremiah', 3837: 'iphone', 3838: 'apeshit', 3839: 'safely', 3840: 'callingforgot', 3841: 'onam', 3842: 'sirjii', 3843: 'personmeet', 3844: 'insha', 3845: 'allahrakhesh', 3846: 'tata', 3847: 'aig', 3848: 'tisscotayseer', 3849: '08708800282', 3850: 'andrewsboy', 3851: 'chikkudb', 3852: 'dawn', 3853: 'refresh', 3854: 'z', 3855: 'call2optoutf4q', 3856: 'rp176781', 3857: 'wwwregalportfoliocouk', 3858: 'services', 3859: '08717205546', 3860: 'uniform', 3861: 't91', 3862: 'gbp', 3863: '09057039994', 3864: 'lindsay', 3865: 'heron', 3866: 'payasam', 3867: 'rinu', 3868: 'becaus', 3869: 'prabu', 3870: 'followin', 3871: 'wallet', 3872: '945', 3873: 'owl', 3874: 'kickboxing', 3875: 'lap', 3876: '730ish', 3877: 'performance', 3878: 'calculate', 3879: 'monthnot', 3880: 'salam', 3881: 'wahleykkumshare', 3882: 'newsby', 3883: 'tayseertissco', 3884: 'joinedhope', 3885: 'fineinshah', 3886: 'allahmeet', 3887: 'sometimerakheshvisitor', 3888: 'hmmmkbut', 3889: '2814032', 3890: '3xå150pw', 3891: 'eånd', 3892: 'stoner', 3893: 'disastrous', 3894: 'fav', 3895: 'busetop', 3896: 'wendy', 3897: '09064012103', 3898: 'yesfrom', 3899: '09111032124', 3900: 'pobox12n146tf150p', 3901: 'siva', 3902: '09058094455', 3903: 'speaking', 3904: '1childish', 3905: '2naughty', 3906: '3sentiment', 3907: '4rowdy', 3908: '5ful', 3909: 'attitude', 3910: '6romantic', 3911: '7shy', 3912: '8attractive', 3913: '9funny', 3914: 'urination', 3915: 'hillsborough', 3916: 'shoul', 3917: 'txtjourney', 3918: 'gdnow', 3919: 'werethe', 3920: 'monkeespeople', 3921: 'monkeyaround', 3922: 'howdy', 3923: 'blimey', 3924: 'exercise', 3925: 'concentration', 3926: 'hank', 3927: 'lotsly', 3928: 'kkwhat', 3929: 'transferacc', 3930: 'optimistic', 3931: 'consistently', 3932: 'practicum', 3933: '120', 3934: 'feelingwavering', 3935: 'individualtime', 3936: 'heal', 3937: 'upgrdcentre', 3938: '9153', 3939: 'oral', 3940: 'slippery', 3941: 'bike', 3942: 'okmail', 3943: 'differ', 3944: 'differbe', 3945: '69888nyt', 3946: 'broken', 3947: 'ahwhat', 3948: 'machiany', 3949: 'mcr', 3950: 'jaykwon', 3951: 'thuglyfe', 3952: 'falconerf', 3953: 'fade', 3954: 'glory', 3955: 'ralphs', 3956: 'reunion', 3957: 'nowcan', 3958: 'accenture', 3959: 'jackson', 3960: 'reache', 3961: 'nuerologist', 3962: 'lolnice', 3963: 'westshore', 3964: 'significance', 3965: 'gs', 3966: 'ammo', 3967: 'ak', 3968: 'nojst', 3969: 'sno', 3970: 'boltblue', 3971: 'poly3', 3972: 'jamz', 3973: 'toxic', 3974: 'httpwwwbubbletextcom', 3975: 'tgxxrz', 3976: 'problematic', 3977: 'unconscious', 3978: 'abnormally', 3979: '08718729755', 3980: 'recieve', 3981: 'teletext', 3982: 'doublefaggot', 3983: '07815296484', 3984: '41782', 3985: '181104', 3986: 'bani', 3987: 'button', 3988: 'wwwapplausestorecom', 3989: 'monthlysubscription50pmsg', 3990: 'max6month', 3991: 'tcsc', 3992: '2stop', 3993: 'famous', 3994: 'unconditionally', 3995: 'temper', 3996: 'oclock', 3997: 'bash', 3998: 'coope', 3999: 'invitation', 4000: 'weddin', 4001: 'alibi', 4002: 'sink', 4003: 'pace', 4004: 'cage', 4005: 'surround', 4006: 'owns', 4007: 'cuck', 4008: 'weeddeficient', 4009: 'acknowledgement', 4010: 'astoundingly', 4011: 'tactless', 4012: 'oath', 4013: 'magic', 4014: 'silly', 4015: 'isnût', 4016: 'uv', 4017: 'mutation', 4018: 'sunscreen', 4019: 'theseday', 4020: 'lunchyou', 4021: 'onlinewhy', 4022: 'haven', 4023: 'bao', 4024: 'sugardad', 4025: 'ahgee', 4026: 'meim', 4027: 'ninish', 4028: 'icky', 4029: 'freek', 4030: 'missy', 4031: 'goggle', 4032: '09050005321', 4033: 'arngd', 4034: 'walkin', 4035: 'unfortuntly', 4036: 'frnt', 4037: 'sayin', 4038: 'textand', 4039: '08002988890', 4040: 'exwife', 4041: 'jjc', 4042: 'tendency', 4043: 'meive', 4044: 'gotany', 4045: 'srsly', 4046: 'yi', 4047: '07753741225', 4048: '08715203677', 4049: '42478', 4050: '241004', 4051: 'prix', 4052: 'nitz', 4053: 'blastin', 4054: 'rajnikant', 4055: 'oceand', 4056: 'xclusiveclubsaisai', 4057: '285', 4058: 'speciale', 4059: 'zouk', 4060: 'parisfree', 4061: 'rose', 4062: '0794674629107880867867', 4063: 'bridgwater', 4064: 'banter', 4065: 'bestrply', 4066: 'dependent', 4067: 'thanx4', 4068: 'cer', 4069: 'soonc', 4070: 'himthen', 4071: 'shock', 4072: 'dismay', 4073: 'concerned', 4074: 'tootsie', 4075: 'seventeen', 4076: 'ml', 4077: 'apply2', 4078: 'biola', 4079: 'thanksgive', 4080: 'brighten', 4081: 'allo', 4082: 'brave', 4083: 'triumph', 4084: 'bûham', 4085: 'uncomfortable', 4086: '08715203694', 4087: 'sonetime', 4088: 'rough', 4089: 'cloud', 4090: 'wikipediacom', 4091: '88800', 4092: '89034', 4093: '08718711108', 4094: 'repent', 4095: 'kama', 4096: 'sutra', 4097: 'nange', 4098: 'bakra', 4099: 'kalstiyathen', 4100: 'teacoffee', 4101: 'carlosll', 4102: 'lakh', 4103: 'sun0819', 4104: 'helloyou', 4105: '08452810071', 4106: 'ditto', 4107: 'wetherspoon', 4108: 'piggy', 4109: 'freaky', 4110: 'scrappy', 4111: 'sdryb8i', 4112: 'lapdancer', 4113: 'g2', 4114: '1da', 4115: '150ppmsg', 4116: 'imprtant', 4117: 'tomorw', 4118: 'dearme', 4119: 'cherthalain', 4120: 'bfore', 4121: 'starti', 4122: 'accordinglyor', 4123: 'comingtmorow', 4124: 'engage', 4125: '448712404000please', 4126: '08712404000', 4127: '1405', 4128: '1680', 4129: '1843', 4130: 'entrepreneur', 4131: 'alexs', 4132: 'corporation', 4133: 'ku', 4134: 'prevent', 4135: 'dehydration', 4136: 'fluid', 4137: 'soso', 4138: 'smsd', 4139: 'trek', 4140: 'harri', 4141: 'ngage', 4142: 'wwwcnupdatescomnewsletter', 4143: 'shitstorm', 4144: 'attribute', 4145: '08714712388', 4146: '449071512431', 4147: 'sth', 4148: 'spec', 4149: 'px3748', 4150: '08714712394', 4151: 'macha', 4152: 'upseti', 4153: 'mindsetbelieve', 4154: 'uslet', 4155: 'againcall', 4156: 'sfine', 4157: 'wondar', 4158: 'flim', 4159: 'jelly', 4160: 'stillmaybe', 4161: 'sameso', 4162: 'itor', 4163: 'admiti', 4164: 'madthen', 4165: 'correctionor', 4166: 'lifeand', 4167: 'worldmay', 4168: 'runninglet', 4169: 'scrumptious', 4170: 'dao', 4171: 'jide', 4172: 'alertfrom', 4173: 'jeri', 4174: 'stewartsize', 4175: '2kbsubject', 4176: 'lowcost', 4177: 'prescripiton', 4178: 'drvgsto', 4179: 'steak', 4180: 'convincingjust', 4181: 'neglect', 4182: 'itjust', 4183: 'opportunityall', 4184: 'fastpls', 4185: 'prayers', 4186: 'dearrakhesh', 4187: 'wahay', 4188: 'gaze', 4189: '82324', 4190: 'tattoo', 4191: 'caveboy', 4192: 'sorryi', 4193: 'faith', 4194: 'possiblehope', 4195: 'worklove', 4196: 'beautifulmay', 4197: 'christmasmerry', 4198: 'youcarlo', 4199: 'isare', 4200: 'vibrate', 4201: 'å79', 4202: '08704439680tscs', 4203: 'hungover', 4204: 'unclaimed', 4205: '09066368327', 4206: 'closingdate040902', 4207: 'claimcode', 4208: 'm39m51', 4209: 'å150pmmorefrommobile2bremovedmobypobox734ls27yf', 4210: 'gua', 4211: 'faber', 4212: 'dramatic', 4213: 'hunting', 4214: 'drunkard', 4215: 'idc', 4216: 'weasele', 4217: 'trash', 4218: 'punish', 4219: 'beerage', 4220: 'randomlly', 4221: 'spelling', 4222: '100psm', 4223: '087018728737', 4224: 'toppoly', 4225: 'tune', 4226: '81618', 4227: 'fondly', 4228: 'ywhere', 4229: 'dogbreath', 4230: 'woohoo', 4231: 'uncountable', 4232: '9996', 4233: '14thmarch', 4234: 'availa', 4235: 'petey', 4236: 'whereare', 4237: 'friendsare', 4238: 'thekingshead', 4239: 'canlove', 4240: 'rg21', 4241: '4jx', 4242: 'dle', 4243: 'smokin', 4244: 'boooo', 4245: 'ssnervous', 4246: 'yowife', 4247: 'outbid', 4248: 'simonwatson5120', 4249: 'shinco', 4250: 'plyr', 4251: 'acsmsreward', 4252: 'notification', 4253: 'youi', 4254: 'dobby', 4255: 'enjoyin', 4256: 'yourjob', 4257: 'hunnyhope', 4258: 'iåõllspeak', 4259: 'soonlot', 4260: 'starshine', 4261: 'smsservice', 4262: 'yourinclusive', 4263: 'burial', 4264: 'rv', 4265: 'roadsrvx', 4266: 'voucherstext', 4267: 'nowsavamobmember', 4268: 'comprehensive', 4269: 'prashanthettan', 4270: 'xavier', 4271: 'samantha', 4272: 'guitar', 4273: 'impress', 4274: 'doug', 4275: 'trauma', 4276: 'swear', 4277: 'officewhat', 4278: 'mattermsg', 4279: 'inner', 4280: 'tigress', 4281: 'babyhope', 4282: 'urfeeling', 4283: 'bettersn', 4284: 'probthat', 4285: 'overdose', 4286: 'lovejen', 4287: 'dating', 4288: '83110', 4289: 'ana', 4290: 'sathy', 4291: 'rto', 4292: 'corvette', 4293: '09061104283', 4294: 'å150pm', 4295: 'bunker', 4296: '07808', 4297: 'xxxxxx', 4298: '08719899217', 4299: 'posh', 4300: 'chap', 4301: 'trial', 4302: 'prod', 4303: 'champney', 4304: 'dob', 4305: '0721072', 4306: 'philosophical', 4307: 'hole', 4308: 'goodno', 4309: 'problembut', 4310: 'atleast', 4311: 'shakespeare', 4312: '09065171142stopsms08', 4313: 'httpdoit', 4314: 'mymoby', 4315: 'woul', 4316: 'curfew', 4317: 'gibe', 4318: 'getsleep', 4319: 'studdye', 4320: 'massage', 4321: 'yoyyooo', 4322: 'unsoldmike', 4323: 'hussey', 4324: 'faglord', 4325: 'nutter', 4326: 'cutter', 4327: 'ctter', 4328: 'cttergg', 4329: 'cttargg', 4330: 'ctargg', 4331: 'ctagg', 4332: 'grateful', 4333: 'experiment', 4334: 'invoice', 4335: 'tobacco', 4336: 'charle', 4337: 'stereophonics', 4338: 'marley', 4339: 'dizzee', 4340: 'racal', 4341: 'libertine', 4342: 'stroke', 4343: 'nookii', 4344: 'bookmark', 4345: 'grinule', 4346: 'fudge', 4347: 'zaher', 4348: 'nauseous', 4349: 'avalarr', 4350: 'hollalater', 4351: 'todaybut', 4352: 'websitenow', 4353: 'blogge', 4354: 'magicalsongsblogspotcom', 4355: 'chikkuil', 4356: 'kvb', 4357: 'å1million', 4358: 'ppt150x3normal', 4359: 'box403', 4360: 'w1t1jy', 4361: 'fridayhope', 4362: 'alternativehope', 4363: 'congratulations', 4364: 'ore', 4365: 'owo', 4366: 'fro', 4367: 'samus', 4368: 'shoulder', 4369: 'matthew', 4370: '09063440451', 4371: '4lux', 4372: 'ppm150', 4373: 'box334', 4374: 'vomitin', 4375: 'kkare', 4376: '09061749602', 4377: '528', 4378: 'hp20', 4379: '1yf', 4380: 'writhe', 4381: 'paypal', 4382: 'voila', 4383: 'pocket', 4384: 'folk', 4385: '150psms', 4386: 'sorta', 4387: 'sophas', 4388: 'secondary', 4389: 'ogunrinde', 4390: 'sat', 4391: 'lodging', 4392: 'chk', 4393: 'ms', 4394: 'dict', 4395: 'shb', 4396: 'dobbys', 4397: 'retire', 4398: 'natwest', 4399: 'chad', 4400: 'gymnastic', 4401: 'christians', 4402: 'backa', 4403: 'token', 4404: 'youthat', 4405: 'likingbe', 4406: 'seeno', 4407: 'thatdont', 4408: 'aptitude', 4409: '215', 4410: 'horse', 4411: 'racing', 4412: 'wrongly', 4413: 'boggy', 4414: 'biatch', 4415: 'hesitate', 4416: 'notebook', 4417: 'eightish', 4418: 'carpark', 4419: 'ahthe', 4420: 'tomorrowcall', 4421: '67441233', 4422: 'ireneere', 4423: 'bus822656166382', 4424: 'cresubi', 4425: 'park6ph', 4426: '5wkg', 4427: 'daysìn', 4428: 'sd', 4429: 'relaxing', 4430: '5ish', 4431: 'stripe', 4432: 'skirt', 4433: 'escalator', 4434: 'beth', 4435: 'charlie', 4436: 'nobut', 4437: 'syllabus', 4438: 'panasonic', 4439: 'bluetoothhdset', 4440: 'doublemin', 4441: 'doubletxt', 4442: '730pm', 4443: 'poyyarikaturkolathupalayamunjalur', 4444: 'posterode', 4445: 'heroi', 4446: 'apt', 4447: 'opportunitypls', 4448: 'ltemailgt', 4449: 'meat', 4450: 'supreme', 4451: 'toldshe', 4452: 'dearregret', 4453: 'cudnt', 4454: 'calldrove', 4455: 'ctla', 4456: 'homeleft', 4457: 'carente', 4458: 'ishtamayoohappy', 4459: 'bakrid', 4460: 'knowwait', 4461: 'glorious', 4462: 'coaxing', 4463: 'fond', 4464: 'souvenier', 4465: 'cougarpen', 4466: '09065394514', 4467: 'nanny', 4468: 'shitin', 4469: 'defo', 4470: 'lekdog', 4471: 'atten', 4472: 'iåõd', 4473: '09058097218', 4474: 'doesnåõt', 4475: 'datum', 4476: 'analysis', 4477: 'belligerent', 4478: 'les', 4479: 'rudi', 4480: 'snoringthey', 4481: 'ink', 4482: '515', 4483: 'processnetworke', 4484: 'daysso', 4485: 'finalise', 4486: 'visitneed', 4487: 'wwwflirtpartyu', 4488: 'replys150', 4489: 'valid12hrs', 4490: 'lul', 4491: 'nurse', 4492: 'obese', 4493: 'oyea', 4494: 'ami', 4495: 'parchi', 4496: 'kicchu', 4497: 'kaaj', 4498: 'korte', 4499: 'iccha', 4500: 'korche', 4501: 'tul', 4502: 'sculpture', 4503: 'surya', 4504: 'pokkiri', 4505: 'attractioni', 4506: 'meshe', 4507: 'thoughtsi', 4508: 'hershe', 4509: 'dreamlove', 4510: 'namemy', 4511: 'hermy', 4512: 'herwill', 4513: 'sorrowsi', 4514: 'proove', 4515: 'planeti', 4516: 'praise', 4517: 'makiing', 4518: 'sambarlife', 4519: 'thenwill', 4520: 'needle', 4521: 'meetitz', 4522: '4few', 4523: 'conected', 4524: 'spatula', 4525: 'complexity', 4526: 'freely', 4527: 'taxis', 4528: 'outrageous', 4529: 'ryder', 4530: 'unsoldnow', 4531: 'elvis', 4532: 'presleys', 4533: 'postal', 4534: 'addressull', 4535: 'alrightokay', 4536: 'wrke', 4537: 'sittin', 4538: 'hen', 4539: 'sfirst', 4540: 'timedhoni', 4541: 'teju', 4542: 'hourish', 4543: 'nothis', 4544: 'groundamla', 4545: 'convenience', 4546: 'evaluation', 4547: '449050000301', 4548: '09050000301', 4549: '80155', 4550: 'swap', 4551: 'chatter', 4552: 'chat80155', 4553: 'rcd', 4554: 'cheyyamoand', 4555: '80160', 4556: 'wwwtxt43com', 4557: 'hmv1', 4558: 'correction', 4559: 'painhope', 4560: 'tau', 4561: 'piah', 4562: '1stchoicecouk', 4563: '08707808226', 4564: 'ohas', 4565: 'shade', 4566: 'copied', 4567: 'notify', 4568: 'marketing', 4569: '84122', 4570: '08450542832', 4571: 'sexual', 4572: 'theirs', 4573: '69911å150p', 4574: 'sitter', 4575: 'kaitlyn', 4576: 'danger', 4577: 'peep', 4578: 'comment', 4579: 'veggie', 4580: 'buying', 4581: 'computerless', 4582: 'balloon', 4583: 'passthey', 4584: 'ntswt', 4585: 'drm', 4586: 'melody', 4587: 'hme', 4588: 'velachery', 4589: 'flippin', 4590: 'cstore', 4591: 'hangin', 4592: 'alivebetter', 4593: 'lodge', 4594: 'popcorn', 4595: 'celeb', 4596: '087016248', 4597: '08719181503', 4598: 'thin', 4599: 'faultal', 4600: 'faultfe', 4601: 'himso', 4602: 'thanxxx', 4603: 'semi', 4604: 'exp', 4605: '30apr', 4606: 'maaaan', 4607: 'guessin', 4608: 'ilol', 4609: 'personally', 4610: 'wuldnt', 4611: 'lunchtime', 4612: 'organise', 4613: 'passable', 4614: 'phd', 4615: '5year', 4616: 'prakesh', 4617: 'betta', 4618: 'product', 4619: 'accommodation', 4620: 'global', 4621: 'wwwphb1com', 4622: 'ph08700435505150p', 4623: 'snatch', 4624: 'hellodrivby0quit', 4625: 'edrunk', 4626: 'iff', 4627: 'pthis', 4628: 'senrddnot', 4629: 'dancce', 4630: 'drum', 4631: 'basqihave', 4632: '2nhite', 4633: 'ros', 4634: 'xxxxxxx', 4635: 'relieve', 4636: 'westonzoyland', 4637: 'greatness', 4638: 'goin2bed', 4639: 'only1more', 4640: 'mc', 4641: '2nitetell', 4642: 'every1', 4643: 'ava', 4644: 'goodtimeoli', 4645: 'rang', 4646: 'melnite', 4647: 'ifink', 4648: 'sortedbut', 4649: 'everythin', 4650: 'monl8rsx', 4651: '08712402779', 4652: 'shun', 4653: 'bian', 4654: 'glass', 4655: 'exhibition', 4656: 'el', 4657: 'nino', 4658: 'chikkugoe', 4659: 'downstem', 4660: '08718730555', 4661: 'wahala', 4662: 'inperialmusic', 4663: 'listening2the', 4664: 'byåóleafcutter', 4665: 'johnåósound', 4666: 'insect', 4667: 'molestedsomeone', 4668: 'plumbingremixe', 4669: 'evil', 4670: 'acid', 4671: 'didntgive', 4672: 'bellearli', 4673: '09096102316', 4674: 'cheery', 4675: '80488biz', 4676: 'weirdo', 4677: 'heygreat', 4678: 'dealfarm', 4679: '95pax', 4680: 'jap', 4681: 'disappear', 4682: 'certificate', 4683: 'publish', 4684: 'wheellock', 4685: 'destination', 4686: 'happenin', 4687: 'cocksucker', 4688: 'worthless', 4689: 'novelty', 4690: 'tshirt', 4691: 'knackered', 4692: 'janx', 4693: 'designation', 4694: 'developer', 4695: 'videosound', 4696: 'videosounds2', 4697: 'logosmusicnew', 4698: 'jamstercouk', 4699: '09701213186', 4700: 'spirit', 4701: 'shatter', 4702: 'girlie', 4703: 'gray', 4704: 'listn', 4705: 'watevr', 4706: 'whileamp', 4707: 'ûïharry', 4708: 'minus', 4709: 'paragraph', 4710: 'coveragd', 4711: 'vasai', 4712: '4o', 4713: 'retard', 4714: 'bathroom', 4715: 'uptown', 4716: '80', 4717: 'icic', 4718: 'syria', 4719: 'heartsnot', 4720: 'gauge', 4721: 'pattys', 4722: 'mondaynxt', 4723: 'ax', 4724: 'surgical', 4725: 'emergency', 4726: 'unfold', 4727: 'korean', 4728: 'leonas', 4729: 'fredericksburg', 4730: 'pases', 4731: 'un', 4732: 'buen', 4733: 'tiempo', 4734: 'compass', 4735: 'worldgnun', 4736: 'way2smscom', 4737: 'baaaaabe', 4738: 'misss', 4739: 'youuuuu', 4740: 'ned', 4741: 'witot', 4742: 'melike', 4743: 'becz', 4744: 'undrstndng', 4745: 'steamboat', 4746: 'tp', 4747: 'bbq', 4748: '6ish', 4749: 'everyso', 4750: 'panick', 4751: 'outhave', 4752: 'nick', 4753: 'huai', 4754: 'appear', 4755: 'thirunelvali', 4756: 'evei', 4757: 'netno', 4758: 'availablei', 4759: 'tackle', 4760: 'tonght', 4761: 'plough', 4762: 'pile', 4763: 'chinky', 4764: 'wi', 4765: 'nz', 4766: 'geelater', 4767: 'aust', 4768: 'bk', 4769: 'papa', 4770: 'detailed', 4771: 'loser', 4772: 'beta', 4773: 'kkany', 4774: 'noncomittal', 4775: 'snicker', 4776: 'chord', 4777: 'nofew', 4778: 'beforewent', 4779: 'win150ppmx3age16', 4780: 'boyf', 4781: 'interviw', 4782: 'worriedx', 4783: 'spreadsheet', 4784: 'entire', 4785: 'dartboard', 4786: 'treble', 4787: 'wished', 4788: 'intrepid', 4789: 'duo', 4790: 'breeze', 4791: 'fresh', 4792: 'twitter', 4793: 'yagoe', 4794: 'duck', 4795: 'chinchilla', 4796: 'headstart', 4797: '230ish', 4798: 'earlierwe', 4799: 'rummer', 4800: 'optin', 4801: 'bbc', 4802: 'thanks2', 4803: 'rajini', 4804: 'help08714742804', 4805: 'spys', 4806: '09099725823', 4807: 'yalru', 4808: 'astne', 4809: 'innu', 4810: 'mundhe', 4811: 'ali', 4812: 'halla', 4813: 'bilo', 4814: 'marriageprogram', 4815: 'edhae', 4816: 'ovr', 4817: 'chikkuali', 4818: 'vargu', 4819: 'meow', 4820: 'meowd', 4821: 'prone', 4822: '07801543489', 4823: 'latests', 4824: 'wordcollect', 4825: 'no83355', 4826: 'tcllc', 4827: 'nyusa', 4828: '150pmt', 4829: 'msgrcvd18', 4830: 'cumin', 4831: '09099726395', 4832: 'dose', 4833: 'incomm', 4834: 'waitshould', 4835: 'tiring', 4836: 'browsin', 4837: 'compulsory', 4838: 'teasing', 4839: 'investigate', 4840: 'www80488biz', 4841: 'moneyas', 4842: 'youmoney', 4843: 'thinghow', 4844: 'vitamin', 4845: 'sha', 4846: 'crucial', 4847: '2channel', 4848: 'leadership', 4849: 'skill', 4850: 'psychic', 4851: 'wquestion', 4852: 'hostbased', 4853: 'idps', 4854: 'linux', 4855: 'systems', 4856: 'converter', 4857: 'sayy', 4858: 'petei', 4859: 'leannewhat', 4860: 'disc', 4861: 'champ', 4862: 'glasgow', 4863: 'kall', 4864: 'bestcongrat', 4865: 'lovin', 4866: 'install', 4867: 'browse', 4868: 'artist', 4869: 'corect', 4870: 'spele', 4871: '10803', 4872: '08714719523', 4873: 'hict', 4874: 'employee', 4875: 'nike', 4876: 'sooo', 4877: 'screaming', 4878: 'dang', 4879: 'nordstrom', 4880: 'conference', 4881: 'wwworangecoukow', 4882: 'bleak', 4883: 'raiden', 4884: 'tote', 4885: 'pierre', 4886: 'cardin', 4887: 'establish', 4888: 'truro', 4889: 'ext', 4890: 'worryuse', 4891: 'cloth', 4892: 'packalso', 4893: 'parked', 4894: 'sunroof', 4895: 'kalainar', 4896: 'officethenampet', 4897: 'nosy', 4898: 'react', 4899: 'satanic', 4900: 'imposter', 4901: 'meneed', 4902: 'priceso', 4903: 'itmay', 4904: 'destiny', 4905: 'companion', 4906: 'chef', 4907: 'listener', 4908: 'organizer', 4909: 'sympathetic', 4910: 'athletic', 4911: 'courageous', 4912: 'dependable', 4913: 'psychologist', 4914: 'pest', 4915: 'exterminator', 4916: 'psychiatrist', 4917: 'healer', 4918: 'stylist', 4919: 'aaniye', 4920: 'pudunga', 4921: 'venaam', 4922: 'chez', 4923: 'jule', 4924: 'hhahhaahahah', 4925: 'nig', 4926: 'leonardo', 4927: 'dereks', 4928: '2years', 4929: 'strain', 4930: 'withdraw', 4931: 'miller', 4932: 'spark', 4933: 'rawre', 4934: 'xoxo', 4935: 'somewhr', 4936: 'crush', 4937: 'honeymoon', 4938: 'outfit', 4939: '08719899230', 4940: 'cheque', 4941: 'olympic', 4942: 'leo', 4943: 'patty', 4944: 'donewant', 4945: 'haul', 4946: 'wildlife', 4947: 'want2come', 4948: 'that2worzel', 4949: 'wizzle', 4950: 'shanghai', 4951: 'cya', 4952: '645', 4953: 'rtke', 4954: 'inforingtonekingcouk', 4955: '08701237397', 4956: 'redeemable', 4957: 'wwwringtonekingcouk', 4958: 'thnx', 4959: 'sef', 4960: 'anjie', 4961: 'fring', 4962: 'nte', 4963: 'doesnût', 4964: '02072069400', 4965: 'bx', 4966: '526', 4967: 'animal', 4968: 'shiny', 4969: 'loved', 4970: 'french', 4971: '0anetworks', 4972: 'responsible', 4973: 'supplier', 4974: 'comedycant', 4975: 'freemsgfeelin', 4976: 'lnly', 4977: 'pictxt', 4978: 'keen', 4979: 'dammit', 4980: 'wright', 4981: 'somewhat', 4982: 'laden', 4983: 'wreck', 4984: 'spontaneously', 4985: 'goodevene', 4986: 'sif', 4987: 'rgent', 4988: 'daytime', 4989: 'busty', 4990: '09099726429', 4991: 'janinexx', 4992: 'spageddie', 4993: 'phase', 4994: 'fourth', 4995: 'dimension', 4996: 'yesbut', 4997: 'meaningful', 4998: 'compromise', 4999: 'lmaonice', 5000: '09050001295', 5001: 'a21', 5002: 'mobsicom', 5003: '391784', 5004: 'dub', 5005: 'je', 5006: 'squat', 5007: '0089my', 5008: 'digit', 5009: 'received', 5010: '09063442151', 5011: 'sonathaya', 5012: 'soladha', 5013: 'rape', 5014: 'weightloss', 5015: 'mushy', 5016: 'embarrass', 5017: 'stash', 5018: 'priya', 5019: 'kilo', 5020: 'accidant', 5021: 'tookplace', 5022: 'ghodbandar', 5023: 'slovely', 5024: 'ahnow', 5025: 'wherebtw', 5026: 'nus', 5027: 'sc', 5028: 'specialise', 5029: 'wad', 5030: 'desparately', 5031: 'stereo', 5032: 'mi', 5033: 'classmate', 5034: 'firesare', 5035: 'prebook', 5036: 'trackmarque', 5037: 'infovipclub4u', 5038: 'missionary', 5039: 'entertaining', 5040: 'hugh', 5041: 'laurie', 5042: 'prap', 5043: 'jon', 5044: 'spain', 5045: 'dinero', 5046: 'åôrents', 5047: '12000pe', 5048: 'å48', 5049: 'hunnywot', 5050: 'bedroomlove', 5051: 'mandy', 5052: 'sullivan', 5053: 'hotmix', 5054: 'fmyou', 5055: 'å500000', 5056: 'drawplease', 5057: '09041940223', 5058: '290305', 5059: 'finn', 5060: 'downon', 5061: 'theacusation', 5062: 'itxt', 5063: 'iwana', 5064: 'wotu', 5065: 'thewend', 5066: 'haventcn', 5067: 'agesre', 5068: 'nething', 5069: 'satlove', 5070: 'conacte', 5071: 'youto', 5072: '09111030116', 5073: 'pobox12n146tf15', 5074: 'vtired', 5075: 'inspection', 5076: 'nursery', 5077: 'detailsi', 5078: 'youmy', 5079: 'itmail', 5080: 'panren', 5081: 'paru', 5082: 'chuckin', 5083: 'trainner', 5084: 'carryin', 5085: 'bac', 5086: 'gooddhanush', 5087: 'chikkusimple', 5088: 'habbahw', 5089: 'dileepthank', 5090: 'muchand', 5091: 'supportvery', 5092: 'hereremember', 5093: 'venugopal', 5094: 'mentionedtomorrow', 5095: 'latei', 5096: 'theregoodnight', 5097: 'everytime', 5098: '3230', 5099: 'textbook', 5100: 'algorithms', 5101: 'edition', 5102: '09064018838', 5103: 'cro1327', 5104: 'yessura', 5105: 'tvlol', 5106: '4ui', 5107: 'intend', 5108: 'iwasmarinethatåõs', 5109: 'itried2tell', 5110: 'urmomi', 5111: 'careabout', 5112: 'fake', 5113: 'iraq', 5114: 'afghanistan', 5115: 'stable', 5116: 'honest', 5117: 'blessget', 5118: '1225', 5119: 'å50award', 5120: 'pai', 5121: 'seh', 5122: 'walsall', 5123: 'terry', 5124: 'ccna', 5125: 'shrek', 5126: '3db', 5127: 'fellow', 5128: 'teresa', 5129: 'dec', 5130: 'yould', 5131: 'reading', 5132: 'bam', 5133: 'aid', 5134: 'usmle', 5135: 'squishy', 5136: 'mwah', 5137: 'prominent', 5138: 'cheek', 5139: 'september', 5140: 'hack', 5141: 'backdoor', 5142: 'fraction', 5143: 'neo69', 5144: '09050280520', 5145: 'dps', 5146: 'bcm', 5147: '8027', 5148: '415', 5149: 'comingdown', 5150: 'dagood', 5151: 'murali', 5152: 'playerwhy', 5153: 'sts', 5154: 'engalnd', 5155: 'mia', 5156: 'elliot', 5157: '12mth', 5158: '12price', 5159: 'xnet', 5160: 'mins100txtmth', 5161: '2optoutd3wv', 5162: 'wiproyou', 5163: 'matric', 5164: '850', 5165: '650', 5166: '08718726970', 5167: 'fedex', 5168: 'kyou', 5169: 'reception', 5170: 'consensus', 5171: 'entertain', 5172: 'bras', 5173: 'strew', 5174: 'pillow', 5175: 'wicked', 5176: 'sh', 5177: 'readyall', 5178: 'srt', 5179: 'ps3', 5180: 'jontin', 5181: 'prizeto', 5182: 'ban', 5183: 'pen', 5184: 'biro', 5185: '09058094594', 5186: 'unconsciously', 5187: 'unhappy', 5188: '09061743811', 5189: 'lark', 5190: '09090900040', 5191: 'extreme', 5192: 'sic', 5193: '60p', 5194: '247mp', 5195: '0870753331018', 5196: 'videopic', 5197: 'wild', 5198: '150prcvd', 5199: 'stop2stop', 5200: 'lim', 5201: 'parachute', 5202: 'lambda', 5203: 'angel', 5204: 'snowball', 5205: 'ello', 5206: 'ofice', 5207: 'oficegot', 5208: 'duffer', 5209: 'grr', 5210: 'pharmacy', 5211: '08715500022', 5212: 'rpl', 5213: 'cnl', 5214: 'fffff', 5215: 'lifebook', 5216: 'zhong', 5217: 'qe', 5218: '46', 5219: 'hypertension', 5220: 'mineall', 5221: 'annoyin', 5222: '08702490080', 5223: 'vpod', 5224: 'nigro', 5225: 'anyplace', 5226: 'priority', 5227: 'ecstasy', 5228: '09090204448', 5229: 'minded', 5230: 'aå150', 5231: 'minapn', 5232: 'ls278bb', 5233: 'hittng', 5234: 'reflex', 5235: '1010', 5236: 'adewale', 5237: 'egbon', 5238: 'minstand', 5239: 'mary', 5240: 'deduct', 5241: 'asshole', 5242: 'grab', 5243: '09065394973', 5244: 'payback', 5245: '31', 5246: 'tesco', 5247: 'feathery', 5248: 'bowa', 5249: 'infra', 5250: 'gep', 5251: '2006', 5252: 'fifa', 5253: 'shhhhh', 5254: 'relate', 5255: 'arul', 5256: 'amk', 5257: '09061743810', 5258: 'santha', 5259: 'corrct', 5260: 'dane', 5261: 'basket', 5262: 'rupaul', 5263: 'practise', 5264: 'curtsey', 5265: 'convert', 5266: 'themobyo', 5267: 'yohere', 5268: 'ssindia', 5269: 'african', 5270: 'soil', 5271: 'outreach', 5272: 'lb', 5273: 'brilliantly', 5274: 'forwarding', 5275: 'visitor', 5276: 'bend', 5277: 'thia', 5278: 'inlude', 5279: 'preview', 5280: 'ambrithmaduraimet', 5281: 'dha', 5282: 'marrgeremembr', 5283: 'kitty', 5284: 'shave', 5285: 'anybodys', 5286: 'tactful', 5287: 'skillgame1winaweek', 5288: 'age16150ppermesssubscription', 5289: 'eggspert', 5290: 'potato', 5291: 'headû', 5292: 'cram', 5293: 'satsgettin', 5294: '447per', 5295: 'apologize', 5296: 'admit', 5297: 'pei', 5298: 'subtoitle', 5299: 'jot', 5300: 'storelike', 5301: 'cereal', 5302: 'gari', 5303: 'bold2', 5304: '09094100151', 5305: 'gbp5month', 5306: 'box61m60', 5307: '1er', 5308: 'thkin', 5309: 'resubbe', 5310: 'shadow', 5311: 'breadstick', 5312: 'saeed', 5313: '09066362220', 5314: 'redim', 5315: 'blueu', 5316: 'purpleu', 5317: 'pinku', 5318: 'orangei', 5319: 'lyk', 5320: 'greeni', 5321: 'yelowi', 5322: 'blackim', 5323: 'browni', 5324: 'eld', 5325: 'drugdealer', 5326: 'wither', 5327: 'eg23f', 5328: 'eg23', 5329: 'wondarfull', 5330: 'messagestext', 5331: 'nowuse', 5332: 'web2mobile', 5333: 'txt250com', 5334: 'box139', 5335: 'la32wu', 5336: 'txtx', 5337: 'hunonbus', 5338: 'donyt', 5339: 'homebut', 5340: 'latelyxxx', 5341: '85233', 5342: 'freeringtonereply', 5343: 'ownyouve', 5344: 'skallis', 5345: 'soooo', 5346: 'provider', 5347: 'dice', 5348: 'help08700469649', 5349: 'box420', 5350: 'howda', 5351: 'mathe', 5352: 'samachara', 5353: 'audrie', 5354: 'autocorrect', 5355: 'simulate', 5356: 'readiness', 5357: 'andor', 5358: 'lara', 5359: '087123002209am7pm', 5360: 'washob', 5361: 'nobbe', 5362: 'nickey', 5363: 'platt', 5364: 'ryan', 5365: 'spotty', 5366: 'province', 5367: 'sterling', 5368: 'problemfree', 5369: 'hall', 5370: 'starting', 5371: 'hesitation', 5372: 'intha', 5373: 'ponnungale', 5374: 'ipaditan', 5375: 'reject', 5376: 'noisy', 5377: 'needa', 5378: 'sfrom', 5379: 'manual', 5380: 'processit', 5381: 'reset', 5382: 'troubleshooting', 5383: 'b4u', 5384: 'wc', 5385: '2703', 5386: 'marsm', 5387: 'wwwb4utelecom', 5388: '08717168528', 5389: 'strongly', 5390: 'creativity', 5391: 'stifle', 5392: 'requirement', 5393: 'strangersaw', 5394: 'heåõs', 5395: 'nowstill', 5396: 'mrur', 5397: '2getha', 5398: 'buffy', 5399: 'qlynnbv', 5400: 'help08700621170150p', 5401: '8830', 5402: 'nosh', 5403: 'waaaat', 5404: 'lololo', 5405: 'comei', 5406: 'document', 5407: 'stapati', 5408: 'cutie', 5409: 'wale', 5410: 'honesty', 5411: 'ze', 5412: 'specialisation', 5413: 'labor', 5414: 'shakara', 5415: 'beggar', 5416: 'dent', 5417: 'crickite', 5418: 'imin', 5419: 'towndontmatter', 5420: 'urgoin', 5421: 'outl8r', 5422: 'yavnt', 5423: 'ibuprofen', 5424: 'chinatown', 5425: 'porridge', 5426: 'claypot', 5427: 'yam', 5428: 'fishhead', 5429: 'beehoon', 5430: 'jaklin', 5431: 'nearby', 5432: '449month', 5433: 'bundle', 5434: 'avble', 5435: 'call2optoutj', 5436: 'mf', 5437: 'ooh', 5438: '4got', 5439: 'moseley', 5440: 'wed', 5441: 'thankyou', 5442: 'pendingi', 5443: 'dayswill', 5444: 'thrurespect', 5445: 'homecheck', 5446: 'loveable', 5447: 'eternal', 5448: 'noble', 5449: 'truthful', 5450: 'intimate', 5451: 'enamous', 5452: 'textin', 5453: 'amigo', 5454: 'progress', 5455: 'arty', 5456: 'collage', 5457: 'tryin', 5458: '2hrs', 5459: 'walike', 5460: 'carton', 5461: '08714712379', 5462: 'mirror', 5463: 'caring', 5464: 'k718', 5465: '09065069120', 5466: 'jod', 5467: 'keris', 5468: 'smidgin', 5469: 'collegexx', 5470: 'accordin', 5471: 'sicomo', 5472: 'nolistened2the', 5473: 'plaid', 5474: 'albumquite', 5475: 'gdthe', 5476: 'air1', 5477: 'hilariousalso', 5478: 'boughtåóbraindanceåóa', 5479: 'compofstuff', 5480: 'aphexåõs', 5481: 'abel', 5482: 'nelson', 5483: 'unmit', 5484: 'newspaper', 5485: 'yummmm', 5486: 'puzzele', 5487: '4goten', 5488: 'scammer', 5489: 'smartthough', 5490: 'msgsubscription', 5491: 'passion', 5492: '09099726481', 5493: 'dena', 5494: 'å1minmobsmorelkpobox177hp51fl', 5495: 'r836', 5496: '09065069154', 5497: 'threat', 5498: 'shifad', 5499: '2godid', 5500: 'splashmobile', 5501: 'subscrition', 5502: 'dust', 5503: '88877free', 5504: '88877', 5505: '3pound', 5506: 'watchin', 5507: 'meaningless', 5508: 'brdget', 5509: 'jones', 5510: 'inever', 5511: 'hmmbad', 5512: 'newshype', 5513: '700', 5514: 'studio', 5515: 'takenonly', 5516: 'bedrm900', 5517: 'velly', 5518: 'marking', 5519: '2stoptx', 5520: '08718738034', 5521: 'vai', 5522: 'hanger', 5523: 'arrow', 5524: '08718726971', 5525: 'tddnewsletteremc1couk', 5526: 'thedailydraw', 5527: 'dozen', 5528: 'prizeswith', 5529: 'significant', 5530: 'waqt', 5531: 'pehle', 5532: 'naseeb', 5533: 'zyada', 5534: 'kisi', 5535: 'ko', 5536: 'kuch', 5537: 'miltazindgi', 5538: 'hum', 5539: 'sochte', 5540: 'zindgi', 5541: 'jeetey', 5542: 'varaya', 5543: 'elaya', 5544: '100603', 5545: '09066368753', 5546: '97n7qp', 5547: 'anand', 5548: 'beach', 5549: 'deadwell', 5550: 'jez', 5551: 'todo', 5552: 'workand', 5553: 'whilltake', 5554: 'zogtorius', 5555: 'iåõve', 5556: 'financial', 5557: 'problemi', 5558: 'alian', 5559: 'freenokia', 5560: 'or2optouthv9d', 5561: 'posible', 5562: 'century', 5563: 'frwd', 5564: 'restriction', 5565: 'buddys', 5566: '08712402902', 5567: 'possessive', 5568: 'nohe', 5569: 'clarification', 5570: 'coimbatore', 5571: 'resub', 5572: 'monoc', 5573: 'polyc', 5574: 'stream', 5575: '0871212025016', 5576: 'category', 5577: 'ethnicity', 5578: 'census', 5579: 'transcribe', 5580: 'goodmate', 5581: 'asusual1', 5582: 'franyxxxxx', 5583: 'batt', 5584: 'becausethey', 5585: '09058098002', 5586: 'pobox1', 5587: 'w14rg', 5588: 'pressure', 5589: 'doke', 5590: 'neshanthtel', 5591: 'byatch', 5592: 'whassup', 5593: 'cl', 5594: 'filthyguy', 5595: 'slo', 5596: 'slo4msg', 5597: 'chiong', 5598: 'dialogue', 5599: 'reltnship', 5600: 'pose', 5601: 'comb', 5602: 'dryer', 5603: 'fps', 5604: 'computational', 5605: 'madamregret', 5606: 'disturbancemight', 5607: 'dlf', 5608: 'premaricakindly', 5609: 'informedrgdsrakheshkerala', 5610: 'gotto', 5611: '08702840625', 5612: 'comuk220cm2', 5613: 'err', 5614: 'kbut', 5615: 'hitteranyway', 5616: 'offline', 5617: 'anjola', 5618: 'ithis', 5619: 'wwwasjesuscom', 5620: 'lac', 5621: 'taxless', 5622: 'suply', 5623: 'imf', 5624: 'corrupt', 5625: 'itna', 5626: 'karo', 5627: 'pura', 5628: 'padhegm', 5629: 'torrent', 5630: 'particularly', 5631: 'commit', 5632: '83370', 5633: 'wwwmusictrivianet', 5634: 'rightio', 5635: '1148', 5636: 'brum', 5637: 'scorable', 5638: 'paranoid', 5639: 'brin', 5640: 'kgive', 5641: 'onlybettr', 5642: 'bsnl', 5643: 'offc', 5644: 'suganya', 5645: 'dessert', 5646: 'abeg', 5647: 'sponsor', 5648: 'onum', 5649: 'candont', 5650: 'poet', 5651: 'imaginationmy', 5652: 'carso', 5653: 'rr', 5654: 'famamus', 5655: 'jenne', 5656: 'barcelona', 5657: 'sppok', 5658: 'complementary', 5659: 'wa14', 5660: '2px', 5661: 'sender', 5662: 'kdo', 5663: 'daurgent', 5664: 'pansy', 5665: 'jungle', 5666: 'kanji', 5667: 'drinkpa', 5668: 'srs', 5669: 'drizzle', 5670: 'drama', 5671: 'plsi', 5672: 'struggle', 5673: 'placeno', 5674: 'ego', 5675: 'necessity', 5676: 'gowait', 5677: 'reppurcussion', 5678: 'cosign', 5679: 'hvae', 5680: '09061701444', 5681: 'hcl', 5682: 'fresher', 5683: 'processexcellent', 5684: 'neededsalary', 5685: 'mssuman', 5686: 'telephonic', 5687: 'restuwud', 5688: 'reliant', 5689: 'fwiw', 5690: 'afford', 5691: 'kanowhr', 5692: 'sq825', 5693: 'arrival', 5694: 'citylink', 5695: 'prop', 5696: 'pleasant', 5697: '6230', 5698: 'pobox11414tcrw1', 5699: 'bognor', 5700: 'splendid', 5701: 'yesim', 5702: 'ktv', 5703: 'misplace', 5704: 'registration', 5705: 'permanent', 5706: 'residency', 5707: '6month', 5708: 'hmmmhow', 5709: 'accumulation', 5710: 'herwho', 5711: 'fate', 5712: 'shoranur', 5713: 'fuel', 5714: 'concern', 5715: 'prior', 5716: 'grief', 5717: 'text82228', 5718: 'wwwtxt82228com', 5719: 'infotxt82228couk', 5720: 'honestly', 5721: 'promptly', 5722: 'surfing', 5723: 'snap', 5724: 'quizclub', 5725: '80122300pwk', 5726: 'sprwm', 5727: 'ph08704050406', 5728: 'gmw', 5729: 'someplace', 5730: 'pressie', 5731: 'ultimately', 5732: 'tor', 5733: 'motive', 5734: 'tui', 5735: 'achieve', 5736: 'korli', 5737: 'weûll', 5738: 'roll', 5739: 'newscaster', 5740: 'dabble', 5741: 'flute', 5742: 'wheel', 5743: 'vid', 5744: 'keyword', 5745: 'the4th', 5746: 'october', 5747: '83435', 5748: 'safety', 5749: 'aspect', 5750: 'tarot', 5751: '85555', 5752: 'telling', 5753: 'oursso', 5754: 'youany', 5755: 'nytec2a3lpmsg150p', 5756: 'ovarian', 5757: 'cyst', 5758: 'shrink', 5759: 'onit', 5760: 'timin', 5761: 'ape', 5762: 'ibm', 5763: 'hp', 5764: 'gosh', 5765: 'spose', 5766: 'rimac', 5767: 'arestaurant', 5768: 'squid', 5769: 'dosomethe', 5770: 'ucall', 5771: 'wrki', 5772: 'dabook', 5773: 'nite2', 5774: 'eachother', 5775: 'luckily', 5776: 'wwwtklscom', 5777: 'stoptxtstopå150week', 5778: 'smoothly', 5779: 'challenging', 5780: 'pple700', 5781: 'nightsexcellent', 5782: 'breakfast', 5783: 'hamper', 5784: 'cc100pmin', 5785: 'daal', 5786: '0870737910216yr', 5787: 'å150wk', 5788: 'unni', 5789: 'rechargerakhesh', 5790: 'lack', 5791: 'particular', 5792: 'dramastorm', 5793: 'forfeit', 5794: 'digi', 5795: 'coupla', 5796: '077xxx', 5797: '09066362206', 5798: 'sundayish', 5799: 'prasad', 5800: 'rcbbattle', 5801: 'kochi', 5802: 'checkup', 5803: 'smear', 5804: 'gobi', 5805: 'pandy', 5806: '4w', 5807: 'technology', 5808: 'todayhe', 5809: 'olowoyey', 5810: 'uscedu', 5811: 'argentina', 5812: 'taxt', 5813: 'massagetiepos', 5814: 'lool', 5815: 'timeslil', 5816: 'busyi', 5817: 'scarcasim', 5818: 'naal', 5819: 'eruku', 5820: 'chikkuwat', 5821: 'w4', 5822: '5wq', 5823: 'impressively', 5824: 'sensible', 5825: 'alsoor', 5826: 'danalla', 5827: 'obedient', 5828: 'ft', 5829: 'combination', 5830: 'needy', 5831: 'playng', 5832: 'race', 5833: '1mcflyall', 5834: 'ab', 5835: 'sara', 5836: 'jorgeshock', 5837: 'smithswitch', 5838: 'yupz', 5839: 'modelsony', 5840: 'ericson', 5841: 'der', 5842: 'luk', 5843: 'modl', 5844: 'cheesy', 5845: 'frosty', 5846: 'witin', 5847: '0870141701216', 5848: '4txt120p', 5849: '10th', 5850: '09050000555', 5851: 'ba128nnfwfly150ppm', 5852: 'nudist', 5853: 'pump', 5854: 'å12', 5855: 'signal', 5856: 'unusual', 5857: 'snog', 5858: 'palm', 5859: '83021', 5860: 'state', 5861: 'perpetual', 5862: 'dd', 5863: 'pract', 5864: 'fling', 5865: 'justbeen', 5866: 'overa', 5867: 'mush', 5868: 'tunde', 5869: 'mission', 5870: '20m12aq', 5871: 'ûï', 5872: 'lux', 5873: 'eh74rr', 5874: 'avo', 5875: 'chachi', 5876: 'pl', 5877: 'tiz', 5878: 'kanagu', 5879: 'houseful', 5880: 'brat', 5881: 'nowonion', 5882: 'derp', 5883: 'abuser', 5884: 'lipo', 5885: 'netflix', 5886: 'clash', 5887: 'arr', 5888: 'oscar', 5889: 'rebtel', 5890: 'firefox', 5891: '69969', 5892: 'bcmsfwc1n3xx', 5893: 'impressed', 5894: 'footy', 5895: 'stadium', 5896: 'cocacola', 5897: 'teenager', 5898: 'telugutht', 5899: 'mittelschmertz', 5900: 'paracetamol', 5901: 'salespee', 5902: 'cthen', 5903: 'conclusion', 5904: 'atyour', 5905: 'uûªve', 5906: 'å50', 5907: 'instant', 5908: '08715203028', 5909: '9th', 5910: 'å50å500', 5911: 'rugby', 5912: 'affidavit', 5913: 'twiggs', 5914: 'courtroom', 5915: 'freemsgfav', 5916: 'tonesreply', 5917: 'possessiveness', 5918: 'golden', 5919: 'breathe1', 5920: 'crazyin', 5921: 'sleepingwith', 5922: 'ymca', 5923: 'getzedcouk', 5924: 'pobox365o4w45wq', 5925: 'wtc', 5926: 'weiyi', 5927: 'åòit', 5928: '505060', 5929: 'godtaken', 5930: 'teethis', 5931: 'romcapspam', 5932: 'presence', 5933: 'outgoing', 5934: 'maggi', 5935: 'mee', 5936: '08712103738', 5937: 'com', 5938: 'bbdpooja', 5939: 'pimpleseven', 5940: 'blackand', 5941: 'sweatter', 5942: 'ambitious', 5943: 'miiiiiiissssssssss', 5944: 'tunji', 5945: 'misscall', 5946: 'frndz', 5947: '6missed', 5948: 'freemessage', 5949: 'jamsterget', 5950: 'frog', 5951: 'mad1', 5952: 'mad2', 5953: 'gbpweek', 5954: 'wipro', 5955: 'tall', 5956: 'robs', 5957: 'avenge', 5958: 'toss', 5959: 'gudni8', 5960: 'dancin', 5961: 'explicitly', 5962: 'nora', 5963: 'smith', 5964: 'gayle', 5965: 'crucify', 5966: 'vs', 5967: 'cedar', 5968: 'durham', 5969: 'reserved', 5970: '69855', 5971: 'stopbcm', 5972: 'sf', 5973: 'printer', 5974: 'groovy', 5975: 'groovye', 5976: 'harish', 5977: 'transfre', 5978: 'acnt', 5979: 'nowadayslot', 5980: 'showroomscity', 5981: 'shape', 5982: 'probs', 5983: 'doinat', 5984: 'callon', 5985: 'kkyesterday', 5986: 'pdate', 5987: 'call2optoutyhl', 5988: 'configure', 5989: 'iûªm', 5990: 'isnûªt', 5991: 'anal', 5992: 'pear', 5993: 'oooooh', 5994: '09058094454', 5995: 'thatnow', 5996: '54', 5997: 'resubmit', 5998: 'expiry', 5999: 'weåõve', 6000: 'mint', 6001: 'uxxxx', 6002: 'human', 6003: 'studyn', 6004: 'everyboy', 6005: 'xxxxxxxx', 6006: 'wats', 6007: '532', 6008: '924', 6009: '863', 6010: '725', 6011: 'brilliant1thingi', 6012: 'answr', 6013: 'liquor', 6014: 'loko', 6015: 'fireplace', 6016: 'icon', 6017: '08712400200', 6018: 'fifth', 6019: 'woozle', 6020: 'weasel', 6021: '08718723815', 6022: 'machine', 6023: 'ignorant', 6024: 'mys', 6025: 'downs', 6026: 'fletcher', 6027: '27603', 6028: '08714714011', 6029: 'cozy', 6030: 'nightnobody', 6031: 'buzzzz', 6032: 'vibrator', 6033: 'trend', 6034: 'con', 6035: 'description', 6036: 'nuclear', 6037: 'fusion', 6038: 'iter', 6039: 'jet', 6040: 'nonenowhere', 6041: 'ikno', 6042: 'doesdiscountshitinnit', 6043: 'jabo', 6044: 'maniac', 6045: 'hadya', 6046: 'sapna', 6047: 'manege', 6048: 'yday', 6049: 'hogidhechinnu', 6050: 'swalpa', 6051: 'agidhane', 6052: 'typelyk', 6053: 'footblcrckt', 6054: 'swell', 6055: 'tim', 6056: 'bollox', 6057: 'tol', 6058: 'ingredient', 6059: 'pocy', 6060: 'non', 6061: 'call2optout4qf2', 6062: 'senor', 6063: 'giggle', 6064: 'possibly', 6065: 'person2die', 6066: 'nvq', 6067: 'professional', 6068: 'tiger', 6069: 'wood', 6070: 'grinder', 6071: 'youkwhere', 6072: 'entirely', 6073: 'knowhe', 6074: 'onluy', 6075: 'offcampus', 6076: 'riley', 6077: 'ew', 6078: 'lingo', 6079: '12mths', 6080: '400minscall', 6081: 'call2optoutj5q', 6082: 'medont', 6083: 'lm', 6084: '69200', 6085: 'chrgd50p', 6086: '2exit', 6087: 'sankranti', 6088: 'republic', 6089: 'shivratri', 6090: 'ugadi', 6091: 'independence', 6092: 'friendshipmotherfatherteacherschildren', 6093: 'festival', 6094: 'dasara', 6095: 'rememberi', 6096: 'theseyour', 6097: 'lifeis', 6098: 'daywith', 6099: 'somewheresomeone', 6100: 'tosend', 6101: 'selflessness', 6102: 'initiate', 6103: 'tallent', 6104: 'portal', 6105: 'dont4get2text', 6106: 'lennon', 6107: 'shorethe', 6108: 'fox', 6109: 'frndsship', 6110: 'dwn', 6111: 'slaaaaave', 6112: 'summon', 6113: 'å3365', 6114: 'appendix', 6115: 'slob', 6116: 'gudnite', 6117: 'topicsorry', 6118: 'webpage', 6119: 'yeesh', 6120: 'unsubscribed', 6121: 'hunk', 6122: 'httpgotbabescouk', 6123: 'gopalettan', 6124: 'participate', 6125: 'kkfrom', 6126: 'abroad', 6127: 'xxsp', 6128: 'stopcost', 6129: '08712400603', 6130: 'goody', 6131: 'mat', 6132: 'ay', 6133: 'satì', 6134: 'isaiahd', 6135: 'expert', 6136: 'ssi', 6137: 'thinl', 6138: 'sachinjust', 6139: 'importantly', 6140: 'tightly', 6141: 'wnevr', 6142: 'yen', 6143: 'madodu', 6144: 'nav', 6145: 'pretsorginta', 6146: 'nammanna', 6147: 'pretsovru', 6148: 'alwa', 6149: 'lord', 6150: 'ringsreturn', 6151: 'nowreply', 6152: 'soundtrack', 6153: 'stdtxtrate', 6154: 'homelove', 6155: 'staffsciencenusedusgphyhcmkteachingpc1323', 6156: 'emigrate', 6157: 'hopeful', 6158: 'olol', 6159: 'stagwood', 6160: 'winterstone', 6161: 'victor', 6162: 'jp', 6163: 'mofo', 6164: 'pathaya', 6165: 'enketa', 6166: 'maraikara', 6167: 'priest', 6168: 'intrude', 6169: 'walkabout', 6170: 'announce', 6171: 'blog', 6172: '28th', 6173: '06', 6174: 'footie', 6175: 'phil', 6176: 'neville', 6177: 'abbey', 6178: 'auctionpunj', 6179: 'str8', 6180: 'classic', 6181: 'nokia150p', 6182: 'poly200p', 6183: 'pre', 6184: 'clip', 6185: '35p', 6186: 'mmsto', 6187: '32323', 6188: 'lifethis', 6189: 'twat', 6190: 'dungerees', 6191: 'punch', 6192: 'mentionne', 6193: 'vat', 6194: 'onlydon', 6195: 'hogolo', 6196: 'kodstini', 6197: 'madstini', 6198: 'hogli', 6199: 'mutai', 6200: 'eerulli', 6201: 'kodthini', 6202: 'thasa', 6203: 'upyeh', 6204: 'tex', 6205: 'mecause', 6206: 'werebored', 6207: 'okden', 6208: 'uin', 6209: 'satsoundåõs', 6210: 'likeyour', 6211: 'gr8fun', 6212: 'updat', 6213: 'countinlot', 6214: 'l', 6215: 'hdd', 6216: 'describe', 6217: '09053750005', 6218: '310303', 6219: '08718725756', 6220: '140ppm', 6221: 'asus', 6222: 'reformat', 6223: 'leu', 6224: 'plumber', 6225: 'wrench', 6226: 'httpwwwetlpcoukreward', 6227: 'appeal', 6228: 'thriller', 6229: 'elephant', 6230: 'um', 6231: 'cr', 6232: 'pookie', 6233: 'youdearwith', 6234: 'loverakhesh', 6235: 'nri', 6236: 'x2', 6237: 'deserve', 6238: '88039skilgmetscs087147403231winawkage16å150perwksub', 6239: 'diddy', 6240: 'toothpaste', 6241: 'oneta', 6242: 'poke', 6243: 'deam', 6244: 'seeing', 6245: 'coccoone', 6246: 'mus', 6247: 'yeahand', 6248: 'newquaysend', 6249: 'goneu', 6250: '1im', 6251: 'talkin', 6252: 'boutxx', 6253: 'windy', 6254: '09066358361', 6255: 'y87', 6256: 'knowthis', 6257: 'tirunelvai', 6258: 'dusk', 6259: 'puzzle', 6260: 'x29', 6261: '09065989180', 6262: 'stair', 6263: 'phew', 6264: 'thangamit', 6265: 'recycling', 6266: 'toledo', 6267: 'ding', 6268: 'tai', 6269: 'feng', 6270: 'reservation', 6271: 'swimsuit', 6272: 'squeeeeeze', 6273: 'frndshp', 6274: 'luvd', 6275: 'themp', 6276: 'volcanoes', 6277: 'erupt', 6278: 'hurricane', 6279: 'sway', 6280: 'aroundn', 6281: 'lighter', 6282: 'kkit', 6283: 'goodwhen', 6284: 'lasagna', 6285: 'chickene', 6286: 'woould', 6287: '08718726978', 6288: 'shore', 6289: '44', 6290: '7732584351', 6291: 'onedge', 6292: 'raviyog', 6293: 'peripheral', 6294: 'bhayandar', 6295: 'sunoco', 6296: 'musical', 6297: 'plate', 6298: 'leftover', 6299: 'fatty', 6300: 'badrith', 6301: 'chennaii', 6302: 'usno', 6303: 'checkin', 6304: 'numberso', 6305: 'ittb', 6306: 'armenia', 6307: 'swann', 6308: '09058097189', 6309: '330', 6310: '1120', 6311: '1205', 6312: 'justify', 6313: 'hunt', 6314: 'oops', 6315: '5226', 6316: 'hava', 6317: '1131', 6318: 'rct', 6319: 'thnq', 6320: 'adrian', 6321: 'rgds', 6322: 'vatian', 6323: 'babysitte', 6324: 'gonnamissu', 6325: 'butthere', 6326: 'abouta', 6327: 'merememberin', 6328: 'asthere', 6329: 'ofsi', 6330: 'breakin', 6331: 'yaxx', 6332: 'poortiyagi', 6333: 'odalebeku', 6334: 'hanumanji', 6335: '1hanuman', 6336: '2bajarangabali', 6337: '3maruti', 6338: '4pavanaputra', 6339: '5sankatmochan', 6340: '6ramaduth', 6341: '7mahaveer', 6342: 'janarige', 6343: 'ivatte', 6344: 'kalisidare', 6345: 'olage', 6346: 'ondu', 6347: 'keluviri', 6348: 'maretare', 6349: 'inde', 6350: 'dodda', 6351: 'problum', 6352: 'nalli', 6353: 'siguviri', 6354: 'idu', 6355: 'matra', 6356: 'neglet', 6357: 'ijust', 6358: 'opps', 6359: 'confused', 6360: 'tts', 6361: 'gei', 6362: 'tron', 6363: 'dl', 6364: 'selfish', 6365: 'spiffe', 6366: 'workage', 6367: 'freeze', 6368: 'supose', 6369: 'babysit', 6370: 'therexx', 6371: 'embassy', 6372: 'lightly', 6373: 'checkboxe', 6374: 'hundredhe', 6375: 'batsman', 6376: 'yettys', 6377: '09050000928', 6378: 'yifeng', 6379: 'slurp', 6380: '3miles', 6381: 'ing', 6382: 'brainless', 6383: 'dolld', 6384: 'vehicle', 6385: 'sariyag', 6386: 'madoke', 6387: 'barolla', 6388: '07090201529', 6389: 'postpone', 6390: 'tiime', 6391: 'afternon', 6392: 'resize', 6393: '09066364349', 6394: 'box434sk38wp150ppm18', 6395: 'oppose', 6396: 'msgwe', 6397: 'shortcode', 6398: '83332please', 6399: '08081263000', 6400: 'refundedthis', 6401: 'somerset', 6402: 'overtime', 6403: 'nigpun', 6404: 'dismissial', 6405: 'screwd', 6406: '08712402972', 6407: 'bull', 6408: 'float', 6409: '09058095201', 6410: 'heehee', 6411: 'arithmetic', 6412: 'percentage', 6413: 'chillaxin', 6414: 'das', 6415: 'iknow', 6416: 'wellda', 6417: 'peril', 6418: 'studentfinancial', 6419: 'crisisspk', 6420: 'monster', 6421: 'obey', 6422: 'uhhhhrmm', 6423: 'gbpsm', 6424: '600', 6425: '400', 6426: 'deltomorrow', 6427: '09066368470', 6428: '1month', 6429: 'smartcall', 6430: '68866', 6431: 'subscriptn3gbpwk', 6432: '08448714184', 6433: 'stoptxt', 6434: 'landlineonly', 6435: 'ås', 6436: 'textsweekend', 6437: 'orno', 6438: 'fink', 6439: '09099726553', 6440: 'carlie', 6441: 'callså1minmobsmore', 6442: 'lkpobox177hp51fl', 6443: 'youphone', 6444: 'athome', 6445: 'youwanna', 6446: 'jack', 6447: 'sayask', 6448: 'helpful', 6449: 'pretend', 6450: 'hypotheticalhuagauahahuagahyuhagga', 6451: 'brainy', 6452: 'occasion', 6453: 'reflection', 6454: 'affectionsamp', 6455: 'tradition', 6456: 'cantdo', 6457: 'anythingtomorrow', 6458: 'myparent', 6459: 'aretake', 6460: 'outfor', 6461: 'katexxx', 6462: 'level', 6463: 'gate', 6464: 'charles', 6465: '89105', 6466: 'lingerie', 6467: 'wwwbridalpetticoatdreamscouk', 6468: 'weddingfriend', 6469: 'board', 6470: 'overheat', 6471: 'reslove', 6472: 'inst', 6473: 'pende', 6474: '8o', 6475: 'western', 6476: 'nowadays', 6477: 'notixiquate', 6478: 'laxinorficated', 6479: 'bambling', 6480: 'entropication', 6481: 'oblisingately', 6482: 'masteriastere', 6483: 'amplikater', 6484: 'fidalfication', 6485: 'champlaxigate', 6486: 'atrocious', 6487: 'wotz', 6488: 'junna', 6489: 'bathing', 6490: 'knicker', 6491: '01223585236', 6492: 'nikiyu4net', 6493: 'a30', 6494: 'divert', 6495: 'wadebridgei', 6496: 'vill', 6497: 'orc', 6498: 'seek', 6499: 'priscillas', 6500: 'dayexcept', 6501: 'wherre', 6502: 'phone750', 6503: 'resolution', 6504: 'replybe', 6505: 'frankgood', 6506: 'logoff', 6507: 'parkin', 6508: 'asa', 6509: '09050000878', 6510: 'charming', 6511: 'mention', 6512: 'arnt', 6513: 'xxxxxxxxxxxxxx', 6514: 'dorothykiefercom', 6515: 'alle', 6516: 'moneeppolum', 6517: 'allalo', 6518: 'fundamental', 6519: '101mega', 6520: 'pixel', 6521: '3optical', 6522: '5digital', 6523: 'doom', 6524: 'peteynoiåõm', 6525: 'timehope', 6526: 'alritehave', 6527: 'js', 6528: 'amx', 6529: 'burgundy', 6530: 'amrita', 6531: 'bpo', 6532: 'nighter', 6533: 'persevere', 6534: 'wasnåõt', 6535: 'spouse', 6536: 'pmt', 6537: 'sumthin', 6538: '4give', 6539: 'shldxxxx', 6540: 'scenario', 6541: 'spunout', 6542: 'wrld', 6543: '09071517866', 6544: '150ppmpobox10183bhamb64xe', 6545: 'broadband', 6546: 'installation', 6547: 'tense', 6548: 'sprint', 6549: 'gower', 6550: 'wales', 6551: 'åômorrow', 6552: 'chik', 6553: 'filth', 6554: 'saristar', 6555: 'e14', 6556: '9yt', 6557: '08701752560', 6558: '450p', 6559: 'stop2', 6560: '420', 6561: '9061100010', 6562: 'wire3net', 6563: '1st4terms', 6564: 'mobcudb', 6565: 'alreadysabarish', 6566: '09050000460', 6567: 'j89', 6568: 'box245c2150pm', 6569: 'inpersonation', 6570: 'flea', 6571: 'banneduk', 6572: 'å54', 6573: 'maximum', 6574: 'å71', 6575: 'nys', 6576: 'taj', 6577: 'lesser', 6578: 'hari', 6579: 'okcome', 6580: '69101', 6581: 'wwwrtfsphostingcom', 6582: 'webadre', 6583: 'passport', 6584: 'multiply', 6585: 'independently', 6586: 'twin', 6587: 'strt', 6588: 'ltdhelpdesk', 6589: '02085076972', 6590: 'equally', 6591: 'uneventful', 6592: 'pesky', 6593: 'cyclist', 6594: 'wereare', 6595: 'nalla', 6596: 'adi', 6597: 'entey', 6598: 'nattil', 6599: 'kittum', 6600: 'hire', 6601: 'hitman', 6602: '09066660100', 6603: '2309', 6604: 'cps', 6605: 'conserve', 6606: 'epi', 6607: 'bare', 6608: 'bhaskar', 6609: 'individual', 6610: 'gong', 6611: 'kaypoh', 6612: 'basketball', 6613: 'outdoors', 6614: 'interfue', 6615: 'apology', 6616: 'hustle', 6617: 'forth', 6618: 'harlem', 6619: 'workout', 6620: 'zac', 6621: 'hui', 6622: 'versus', 6623: 'edge', 6624: 'underdtand', 6625: 'itboth', 6626: 'upnot', 6627: 'muchxxlove', 6628: 'locaxx', 6629: '07090298926', 6630: 'ref9307622', 6631: 'skateboard', 6632: 'bandage', 6633: 'mytonecomenjoy', 6634: 'html', 6635: 'gbp450week', 6636: 'mfl', 6637: 'hectic', 6638: 'wamma', 6639: 'laidwant', 6640: 'doggin', 6641: 'nownyt', 6642: 'virtual', 6643: 'apnt', 6644: 'pant', 6645: 'waiti', 6646: 'go2sri', 6647: 'lanka', 6648: 'wordnot', 6649: 'merely', 6650: 'relationshipit', 6651: 'wherevr', 6652: 'gudnyt', 6653: 'plum', 6654: 'smack', 6655: 'alot', 6656: 'formatting', 6657: 'attract', 6658: 'promotion', 6659: '8714714', 6660: 'lancaster', 6661: 'neway', 6662: 'couldnåõt', 6663: 'soc', 6664: 'bsn', 6665: 'lobby', 6666: 'erything', 6667: 'lubly', 6668: 'rs5', 6669: '087147123779am7pm', 6670: 'sbut', 6671: 'luck2', 6672: 'specify', 6673: 'domain', 6674: 'nusstu', 6675: 'ohi', 6676: 'hahatake', 6677: 'bari', 6678: 'hudgi', 6679: 'yorge', 6680: 'pataistha', 6681: 'ertini', 6682: 'hasbroin', 6683: 'jump', 6684: 'hoop', 6685: 'lateso', 6686: 'morningtake', 6687: 'dreamsu', 6688: 'meummifyingbye', 6689: 'associate', 6690: 'uterus', 6691: 'jacuzzi', 6692: 'x49', 6693: 'colourredtextcolourtxtstar', 6694: '2nights', 6695: 'wildest', 6696: 'splwat', 6697: 'whr', 6698: 'aldrine', 6699: 'rakhesh', 6700: 'rtm', 6701: 'herepls', 6702: 'callurgent', 6703: 'unhappiness', 6704: 'necesity', 6705: 'witout', 6706: 'hwd', 6707: 'colleg', 6708: 'watll', 6709: 'wth', 6710: 'espell', 6711: '4wrd', 6712: 'dearloving', 6713: 'wthout', 6714: 'takecare', 6715: 'univ', 6716: 'rajas', 6717: 'burrito', 6718: 'stitch', 6719: 'trouser', 6720: '146tf150p', 6721: 'cheeto', 6722: 'sync', 6723: 'shangela', 6724: '08704439680', 6725: 'againlove', 6726: 'poo', 6727: 'gloucesterroad', 6728: 'uup', 6729: 'ouch', 6730: 'forgiveness', 6731: 'glo', 6732: '09058095107', 6733: 's3xy', 6734: 'yesmum', 6735: 'wlcome', 6736: 'timi', 6737: 'fishrman', 6738: 'strtd', 6739: 'throwin', 6740: '1stone', 6741: 'moraldont', 6742: '08717895698', 6743: 'mobstorequiz10ppm', 6744: 'physic', 6745: 'arpraveesh', 6746: 'delicious', 6747: 'salad', 6748: 'whore', 6749: 'twink', 6750: 'scallies', 6751: 'skin', 6752: 'jock', 6753: '08712466669', 6754: '08712460324nat', 6755: 'flood', 6756: 'bead', 6757: 'wishlist', 6758: 'comfort', 6759: 'onionrs', 6760: 'petrolrs', 6761: 'beerrs', 6762: 'creative', 6763: 'fakemy', 6764: 'frnds', 6765: 'reffere', 6766: 'uif', 6767: 'getie', 6768: 'rsi', 6769: 'weirdy', 6770: '09061701851', 6771: 'k61', 6772: '12hour', 6773: 'restrict', 6774: 'godnot', 6775: 'chikkuk', 6776: 'vivek', 6777: '74355', 6778: 'outif', 6779: 'greece', 6780: 'someday', 6781: 'goodmorningmy', 6782: 'grandfather', 6783: 'expiredso', 6784: 'november', 6785: '09061104276', 6786: 'costå375max', 6787: 'yuou', 6788: 'spot', 6789: 'bunch', 6790: 'lotto', 6791: 'authorise', 6792: '645pm', 6793: 'honeydid', 6794: 'gimmi', 6795: 'gossx', 6796: 'painit', 6797: 'todaydo', 6798: 'ystrdayice', 6799: 'chile', 6800: 'sublet', 6801: 'febapril', 6802: 'ammaelife', 6803: 'steering', 6804: 'rounderso', 6805: 'truekdo', 6806: 'lambu', 6807: 'ji', 6808: 'cometil', 6809: 'batchlor', 6810: 'zoom', 6811: 'nowsend', 6812: '62220cncl', 6813: 'stopc', 6814: '08717890890å150', 6815: 'åòharry', 6816: 'ringtonefrom', 6817: 'wmlid1b6a5ecef91ff937819firsttrue180430jul05', 6818: 'xafter', 6819: 'cst', 6820: 'chg', 6821: 'pure', 6822: 'hearted', 6823: 'hisher', 6824: 'smiley', 6825: 'gail', 6826: 'wrongtake', 6827: 'worryc', 6828: 'l8tr', 6829: 'hunlove', 6830: 'yaxxx', 6831: 'theoretically', 6832: 'formallypls', 6833: 'prayingwill', 6834: 'multimedia', 6835: 'senthilhsbc', 6836: 'vague', 6837: 'housing', 6838: 'agency', 6839: 'nicky', 6840: 'gumbys', 6841: 'httpalto18coukwavewaveaspo44345', 6842: 'sized', 6843: 'tarpon', 6844: 'cab', 6845: 'availablethey', 6846: 'careumma', 6847: 'call2optouthf8', 6848: '08719181259', 6849: '260305', 6850: 'deartake', 6851: 'radiator', 6852: 'proper', 6853: 'tongue', 6854: 'qi', 6855: 'suddenly', 6856: 'flurry', 6857: 'freeringtone', 6858: 'real1', 6859: 'pushbutton', 6860: 'dontcha', 6861: 'babygoodbye', 6862: 'golddigger', 6863: 'webeburnin', 6864: 'nigh', 6865: 'nooooooo', 6866: 'cable', 6867: 'sos', 6868: 'playin', 6869: 'guoyang', 6870: 'rahul', 6871: 'dengra', 6872: 'antelope', 6873: 'toplay', 6874: 'fieldof', 6875: 'selfindependence', 6876: 'contention', 6877: 'growrandom', 6878: 'gnarls', 6879: 'barkley', 6880: 'borderline', 6881: '545', 6882: 'nightnight', 6883: 'possibility', 6884: 'grooved', 6885: 'mise', 6886: 'unsecured', 6887: '195', 6888: '6669', 6889: 'lanre', 6890: 'fakeyes', 6891: 'eckankar', 6892: 'ph', 6893: '3000', 6894: 'dodgey', 6895: 'faceasssssholeeee', 6896: 'ceri', 6897: 'rebel', 6898: 'dreamz', 6899: 'buddy', 6900: 'ringtoneke', 6901: '84484', 6902: 'nationwide', 6903: 'newport', 6904: 'juliana', 6905: 'nachos', 6906: 'dizzamn', 6907: 'suitemate', 6908: 'nimbomson', 6909: 'continent', 6910: '087104711148', 6911: 'emerge', 6912: 'fiendmake', 6913: 'muchimpede', 6914: 'hesitant', 6915: 'ow', 6916: 'deyi', 6917: '60400thousadi', 6918: 'sumthinxx', 6919: 'nose', 6920: 'essay', 6921: 'tram', 6922: 'vic', 6923: 'coherently', 6924: 'triple', 6925: 'echo', 6926: 'gran', 6927: 'onlyfound', 6928: 'afew', 6929: 'agocusoon', 6930: 'honi', 6931: 'bx526', 6932: 'southern', 6933: 'rayan', 6934: 'macleran', 6935: 'olave', 6936: 'mandara', 6937: 'trishul', 6938: 'woo', 6939: 'hoo', 6940: 'pantie', 6941: 'thout', 6942: 'flatter', 6943: 'pint', 6944: 'carlin', 6945: 'scared', 6946: 'ciao', 6947: 'x49your', 6948: 'impression', 6949: 'darkness', 6950: 'timeyou', 6951: 'wknd', 6952: 'yalrigu', 6953: 'heltiniiyo', 6954: 'meso', 6955: 'meok', 6956: 'chikkub', 6957: 'noice', 6958: 'esaplanade', 6959: 'accessible', 6960: '08709501522', 6961: '139', 6962: 'la3', 6963: '2wu', 6964: 'å150week', 6965: 'enna', 6966: 'kalaachutaarama', 6967: 'coco', 6968: 'sporadically', 6969: '09064017305', 6970: 'pobox75ldns7', 6971: 'tbspersolvo', 6972: 'forå38', 6973: 'kath', 6974: 'manchester', 6975: 'youåõre', 6976: 'burden', 6977: 'noworriesloanscom', 6978: '08717111821', 6979: 'nbme', 6980: 'sickness', 6981: 'villa', 6982: 'gam', 6983: 'inning', 6984: 'religiously', 6985: 'hero', 6986: '07973788240', 6987: '08715203649', 6988: 'dealing', 6989: 'muhommad', 6990: 'fiting', 6991: 'hwkeep', 6992: 'mj', 6993: 'unconvinced', 6994: 'willpower', 6995: 'absence', 6996: 'answerin', 6997: 'åè10', 6998: 'evey', 6999: 'prin', 7000: 'gsoh', 7001: 'spam', 7002: 'ladiesu', 7003: 'gigolo', 7004: 'men', 7005: 'oncall', 7006: 'mjzgroup', 7007: '087143423992stop', 7008: 'msgå150rcvd', 7009: 'ashwini', 7010: '08707500020', 7011: 'tomorrowtoday', 7012: 'ukp2000', 7013: '09061790125', 7014: 'jokethet', 7015: 'skinny', 7016: 'lineyou', 7017: 'shouldnût', 7018: '116', 7019: 'hlday', 7020: 'camp', 7021: 'amrca', 7022: 'serena', 7023: 'prescribe', 7024: 'meatball', 7025: 'panalambut', 7026: 'spjanuary', 7027: 'fortune', 7028: 'allday', 7029: 'perf', 7030: 'outsider', 7031: 'receiptsûówell', 7032: 'whatûs', 7033: '98321561', 7034: 'familiar', 7035: 'depression', 7036: 'infact', 7037: 'simpson', 7038: 'band', 7039: 'agreen', 7040: 'bblue', 7041: 'cred', 7042: 'canåõt', 7043: 'isnåõt', 7044: 'shite', 7045: 'kip', 7046: 'hont', 7047: 'amanda', 7048: '3680', 7049: 'subject', 7050: 'nannys', 7051: 'broke', 7052: 'perspective', 7053: 'sonot', 7054: 'conveying', 7055: 'debate', 7056: 'httpwwwwtlpcouktext', 7057: 'jb', 7058: 'youso', 7059: 'florida', 7060: 'swhrt', 7061: 'deyhope', 7062: '2daylove', 7063: 'misstake', 7064: '0906346330', 7065: '47', 7066: 'po19', 7067: '2ez', 7068: 'general', 7069: 'ifwhenhow', 7070: 'dayha', 7071: 'valuemorning', 7072: 'hopeafternoon', 7073: 'faithevening', 7074: 'luvnight', 7075: 'restwish', 7076: 'todaygood', 7077: 'jetton', 7078: 'friendofafriend', 7079: 'cmon', 7080: 'lunsford', 7081: '0796xxxxxx', 7082: 'day2', 7083: 'prizeawaiting', 7084: 'kfc', 7085: 'gravy', 7086: 'dahe', 7087: 'daalway', 7088: 'thisdon', 7089: 'messagepandy', 7090: '07008009200', 7091: 'mw', 7092: 'tuth', 7093: 'mines', 7094: 'eviction', 7095: 'spiral', 7096: 'michael', 7097: 'riddance', 7098: 'raglan', 7099: 'edward', 7100: 'cricket', 7101: 'closeby', 7102: 'daplease', 7103: 'skye', 7104: 'bookedthe', 7105: 'hut', 7106: 'drastic', 7107: '3750', 7108: 'garment', 7109: 'sez', 7110: 'arab', 7111: 'evry1', 7112: 'eshxxxxxxxxxxx', 7113: 'bimbo', 7114: 'ugos', 7115: 'colours', 7116: '241', 7117: '3lions', 7118: 'following', 7119: 'portege', 7120: 'm100', 7121: 'semiobscure', 7122: 'gprs', 7123: 'loosu', 7124: 'careless', 7125: 'myspace', 7126: 'method', 7127: 'jewelry', 7128: 'breaker', 7129: 'deluxe', 7130: 'feature', 7131: 'graphic', 7132: 'å5', 7133: 'bbdeluxe', 7134: 'fumble', 7135: 'weekday', 7136: 'nail', 7137: 'nobodys', 7138: 'asia', 7139: 'stil', 7140: 'went', 7141: 'tobed', 7142: 'pimple', 7143: 'asthma', 7144: 'attack', 7145: 'spin', 7146: 'haiyoh', 7147: 'auntys', 7148: '02', 7149: 'prsn', 7150: 'somtime', 7151: 'bcozi', 7152: 'audiition', 7153: 'relocate', 7154: 'pock', 7155: 'brison', 7156: 'cap', 7157: 'bullshit', 7158: 'gwr', 7159: 'motherfucker', 7160: '1013', 7161: 'ig11', 7162: 'oja', 7163: '08712402578', 7164: 'thesmszonecom', 7165: 'anonymous', 7166: 'mask', 7167: 'messagesim', 7168: 'theredo', 7169: 'abuse', 7170: 'woodland', 7171: 'avenue', 7172: 'parish', 7173: 'magazine', 7174: 'billy', 7175: 'awww', 7176: 'useless', 7177: 'loo', 7178: 'helloe', 7179: 'swollen', 7180: 'gland', 7181: 'bcaz', 7182: 'stu', 7183: '2im', 7184: 'truble', 7185: 'evone', 7186: 'view', 7187: 'informed', 7188: 'dual', 7189: 'hostile', 7190: 'haircut', 7191: 'breezy', 7192: '1appledayno', 7193: '1tulsi', 7194: 'leafdayno', 7195: '1lemondayno', 7196: '1cup', 7197: 'milkdayno', 7198: 'problm', 7199: 'litre', 7200: 'watrdayno', 7201: 'disease', 7202: 'snd', 7203: 'ths', 7204: 'lavender', 7205: 'manky', 7206: 'scouse', 7207: 'stevelike', 7208: 'homewot', 7209: 'inmind', 7210: 'recreation', 7211: 'judgementali', 7212: 'hidid', 7213: 'waheeda', 7214: 'bot', 7215: 'deary', 7216: 'eventually', 7217: 'tolerance', 7218: '0789xxxxxxx', 7219: 'hellogorgeous', 7220: 'nitw', 7221: 'texd', 7222: 'hopeu', 7223: '4ward', 7224: 'cin', 7225: 'jaz', 7226: '09058091870', 7227: 'exorcism', 7228: 'emily', 7229: 'snogs', 7230: 'evry', 7231: 'emotion', 7232: 'wordsevry', 7233: 'prayr', 7234: 'uothrwise', 7235: 'uso', 7236: 'ujhhhhhhh', 7237: 'sandiago', 7238: 'parantella', 7239: 'sweater', 7240: 'mango', 7241: 'å600', 7242: 'landmark', 7243: 'bob', 7244: 'barry', 7245: '83738', 7246: 'consent', 7247: 'form', 7248: 'tonexs', 7249: 'wwwclubzedcouk', 7250: 'billing', 7251: 'canût', 7252: 'mathew', 7253: 'tait', 7254: 'edwards', 7255: 'anderson', 7256: 'haunt', 7257: 'sorted', 7258: 'promote', 7259: 'crowd', 7260: '8000930705', 7261: 'snowboarding', 7262: 'goa', 7263: 'christmassy', 7264: 'recpt', 7265: '13', 7266: 'baaaaaaaabe', 7267: 'shola', 7268: 'sagamu', 7269: 'lautech', 7270: 'vital', 7271: 'education', 7272: 'zealand', 7273: 'qet', 7274: 'browser', 7275: 'wellyou', 7276: 'lifeyou', 7277: 'convinced', 7278: 'thati', 7279: 'conversation', 7280: 'usget', 7281: 'timeyour', 7282: 'sensesrespect', 7283: 'overemphasiseor', 7284: 'headset', 7285: 'adp', 7286: 'internal', 7287: 'extract', 7288: 'godyou', 7289: 'immed', 7290: 'skint', 7291: 'bevieswaz', 7292: 'othrs', 7293: 'watchng', 7294: 'planet', 7295: 'earthsofa', 7296: 'comfey', 7297: 'least5time', 7298: 'wudnt', 7299: 'ìïll', 7300: 'frequently', 7301: 'cupboard', 7302: 'route', 7303: '2mro', 7304: 'floppy', 7305: 'snappy', 7306: 'grasp', 7307: 'flavour', 7308: 'laready', 7309: 'deny', 7310: 'dom', 7311: 'ffffuuuuuuu', 7312: 'julianaland', 7313: 'oblivious', 7314: 'upsetit', 7315: 'dehydrate', 7316: 'mapquest', 7317: 'dogwood', 7318: 'archive', 7319: 'ukmobiledate', 7320: '08719839835', 7321: 'mgs', 7322: '89123', 7323: 'behalf', 7324: 'stunning', 7325: 'visa', 7326: 'gucci', 7327: 'babesozi', 7328: 'culdnt', 7329: 'talkbut', 7330: 'wannatell', 7331: 'wenwecan', 7332: 'smse', 7333: 'efficient', 7334: '515pm', 7335: 'erutupalam', 7336: 'thandiyachu', 7337: 'invention', 7338: 'flyim', 7339: 'noit', 7340: 'lyric', 7341: 'nevr', 7342: 'unrecognized', 7343: 'somone', 7344: 'definitly', 7345: 'undrstnd', 7346: 'ger', 7347: 'toke', 7348: 'syd', 7349: 'lehhaha', 7350: 'khelate', 7351: 'kintu', 7352: 'opponenter', 7353: 'dhorte', 7354: 'lage', 7355: 'looovvve', 7356: 'warwick', 7357: 'tmw', 7358: 'parade', 7359: 'proze', 7360: 'norcorp', 7361: 'ltdå150mtmsgrcvd18', 7362: 'chennaibecause', 7363: '7cfca1a', 7364: 'grumble', 7365: 'linear', 7366: 'algebra', 7367: 'decorating', 7368: 'wining', 7369: '946', 7370: 'roomate', 7371: 'graduate', 7372: 'adjustable', 7373: 'cooperative', 7374: 'nottingham', 7375: '63miles', 7376: 'mph', 7377: 'mornin', 7378: 'thanku', 7379: '89938', 7380: 'string', 7381: 'å150ea', 7382: 'otbox', 7383: '731', 7384: 'la1', 7385: '7w', 7386: 'itxx', 7387: 'brisk', 7388: 'sexiest', 7389: 'steve', 7390: 'tellmiss', 7391: 'contribute', 7392: 'greatly', 7393: 'urgh', 7394: 'coach', 7395: 'duvet', 7396: 'predictive', 7397: 'chatim', 7398: 'w8', 7399: '4utxt', 7400: 'url', 7401: '24th', 7402: 'beverage', 7403: 'vpist', 7404: 'surrender', 7405: 'symptom', 7406: 'pilates', 7407: 'rdy', 7408: 'itnow', 7409: 'backwards', 7410: 'abstract', 7411: 'vikkyim', 7412: 'africa', 7413: 'avin', 7414: 'chitchat', 7415: 'logon', 7416: '8883', 7417: '4217', 7418: 'w1a', 7419: '6zf', 7420: '118pmsg', 7421: 'quiteamuze', 7422: 'thatåõscool', 7423: 'å1000call', 7424: '09071512432', 7425: '300603tcsbcm4235wc1n3xxcallcost150ppmmobilesvary', 7426: 'engagement', 7427: 'fixd', 7428: 'bthmm', 7429: 'njan', 7430: 'vilikkamt', 7431: 'sudn', 7432: 'chapter', 7433: 'chop', 7434: 'noooooooo', 7435: '09065171142stopsms08718727870150ppm', 7436: 'firsg', 7437: 'split', 7438: 'heat', 7439: 'stuck', 7440: 'sumfe', 7441: 'hiphop', 7442: 'oxygen', 7443: 'resort', 7444: 'roller', 7445: 'pending', 7446: 'recorder', 7447: 'canname', 7448: 'australia', 7449: 'mquiz', 7450: 'showr', 7451: 'ceiling', 7452: 'presnt', 7453: 'bcz', 7454: 'jeevithathile', 7455: 'irulinae', 7456: 'neekunna', 7457: 'prakasamanu', 7458: 'sneham', 7459: 'prakasam', 7460: 'ennal', 7461: 'mns', 7462: 'islove', 7463: '7634', 7464: '7684', 7465: 'firmware', 7466: 'vijaykanth', 7467: 'tvhe', 7468: 'anythiing', 7469: 'wwwclubmobycom', 7470: '08717509990', 7471: 'polytruepixringtonesgame', 7472: 'keypad', 7473: 'btwn', 7474: 'decade', 7475: 'goverment', 7476: 'spice', 7477: 'prasanth', 7478: 'ettans', 7479: '08718738002', 7480: '48922', 7481: '211104', 7482: 'appy', 7483: 'fizz', 7484: 'contain', 7485: 'genus', 7486: 'robinson', 7487: 'nottel', 7488: 'soz', 7489: 'imat', 7490: 'msgsometext', 7491: '07099833605', 7492: 'ref9280114', 7493: 'chloe', 7494: '150ptext', 7495: 'wewa', 7496: '130', 7497: 'iriver', 7498: '255', 7499: '128', 7500: 'bw', 7501: 'dajst', 7502: 'hmmmbut', 7503: 'surly', 7504: '07808726822', 7505: '08718729758', 7506: 'mmmmmmm', 7507: 'snuggle', 7508: 'contented', 7509: 'whisper', 7510: 'healthy', 7511: '2bold', 7512: 'givit', 7513: 'kanoanyway', 7514: 'brotherû', 7515: 'scrape', 7516: 'barrel', 7517: 'misfit', 7518: 's8', 7519: 'peach', 7520: 'tast', 7521: 'rayman', 7522: 'golf', 7523: 'activ8', 7524: 'termsapply', 7525: 'shindig', 7526: 'minstext', 7527: 'phonebook', 7528: 'keng', 7529: 'rocking', 7530: 'ashe', 7531: 'shijutta', 7532: 'kafter', 7533: 'offense', 7534: 'bbdtht', 7535: 'dvg', 7536: 'coldheard', 7537: 'vinobanagar', 7538: 'conditionand', 7539: 'ovulatewhen', 7540: '3wks', 7541: 'woah', 7542: 'orh', 7543: 'n8', 7544: 'darlinim', 7545: 'soonxxx', 7546: 'coolmob', 7547: 'frogaxel', 7548: 'akonlonely', 7549: 'eyeddont', 7550: 'cashbincouk', 7551: 'wwwcashbincouk', 7552: 'canteen', 7553: 'stressfull', 7554: 'president', 7555: '140', 7556: 'ardìä', 7557: '180', 7558: 'leastwhich', 7559: 'bedrm', 7560: 'pleasured', 7561: 'hitechnical', 7562: 'supportproviding', 7563: 'assistance', 7564: '1172', 7565: 'watever', 7566: 'lonline', 7567: 'lotz', 7568: 'gailxx', 7569: 'hii', 7570: 'complacent', 7571: 'deni', 7572: 'mina', 7573: 'denis', 7574: 'miwa', 7575: 'hsbc', 7576: '09066649731from', 7577: 'opposite', 7578: 'heavily', 7579: 'doll', 7580: 'patrick', 7581: 'swayze', 7582: '09077818151', 7583: 'calls150ppm', 7584: '3min', 7585: 'wwwsantacallingcom', 7586: 'quarter', 7587: 'nervous', 7588: 'limp', 7589: 'aa', 7590: '0784987', 7591: '08719180219', 7592: '060505', 7593: 'oga', 7594: 'poorly', 7595: 'punishment', 7596: 'brb', 7597: 'predicte', 7598: 'swe', 7599: 'capacity', 7600: 'smsshsexnetun', 7601: 'fgkslpopw', 7602: 'fgkslpo', 7603: '0871277810710pmin', 7604: 'defer', 7605: 'admission', 7606: 'checkmate', 7607: 'chess', 7608: 'persian', 7609: 'phrase', 7610: 'shah', 7611: 'maat', 7612: 'rat', 7613: 'pee', 7614: 'photoshop', 7615: 'manageable', 7616: '08715203652', 7617: '42810', 7618: '29100', 7619: 'inshah', 7620: 'sthis', 7621: 'increase', 7622: 'wifedont', 7623: 'iti', 7624: 'toolet', 7625: 'north', 7626: 'carolina', 7627: 'texas', 7628: 'gre', 7629: 'bomb', 7630: 'powerful', 7631: 'weapon', 7632: 'lovly', 7633: 'messagethank', 7634: '150pmsgrcvd', 7635: 'customercare', 7636: 'playi', 7637: 'cla', 7638: 'loooooool', 7639: 'couch', 7640: 'swashbuckling', 7641: '5terror', 7642: '6cruel', 7643: '7romantic', 7644: '8lovable', 7645: '9decent', 7646: 'joker', 7647: 'dip', 7648: 'gek1510', 7649: 'feelin', 7650: 'lyricalladie21f', 7651: 'yes910', 7652: 'no910', 7653: 'wwwsmsacuhmmross', 7654: 'understanding', 7655: 'crisis', 7656: 'whenwhere', 7657: 'antibiotic', 7658: 'abdoman', 7659: 'gynae', 7660: '6times', 7661: 'chastity', 7662: 'device', 7663: 'beating', 7664: 'gut', 7665: 'wrenching', 7666: 'fucks', 7667: 'tallahassee', 7668: 'ou', 7669: 'taka', 7670: 'pobox202', 7671: 'nr31', 7672: '7zs', 7673: '450pw', 7674: 'ritten', 7675: 'fold', 7676: '83118', 7677: 'colin', 7678: 'farrell', 7679: 'swat', 7680: 'popcornjust', 7681: 'msgticketkioskvalid', 7682: '4712', 7683: 'kiosk', 7684: 'mre', 7685: 'solihull', 7686: 'nhs', 7687: 'mistakeu', 7688: 'bornplease', 7689: '2b', 7690: 'terminatedwe', 7691: 'inconvenience', 7692: 'yard', 7693: 'bergkamp', 7694: 'margin', 7695: '78', 7696: 'itsnot', 7697: 'parentnot', 7698: 'unintentional', 7699: 'nonetheless', 7700: 'hooch', 7701: 'toaday', 7702: 'splat', 7703: 'graze', 7704: 'confirmdeny', 7705: 'hearin', 7706: 'yah', 7707: 'torture', 7708: 'wasnût', 7709: 'sexychat', 7710: 'startedindia', 7711: 'kkcongratulation', 7712: 'court', 7713: 'chapel', 7714: 'frontierville', 7715: 'deer', 7716: 'maili', 7717: 'varma', 7718: 'membershiptake', 7719: 'careinsha', 7720: 'fart', 7721: 'ortxt', 7722: 'advisor', 7723: '402', 7724: 'ahhhhjust', 7725: 'uphad', 7726: 'thoso', 7727: 'viveki', 7728: '96', 7729: 'dado', 7730: 'dining', 7731: 'experiencehttpwwwvouch4mecometlpdiningasp', 7732: 'kaila', 7733: '09058094507', 7734: 'unicefs', 7735: 'asian', 7736: 'tsunami', 7737: 'fund', 7738: '864233', 7739: 'hos', 7740: 'collapse', 7741: 'cumme', 7742: 'jade', 7743: 'paul', 7744: 'barmed', 7745: 'thinkthis', 7746: 'dangerous', 7747: 'networking', 7748: 'goldvike', 7749: '29', 7750: 'yes762', 7751: 'no762', 7752: 'wwwsmsacugoldvike', 7753: 'rushing', 7754: 'coulda', 7755: 'phony', 7756: '1230', 7757: 'okday', 7758: 'hmph', 7759: 'baller', 7760: 'punto', 7761: 'ayo', 7762: 'å125', 7763: 'freeentry', 7764: 'xt', 7765: 'toyota', 7766: 'camry', 7767: 'olayiwolas', 7768: 'mileage', 7769: 'landing', 7770: 'clover', 7771: 'saying', 7772: 'numberpls', 7773: 'idconvey', 7774: 'achanammarakheshqatar', 7775: 'rencontre', 7776: '08714712412', 7777: 'galsu', 7778: 'nìâte', 7779: 'puppy', 7780: 'noise', 7781: '150pmeg', 7782: '08715203685', 7783: 'code4xx26', 7784: '131004', 7785: 'darkest', 7786: '09094646631', 7787: 'inconvenient', 7788: 'vldo', 7789: 'adsense', 7790: 'dudette', 7791: 'perumbavoor', 7792: 'stage', 7793: 'clarify', 7794: 'prepone', 7795: 'natalie', 7796: '20f', 7797: 'yes165', 7798: 'no165', 7799: 'wwwsmsacunatalie2k9', 7800: '08701213186', 7801: 'liver', 7802: 'hmmmstill', 7803: 'opener', 7804: 'loneliness', 7805: 'skyve', 7806: 'onwords', 7807: 'mtnl', 7808: 'mumbai', 7809: '83039', 7810: '62735å450', 7811: 'accommodationvoucher', 7812: 'mustprovide', 7813: '15541', 7814: 'rajitha', 7815: 'ranju', 7816: '5p', 7817: 'tscs08714740323', 7818: '1winawk', 7819: 'å150perweeksub', 7820: '09066361921', 7821: 'disagreeable', 7822: 'uawakefeellikw', 7823: 'shitjustfound', 7824: 'aletter', 7825: 'thatmum', 7826: 'gotmarrie', 7827: '4thnovbehind', 7828: 'ourback', 7829: 'fuckinniceselfish', 7830: 'rearrange', 7831: 'dormitory', 7832: 'astronomer', 7833: 'starer', 7834: 'recount', 7835: 'motherinlaw', 7836: 'hitler', 7837: 'worm', 7838: 'dysentry', 7839: 'virgils', 7840: 'lorgoin', 7841: 'gokila', 7842: 'shanilrakhesh', 7843: 'herethanksi', 7844: 'exchange', 7845: 'uncut', 7846: 'stuffleave', 7847: 'dino', 7848: 'kkthis', 7849: 'kotee', 7850: 'themobhit', 7851: 'panther', 7852: 'sugababe', 7853: 'zebra', 7854: 'animation', 7855: 'badass', 7856: 'hoody', 7857: 'wallpaperall', 7858: 'resent', 7859: 'query', 7860: 'customersqueriesnetvisionukcom', 7861: 'hassle', 7862: 'haughaighgtujhyguj', 7863: 'fassyole', 7864: 'blacko', 7865: 'londn', 7866: '08715205273', 7867: 'vco', 7868: 'humanities', 7869: 'reassurance', 7870: 'aslamalaikkuminsha', 7871: 'tohar', 7872: 'beeen', 7873: 'muht', 7874: 'albi', 7875: 'mufti', 7876: 'mahfuuzmeane', 7877: '078', 7878: 'enufcredeit', 7879: 'tocallshall', 7880: 'ileave', 7881: 'okor', 7882: 'ibored', 7883: 'zero', 7884: 'saving', 7885: 'checking', 7886: 'goigng', 7887: 'perfume', 7888: 'sday', 7889: 'joinedso', 7890: 'grocer', 7891: 'frankie', 7892: 'bennys', 7893: 'diaper', 7894: 'unlike', 7895: 'patient', 7896: 'turkey', 7897: 'helens', 7898: 'dawhere', 7899: 'unintentionally', 7900: 'warning', 7901: 'wenever', 7902: 'familymay', 7903: 'stability', 7904: 'tranquility', 7905: 'vibrant', 7906: 'colourful', 7907: 'bawl', 7908: 'failure', 7909: 'velusamy', 7910: 'facility', 7911: 'karnan', 7912: 'bluray', 7913: 'iûve', 7914: 'salt', 7915: 'wound', 7916: 'geoenvironmental', 7917: 'implication', 7918: 'gently', 7919: 'fuuuuck', 7920: 'salmon', 7921: 'wrkin', 7922: 'ree', 7923: 'compensation', 7924: 'awkward', 7925: 'splash', 7926: 'musta', 7927: 'overdo', 7928: 'wwwtelediscountcouk', 7929: 'hiwhat', 7930: 'babes', 7931: 'chuck', 7932: 'nightswe', 7933: 'port', 7934: 'liaotoo', 7935: 'juswoke', 7936: 'boatin', 7937: 'spinout', 7938: 'remet', 7939: '08715203656', 7940: '42049', 7941: '261004', 7942: 'uworld', 7943: 'qbank', 7944: 'assessment', 7945: 'someonone', 7946: '09064015307', 7947: 'tke', 7948: 'temale', 7949: 'vidnot', 7950: 'finishd', 7951: 'dull', 7952: 'birds', 7953: 'treadmill', 7954: 'working', 7955: 'craigslist', 7956: 'selling', 7957: 'absolutely', 7958: 'drmstake', 7959: 'swan', 7960: 'teethif', 7961: 'asapok', 7962: 'hellohow', 7963: 'doingwhat', 7964: '2when', 7965: 'lamp', 7966: 'latebut', 7967: 'kwish', 7968: 'foward', 7969: '09061790126', 7970: 'misundrstud', 7971: '2u2', 7972: 'gene', 7973: 'wwwldewcom1win150ppmx3age16subscription', 7974: 'reapply', 7975: 'treatin', 7976: 'treacle', 7977: 'mumhas', 7978: 'beendroppe', 7979: 'theplace', 7980: 'adress', 7981: 'moneyi', 7982: 'oyster', 7983: 'sashimi', 7984: 'rumble', 7985: 'marandratha', 7986: 'topic', 7987: 'correctly', 7988: 'sirsalam', 7989: 'alaikkumpride', 7990: 'shopwe', 7991: 'qatarrakhesh', 7992: 'indianpls', 7993: 'numberrespectful', 7994: 'galcan', 7995: 'boyy', 7996: 'galno', 7997: 'heaven', 7998: 'princegn', 7999: 'pisce', 8000: 'aquarius', 8001: '2yrs', 8002: 'steyn', 8003: 'wicket', 8004: 'sterm', 8005: 'resolve', 8006: 'jam', 8007: 'hannaford', 8008: 'wheat', 8009: 'chex', 8010: 'pride', 8011: 'grownup', 8012: 'stuffwhy', 8013: 'jerk', 8014: 'stink', 8015: 'textcomp', 8016: 'subsequent', 8017: 'wks', 8018: 'charged150pmsg2', 8019: '84128custcare', 8020: 'upcharge', 8021: '8hr', 8022: 'guai', 8023: 'astrology', 8024: 'ryans', 8025: 'slack', 8026: 'officestill', 8027: 'formsdon', 8028: 'mentor', 8029: 'percent', 8030: '09095350301', 8031: 'erotic', 8032: 'ecstacy', 8033: 'dept', 8034: '13404', 8035: '08717507382', 8036: 'datingi', 8037: 'coincidence', 8038: 'sane', 8039: 'fighting', 8040: 'leading', 8041: '151', 8042: 'pause', 8043: 'gr8prize', 8044: '8800', 8045: 'psp', 8046: 'wktxt', 8047: 'httpwwwgr8prizescom', 8048: 'spacebuck', 8049: '02070836089', 8050: 'squeeze', 8051: 'meremove', 8052: '5iåõm', 8053: 'dread', 8054: 'thou', 8055: 'forgt', 8056: 'ajith', 8057: 'ooooooh', 8058: 'yoville', 8059: 'asda', 8060: 'officer', 8061: 'respectful', 8062: 'bff', 8063: 'carly', 8064: 'someonethat', 8065: 'seperatedöó', 8066: 'ûud', 8067: 'brolly', 8068: 'franxx', 8069: 'welli', 8070: 'prometazine', 8071: 'syrup', 8072: '5mls', 8073: 'feed', 8074: 'singapore', 8075: 'victoria', 8076: 'pocay', 8077: 'wocay', 8078: '2morrowxxxx', 8079: 'broth', 8080: 'raman', 8081: 'fowler', 8082: 'ksry', 8083: 'sivatat', 8084: '09058094583', 8085: '1526', 8086: 'pubcafe', 8087: 'attention', 8088: 'tix', 8089: 'biolas', 8090: 'fne', 8091: 'youdoe', 8092: 'worc', 8093: 'foregate', 8094: 'shrub', 8095: 'get4an18th', 8096: '32000', 8097: 'legitimat', 8098: 'efreefone', 8099: 'shopthe', 8100: 'pendent', 8101: 'toilet', 8102: 'cop', 8103: 'hu', 8104: 'navigate', 8105: 'guidance', 8106: 'chick', 8107: 'boob', 8108: 'sparkling', 8109: '45', 8110: '0121', 8111: '2025050', 8112: 'wwwshortbreaksorguk', 8113: 'gyno', 8114: 'wwwgambtv', 8115: 'treasure', 8116: 'wmlid820554ad0a1705572711firsttrueåác', 8117: 'ringtoneåá', 8118: '09050000332', 8119: 'mummys', 8120: 'positive', 8121: 'negative', 8122: 'hmmmm', 8123: 'dhoni', 8124: 'titleso', 8125: 'command', 8126: 'stressful', 8127: 'holby', 8128: '09064017295', 8129: 'li', 8130: 'lecturer', 8131: 'yeovil', 8132: 'motor', 8133: 'max', 8134: 'rhode', 8135: 'bong', 8136: 'ofcourse', 8137: '08448350055', 8138: 'planettalkinstantcom', 8139: 'loti', 8140: 'marvel', 8141: 'ultimate', 8142: 'spiderman', 8143: 'spider', 8144: '83338', 8145: '8ball', 8146: 'tamilnaduthen', 8147: '07808247860', 8148: '08719899229', 8149: '40411', 8150: '061104', 8151: 'apo', 8152: 'identification', 8153: 'boundary', 8154: 'endless', 8155: 'reassuring', 8156: 'lorwe', 8157: 'referin', 8158: 'meis', 8159: 'liaoso', 8160: 'saibaba', 8161: 'colany', 8162: 'chic', 8163: 'declare', 8164: '49557', 8165: '261104', 8166: 'disappointment', 8167: 'irritation', 8168: 'tantrum', 8169: 'compliment', 8170: 'chief', 8171: 'gsex', 8172: '2667', 8173: 'wc1n', 8174: '3xx', 8175: 'attached', 8176: '3mobile', 8177: 'chatline', 8178: 'inclu', 8179: 'servs', 8180: 'sed', 8181: 'l8er', 8182: 'bailiff', 8183: 'mouse', 8184: 'desk', 8185: 'priscilla', 8186: 'childporn', 8187: 'jumper', 8188: 'hat', 8189: 'belt', 8190: 'cribbs', 8191: 'spiritual', 8192: 'sudden', 8193: 'influx', 8194: 'kane', 8195: 'shud', 8196: 'pshewmisse', 8197: 'unit', 8198: 'accent', 8199: '4years', 8200: 'dental', 8201: 'nmde', 8202: 'dump', 8203: 'heap', 8204: 'lowes', 8205: 'salesman', 8206: 'å750', 8207: '087187272008', 8208: 'now1', 8209: 'pity', 8210: 'soany', 8211: 'bitching'}\n",
            "     v1                                                 v2  \\\n",
            "0   ham  Go until jurong point, crazy.. Available only ...   \n",
            "1   ham                      Ok lar... Joking wif u oni...   \n",
            "2  spam  Free entry in 2 a wkly comp to win FA Cup fina...   \n",
            "3   ham  U dun say so early hor... U c already then say...   \n",
            "4   ham  Nah I don't think he goes to usf, he lives aro...   \n",
            "\n",
            "                                            v2_clean  \\\n",
            "0  go until jurong point crazy available only in ...   \n",
            "1                            ok lar joking wif u oni   \n",
            "2  free entry in 2 a wkly comp to win fa cup fina...   \n",
            "3        u dun say so early hor u c already then say   \n",
            "4  nah i dont think he goes to usf he lives aroun...   \n",
            "\n",
            "                                            v2_lemma  \\\n",
            "0  jurong point crazy available bugis n great wor...   \n",
            "1                              ok lar joke wif u oni   \n",
            "2  free entry 2 wkly comp win fa cup final tkts 2...   \n",
            "3                                u dun early hor u c   \n",
            "4                                 nah think usf live   \n",
            "\n",
            "                                        v2_tokenized  \n",
            "0  [1, 232, 447, 462, 939, 36, 53, 206, 940, 79, ...  \n",
            "1                       [10, 195, 463, 289, 2, 1455]  \n",
            "2  [12, 303, 4, 532, 659, 33, 1456, 845, 423, 145...  \n",
            "3                            [2, 125, 149, 1, 2, 85]  \n",
            "4                                [705, 23, 660, 130]  \n"
          ]
        }
      ],
      "source": [
        "## tokenisation\n",
        "\n",
        "# Créer un objet Tokenizer avec un vocabulaire maximal de 2000 mots et un token \"out_of_vocab\" pour les mots hors vocabulaire\n",
        "tokenizer = tf.keras.preprocessing.text.Tokenizer(num_words=2000, oov_token=\"out_of_vocab\")\n",
        "\n",
        "# Adapter le tokenizer aux textes de la colonne 'v2_lemma' de la variable 'data'\n",
        "tokenizer.fit_on_texts(data['v2_lemma'])\n",
        "\n",
        "# Obtenir la taille du vocabulaire (nombre de mots) basée sur le nombre maximal de mots spécifié\n",
        "vocab_size = tokenizer.num_words\n",
        "print(vocab_size)\n",
        "# afficher le mapping entre les indices et les mots du vocabulaire construits à partir de la colonne 'v2_lemma'\n",
        "# Transformer les textes de la colonne 'v2_lemma' en séquences d'entiers en utilisant le tokenizer\n",
        "data[\"v2_tokenized\"] = tokenizer.texts_to_sequences(data['v2_lemma'])\n",
        "print(tokenizer.index_word)\n",
        "\n",
        "# Afficher les premières lignes du DataFrame 'data' pour visualiser les résultats\n",
        "print(data.head())\n"
      ]
    },
    {
      "cell_type": "code",
      "execution_count": 12,
      "metadata": {
        "colab": {
          "base_uri": "https://localhost:8080/"
        },
        "id": "NtxwnI8otX9i",
        "outputId": "30e4031b-74a2-434a-b124-91f3dafadd2b"
      },
      "outputs": [
        {
          "output_type": "stream",
          "name": "stdout",
          "text": [
            "ham     4825\n",
            "spam     747\n",
            "Name: v1, dtype: int64\n"
          ]
        }
      ],
      "source": [
        "print(data.v1.value_counts())"
      ]
    },
    {
      "cell_type": "code",
      "execution_count": 13,
      "metadata": {
        "id": "E5pVIvQDtX9i"
      },
      "outputs": [],
      "source": [
        "#supression de l'étape de padding pour l'ffectuer après l'oversampling / unersampling\n",
        "#data_pad = tf.keras.preprocessing.sequence.pad_sequences(data.v2_tokenized, padding=\"post\")"
      ]
    },
    {
      "cell_type": "markdown",
      "metadata": {
        "id": "U70CKoWKtX9i"
      },
      "source": [
        "### Ensemble de données d'entrainement / test et de validation"
      ]
    },
    {
      "cell_type": "code",
      "execution_count": 14,
      "metadata": {
        "colab": {
          "base_uri": "https://localhost:8080/"
        },
        "id": "ZmY_ifJttX9i",
        "outputId": "190bdf3e-9164-4be1-d23e-022fd8195e9f"
      },
      "outputs": [
        {
          "output_type": "stream",
          "name": "stdout",
          "text": [
            "        v1                                                 v2  \\\n",
            "4209   ham  No da:)he is stupid da..always sending like th...   \n",
            "3507   ham  Camera quite good, 10.1mega pixels, 3optical a...   \n",
            "3325   ham  Huh so fast... Dat means u havent finished pai...   \n",
            "2522   ham  Dunno lei... I might b eatin wif my frens... I...   \n",
            "3933   ham   How come guoyang go n tell her? Then u told her?   \n",
            "...    ...                                                ...   \n",
            "1386   ham                        All e best 4 ur exam later.   \n",
            "1271   ham  If you still havent collected the dough pls le...   \n",
            "672   spam  Get ur 1st RINGTONE FREE NOW! Reply to this ms...   \n",
            "2991   ham          K.i did't see you.:)k:)where are you now?   \n",
            "2658   ham                         Not yet chikku..wat abt u?   \n",
            "\n",
            "                                               v2_clean  \\\n",
            "4209  no dahe is stupid daalways sending like thisdo...   \n",
            "3507  camera quite good 101mega pixels 3optical and ...   \n",
            "3325   huh so fast dat means u havent finished painting   \n",
            "2522  dunno lei i might b eatin wif my frens if ì_ w...   \n",
            "3933     how come guoyang go n tell her then u told her   \n",
            "...                                                 ...   \n",
            "1386                         all e best 4 ur exam later   \n",
            "1271  if you still havent collected the dough pls le...   \n",
            "672   get ur 1st ringtone free now reply to this msg...   \n",
            "2991                  ki didt see youkwhere are you now   \n",
            "2658                            not yet chikkuwat abt u   \n",
            "\n",
            "                                               v2_lemma  \\\n",
            "4209  dahe stupid daalway send like thisdon believe ...   \n",
            "3507  camera good 101mega pixel 3optical 5digital do...   \n",
            "3325                   huh fast dat mean u finish paint   \n",
            "2522  dunno lei b eatin wif fren ì _ wan eat wait 4 ...   \n",
            "3933                         come guoyang n tell u tell   \n",
            "...                                                 ...   \n",
            "1386                                  e 4 ur exam later   \n",
            "1271  collect dough pls let know place send control ...   \n",
            "672   ur 1st ringtone free reply msg tone gr8 20 ton...   \n",
            "2991                                  ki didt youkwhere   \n",
            "2658                                    chikkuwat abt u   \n",
            "\n",
            "                                           v2_tokenized  \n",
            "4209                  [1, 732, 1, 14, 15, 1, 396, 1, 1]  \n",
            "3507  [207, 13, 1, 1, 1, 1, 1, 531, 168, 670, 47, 31...  \n",
            "3325                    [401, 386, 194, 117, 2, 110, 1]  \n",
            "2522  [263, 357, 109, 960, 289, 701, 46, 126, 127, 5...  \n",
            "3933                              [6, 1, 36, 22, 2, 22]  \n",
            "...                                                 ...  \n",
            "1386                                [79, 8, 5, 481, 40]  \n",
            "1271                [234, 1, 59, 77, 9, 111, 14, 1, 63]  \n",
            "672   [5, 201, 259, 12, 28, 72, 97, 411, 1020, 97, 3...  \n",
            "2991                                    [1098, 1296, 1]  \n",
            "2658                                        [1, 307, 2]  \n",
            "\n",
            "[4847 rows x 5 columns]\n",
            "        v1                                                 v2  \\\n",
            "4382   ham  No need lar i go engin? Cos my sis at arts tod...   \n",
            "478    ham     K, can I pick up another 8th when you're done?   \n",
            "4130   ham  \\Its Ur luck to Love someone. Its Ur fortune t...   \n",
            "3754   ham    \\Im on gloucesterroad what are uup to later?\\\"\"   \n",
            "3844   ham                   Mmmm.... I cant wait to lick it!   \n",
            "...    ...                                                ...   \n",
            "1929  spam  Free 1st week entry 2 TEXTPOD 4 a chance 2 win...   \n",
            "5289   ham  Hey! Congrats 2u2. id luv 2 but ive had 2 go h...   \n",
            "2725   ham       No. But we'll do medical missions to nigeria   \n",
            "648    ham                No prob. I will send to your email.   \n",
            "5510   ham                           I went to project centre   \n",
            "\n",
            "                                               v2_clean  \\\n",
            "4382    no need lar i go engin cos my sis at arts today   \n",
            "478         k can i pick up another 8th when youre done   \n",
            "4130  its ur luck to love someone its ur fortune to ...   \n",
            "3754         im on gloucesterroad what are uup to later   \n",
            "3844                        mmmm i cant wait to lick it   \n",
            "...                                                 ...   \n",
            "1929  free 1st week entry 2 textpod 4 a chance 2 win...   \n",
            "5289    hey congrats 2u2 id luv 2 but ive had 2 go home   \n",
            "2725         no but well do medical missions to nigeria   \n",
            "648                   no prob i will send to your email   \n",
            "5510                           i went to project centre   \n",
            "\n",
            "                                               v2_lemma  \\\n",
            "4382                   need lar engin cos sis art today   \n",
            "478                                          k pick 8th   \n",
            "4130                ur luck love ur fortune love love u   \n",
            "3754                         m gloucesterroad uup later   \n",
            "3844                                     mmmm wait lick   \n",
            "...                                                 ...   \n",
            "1929  free 1st week entry 2 textpod 4 chance 2 win 4...   \n",
            "5289                  hey congrat 2u2 d luv 2 ve 2 home   \n",
            "2725                            medical mission nigeria   \n",
            "648                                     prob send email   \n",
            "5510                                     project centre   \n",
            "\n",
            "                                           v2_tokenized  \n",
            "4382                    [24, 195, 1, 90, 457, 1427, 35]  \n",
            "478                                      [99, 74, 1145]  \n",
            "4130                      [5, 654, 20, 5, 1, 20, 20, 2]  \n",
            "3754                                      [3, 1, 1, 40]  \n",
            "3844                                      [1, 51, 1299]  \n",
            "...                                                 ...  \n",
            "1929  [12, 201, 39, 303, 4, 1, 8, 182, 4, 33, 811, 1...  \n",
            "5289                [57, 425, 1, 32, 230, 4, 68, 4, 26]  \n",
            "2725                                      [924, 1, 856]  \n",
            "648                                      [454, 14, 404]  \n",
            "5510                                        [521, 1406]  \n",
            "\n",
            "[725 rows x 5 columns]\n"
          ]
        }
      ],
      "source": [
        "# split train test sets with 0.13 due to\n",
        "data_train_test, data_val = train_test_split(data, test_size=0.13, stratify=data['v1'], random_state=2)\n",
        "print(data_train_test)\n",
        "print(data_val)"
      ]
    },
    {
      "cell_type": "markdown",
      "metadata": {
        "id": "n415MuzytX9i"
      },
      "source": [
        "On travaille sur une tâche de classification où les classes sont déséquilibrées (il y a environ 6 fois plus de ham que de spams), donc on utilise la stratification pour s' assurer que la proportion de chaque classe est maintenue dans les ensembles dde train et test.\n",
        "\n",
        "De plus, les hams représentent 87% des données, alors que les spams représentent seulement 13%. On va donc sélectionner un test size donc on choisit la valeur de l'argument test_size de manière à maintenir la même proportion entre les classes dans l'ensemble de test que dans l'ensemble d'entraînement. Cela garantit que notre modèle est évalué de manière équitable sur toutes les classes"
      ]
    },
    {
      "cell_type": "code",
      "execution_count": 15,
      "metadata": {
        "colab": {
          "base_uri": "https://localhost:8080/"
        },
        "id": "X7GnL7_ItX9j",
        "outputId": "76f777dc-6288-42ee-af72-eb15b3452a64"
      },
      "outputs": [
        {
          "output_type": "stream",
          "name": "stdout",
          "text": [
            "     v1                                                 v2  \\\n",
            "0  spam  UR awarded a City Break and could WIN a å£200 ...   \n",
            "1   ham  Ok thats cool. Its , just off either raglan rd...   \n",
            "2   ham         Its too late:)but its k.wish you the same.   \n",
            "3   ham  I'm watching lotr w my sis dis aft. So u wan 2...   \n",
            "4   ham  I.ll always be there, even if its just in spir...   \n",
            "\n",
            "                                            v2_clean  \\\n",
            "0  ur awarded a city break and could win a å200 s...   \n",
            "1  ok thats cool its  just off either raglan rd o...   \n",
            "2             its too latebut its kwish you the same   \n",
            "3  im watching lotr w my sis dis aft so u wan 2 m...   \n",
            "4  ill always be there even if its just in spirit...   \n",
            "\n",
            "                                            v2_lemma  \\\n",
            "0  ur award city break win å200 summer shopping s...   \n",
            "1  ok s cool   raglan rd edward rd cricket ground...   \n",
            "2                                      latebut kwish   \n",
            "3  m watch lotr w sis dis aft u wan 2 meet 4 dinn...   \n",
            "4               ill spirit ill bb soon try sure need   \n",
            "\n",
            "                                        v2_tokenized  \n",
            "0  [5, 106, 1596, 333, 33, 792, 753, 643, 1009, 3...  \n",
            "1  [10, 7, 183, 1, 1414, 1, 1414, 1, 1, 1990, 365...  \n",
            "2                                             [1, 1]  \n",
            "3  [3, 103, 1, 607, 457, 268, 406, 2, 126, 4, 50,...  \n",
            "4                 [18, 1, 18, 837, 112, 54, 100, 24]  \n",
            "(3250, 5)\n",
            "ham     2600\n",
            "spam     650\n",
            "Name: v1, dtype: int64\n"
          ]
        }
      ],
      "source": [
        "def data_under_sampling(data, nb_reduce):\n",
        "  data_sample_2 = data.loc[data['v1']=='spam',:]\n",
        "  len_class_sub = len(data_sample_2)\n",
        "  # extrait toutes les lignes de l'ensemble de données où la colonne 'v1' a la valeur 'ham'.\n",
        "  # Ensuite, la méthode .sample() est utilisée pour sous-échantillonner cette classe \"ham\".\n",
        "  # Le nombre d'échantillons de la classe \"ham\" sous-échantillonnée est déterminé en multipliant nb_reduce par la longueur de la classe \"spam\" calculée précédemment.\n",
        "  # Cela réduit la classe majoritaire à un multiple de la taille de la classe minoritaire.\n",
        "  data_sample_1 = data.loc[data['v1']=='ham',:].sample(nb_reduce * len_class_sub)\n",
        "  # Concatène verticalement (axe 0) les deux sous-ensembles de données résultants (le sous-ensemble de données \"ham\" sous-échantillonné et\n",
        "  # le sous-ensemble de données \"spam\"). Ensuite, .sample(frac=1) est utilisé pour mélanger aléatoirement les lignes de l'ensemble de données résultant,\n",
        "  # et .reset_index(drop=True) réinitialise les index des lignes pour créer un nouvel ensemble de données sous-échantillonné et mélangé.\".\n",
        "  return pd.concat([data_sample_1,data_sample_2], axis=0).sample(frac=1).reset_index(drop=True)\n",
        "\n",
        "data_red = data_under_sampling(data_train_test, 4)\n",
        "print(data_red.head())\n",
        "print(data_red.shape)\n",
        "print(data_red['v1'].value_counts())"
      ]
    },
    {
      "cell_type": "code",
      "execution_count": 16,
      "metadata": {
        "colab": {
          "base_uri": "https://localhost:8080/"
        },
        "id": "YGOuLVDNtX9j",
        "outputId": "e9e20c4d-e512-41dc-bcfc-da59bb505523"
      },
      "outputs": [
        {
          "output_type": "execute_result",
          "data": {
            "text/plain": [
              "72"
            ]
          },
          "metadata": {},
          "execution_count": 16
        }
      ],
      "source": [
        "# calcule la longueur maximale d'une séquence de tokens dans la colonne 'v2_tokenized' pour avoir une base pour le padding\n",
        "\n",
        "max_len_sentence = max([len(token) for token in data['v2_tokenized'].to_list()])\n",
        "max_len_sentence\n",
        "\n"
      ]
    },
    {
      "cell_type": "code",
      "execution_count": 17,
      "metadata": {
        "id": "41_ihKKTtX9j"
      },
      "outputs": [],
      "source": [
        "# on applique le padding\n",
        "v2_pad_train = tf.keras.preprocessing.sequence.pad_sequences(data_red['v2_tokenized'], padding=\"post\", maxlen=max_len_sentence)\n",
        "v2_pad_val = tf.keras.preprocessing.sequence.pad_sequences(data_val['v2_tokenized'], padding=\"post\", maxlen=max_len_sentence)"
      ]
    },
    {
      "cell_type": "markdown",
      "metadata": {
        "id": "pHB8dYpNtX9k"
      },
      "source": [
        "### target preprocessing"
      ]
    },
    {
      "cell_type": "code",
      "execution_count": 18,
      "metadata": {
        "id": "QurRBnJ3tX9k"
      },
      "outputs": [],
      "source": [
        "preprocessor_y = LabelEncoder()\n",
        "y_train_test = preprocessor_y.fit_transform(data_red['v1'])\n",
        "y_val = preprocessor_y.transform(data_val['v1'])"
      ]
    },
    {
      "cell_type": "markdown",
      "metadata": {
        "id": "L4F79BRetX9k"
      },
      "source": [
        "Après avoir appliqué les prétraitements appropriés (cleaning, lemmatisation, toknization, undersampling et padding) sur les données d'entraînement et de test d'une part, et sur l'ensemble de données de validation d'autre part, nous pouvons procéder à une deuxième division pour créer les ensembles distincts d'entraînement et de test à partir de de l'ensemble de données train_test dédié. Tout comme lors de la première division, nous utilisons une stratification pour garantir que les proportions des classes cibles sont maintenues dans les deux ensembles, assurant ainsi une répartition équilibrée des données de chaque classe dans les ensembles d'entraînement et de test."
      ]
    },
    {
      "cell_type": "code",
      "execution_count": 19,
      "metadata": {
        "id": "p5uHJel2tX9k"
      },
      "outputs": [],
      "source": [
        "x_train, x_test, y_train, y_test = train_test_split(v2_pad_train, y_train_test, test_size=0.15, stratify=y_train_test, random_state=2)"
      ]
    },
    {
      "cell_type": "markdown",
      "metadata": {
        "id": "sC8ux4cctX9k"
      },
      "source": [
        "On prépare les données d'entraînement et de test sous forme de datasets TensorFlow, prêtes à être utilisées lors de l'entraînement d'un modèle de deep learning. Les échantillons sont mis en lots, mélangés (pour les données d'entraînement)."
      ]
    },
    {
      "cell_type": "code",
      "execution_count": 20,
      "metadata": {
        "id": "W5Wo5IT3tX9k"
      },
      "outputs": [],
      "source": [
        "BATCH_SIZE = 64\n",
        "train_batch = tf.data.Dataset.from_tensor_slices((x_train, y_train)).shuffle(len(x_train)).batch(BATCH_SIZE)\n",
        "test_batch = tf.data.Dataset.from_tensor_slices((x_test, y_test)).batch(BATCH_SIZE)\n",
        "\n"
      ]
    },
    {
      "cell_type": "code",
      "source": [
        "print('Preprocessing done --- extract of test_batch : ')\n",
        "for sentence, target in test_batch.take(1):\n",
        "  print(sentence, target)"
      ],
      "metadata": {
        "colab": {
          "base_uri": "https://localhost:8080/"
        },
        "id": "Ghh6001MuQOO",
        "outputId": "1b47abdf-870e-4eab-adff-2232a1bb34d4"
      },
      "execution_count": 21,
      "outputs": [
        {
          "output_type": "stream",
          "name": "stdout",
          "text": [
            "Preprocessing done --- extract of test_batch : \n",
            "tf.Tensor(\n",
            "[[ 30  18  40 ...   0   0   0]\n",
            " [  1 888 545 ...   0   0   0]\n",
            " [ 19 841 388 ...   0   0   0]\n",
            " ...\n",
            " [ 26  67   0 ...   0   0   0]\n",
            " [ 60  46   0 ...   0   0   0]\n",
            " [390 380 128 ...   0   0   0]], shape=(64, 72), dtype=int32) tf.Tensor(\n",
            "[0 1 0 1 1 0 0 0 0 0 0 0 0 0 0 0 0 0 1 1 0 0 1 0 0 0 1 0 1 0 0 1 1 0 0 0 1\n",
            " 1 0 0 0 1 0 0 0 0 0 0 0 0 0 1 0 0 0 1 1 1 0 0 0 0 0 0], shape=(64,), dtype=int64)\n"
          ]
        }
      ]
    },
    {
      "cell_type": "markdown",
      "metadata": {
        "id": "7lD-p8OhtX9l"
      },
      "source": [
        "## Modeling\n",
        "\n",
        "Nous allons tester différents modèles en jouant sur les couches de neurones qui composent leur architecture."
      ]
    },
    {
      "cell_type": "markdown",
      "source": [
        "### Métriques d'analyse"
      ],
      "metadata": {
        "id": "1gyUPiavqjGz"
      }
    },
    {
      "cell_type": "markdown",
      "source": [
        "Trois métriques sont utilisées pour évaluer les performances des différents modèles testés.\n",
        "\n",
        "- Le taux d'accuracy, qui est calculé comme le rapport entre le\n",
        "- Le taux de précision , qui est calculé comme le rapport entre le\n",
        "- Le taux de recall, qui est calculé comme le rapport entre le nombre de vrais positifs et la somme des vrais positifs et des faux négatifs. La formule est la suivante :\n",
        "Recall=\n",
        "(TP+FN)/TP\n",
        "où TP est le nombre de vrais positifs et FN est le nombre de faux négatifs.\n",
        "\n"
      ],
      "metadata": {
        "id": "xTvs48baqhBn"
      }
    },
    {
      "cell_type": "markdown",
      "source": [
        "### Modèle 1"
      ],
      "metadata": {
        "id": "AbQlv8ZSqmUz"
      }
    },
    {
      "cell_type": "markdown",
      "source": [
        "Créons un premier modèle classique avec une architecture simple. Pour un problème de classification de messages ham et spam, une taille d'embedding typique pourrait se situer entre 50 et 300 dimensions, nous allons tester une dimension d'embedding de 128 pour commencer. Nous commençons par tester un modèle avec une unique couche dense pour commencer et nous verrons si de multiple couches denses améliorer la tache de classification."
      ],
      "metadata": {
        "id": "hP7f_dQ7rL-c"
      }
    },
    {
      "cell_type": "code",
      "execution_count": 22,
      "metadata": {
        "id": "l7sOevnNtX9l"
      },
      "outputs": [],
      "source": [
        "model_1 = tf.keras.Sequential([\n",
        "                  # Couche d'Input Word Embedding\n",
        "                  tf.keras.layers.Embedding(vocab_size+1, 128, input_shape=[data[['v1']].shape[1],],name=\"embedding\"),\n",
        "                  # Gobal average pooling\n",
        "                  tf.keras.layers.GlobalAveragePooling1D(),\n",
        "\n",
        "                  # Couche Dense classique\n",
        "                  tf.keras.layers.Dense(64, activation='relu'),\n",
        "                  tf.keras.layers.Dense(1, activation=\"sigmoid\")\n",
        "\n",
        "])"
      ]
    },
    {
      "cell_type": "code",
      "execution_count": 23,
      "metadata": {
        "colab": {
          "base_uri": "https://localhost:8080/"
        },
        "id": "-pfZOX_ptX9l",
        "outputId": "1f4b794d-d1fe-4704-95f6-009ff10731a2"
      },
      "outputs": [
        {
          "output_type": "stream",
          "name": "stdout",
          "text": [
            "Model: \"sequential\"\n",
            "_________________________________________________________________\n",
            " Layer (type)                Output Shape              Param #   \n",
            "=================================================================\n",
            " embedding (Embedding)       (None, 1, 128)            256128    \n",
            "                                                                 \n",
            " global_average_pooling1d (  (None, 128)               0         \n",
            " GlobalAveragePooling1D)                                         \n",
            "                                                                 \n",
            " dense (Dense)               (None, 64)                8256      \n",
            "                                                                 \n",
            " dense_1 (Dense)             (None, 1)                 65        \n",
            "                                                                 \n",
            "=================================================================\n",
            "Total params: 264449 (1.01 MB)\n",
            "Trainable params: 264449 (1.01 MB)\n",
            "Non-trainable params: 0 (0.00 Byte)\n",
            "_________________________________________________________________\n"
          ]
        }
      ],
      "source": [
        "model_1.summary()"
      ]
    },
    {
      "cell_type": "code",
      "execution_count": 24,
      "metadata": {
        "id": "Zm-mvBhWtX9l"
      },
      "outputs": [],
      "source": [
        "def compile_and_log(model, model_name='default', architecture={}):\n",
        "  # definition de l'optimiseur - on utilise Adam()\n",
        "  optimizer= tf.keras.optimizers.Adam()\n",
        "  # lors de la compilation, pour la loss on prend\n",
        "  model.compile(optimizer=\"adam\",\n",
        "              loss=tf.keras.losses.BinaryCrossentropy(),\n",
        "              metrics = [tf.keras.metrics.BinaryAccuracy(name='accuracy'),\n",
        "                         tf.keras.metrics.Precision(name='precision'),\n",
        "                         tf.keras.metrics.Recall(name='recall')])\n",
        "  log_dir=\"logs/fit/\" + model_name + datetime.datetime.now().strftime(\"%Y%m%d-%H%M%S\")\n",
        "  tensorboard_callback = tf.keras.callbacks.TensorBoard(log_dir=log_dir, histogram_freq=1)\n",
        "  hparams_callback = hp.KerasCallback(log_dir, architecture)\n",
        "  print (f\"{model} logged with name : {model_name}...\")\n",
        "  return tensorboard_callback, hparams_callback"
      ]
    },
    {
      "cell_type": "code",
      "source": [
        "tensorboard_callback, hparams_callback = compile_and_log(model_1, \"Simple Multi-Layers Denses\", {\n",
        "                                                                                            'dim_embedding':128,\n",
        "                                                                                            'nb_dense_units':105,\n",
        "                                                                                            'dropout':0.2})"
      ],
      "metadata": {
        "colab": {
          "base_uri": "https://localhost:8080/"
        },
        "id": "B4CcQ8A57zR4",
        "outputId": "dfce6b6b-f535-45e5-d6b9-004731813e2d"
      },
      "execution_count": 25,
      "outputs": [
        {
          "output_type": "stream",
          "name": "stdout",
          "text": [
            "<keras.src.engine.sequential.Sequential object at 0x79eefa33c970> logged with name : Simple Multi-Layers Denses...\n"
          ]
        }
      ]
    },
    {
      "cell_type": "code",
      "execution_count": 26,
      "metadata": {
        "colab": {
          "base_uri": "https://localhost:8080/"
        },
        "id": "lFiUzCs3tX9l",
        "outputId": "c032262e-2252-4586-afae-7c925acf55a5"
      },
      "outputs": [
        {
          "output_type": "stream",
          "name": "stdout",
          "text": [
            "Epoch 1/20\n",
            "44/44 [==============================] - 2s 21ms/step - loss: 0.5734 - accuracy: 0.7857 - precision: 0.1875 - recall: 0.0217 - val_loss: 0.4751 - val_accuracy: 0.7992 - val_precision: 0.0000e+00 - val_recall: 0.0000e+00\n",
            "Epoch 2/20\n",
            "44/44 [==============================] - 0s 11ms/step - loss: 0.4532 - accuracy: 0.8001 - precision: 0.0000e+00 - recall: 0.0000e+00 - val_loss: 0.4422 - val_accuracy: 0.7992 - val_precision: 0.0000e+00 - val_recall: 0.0000e+00\n",
            "Epoch 3/20\n",
            "44/44 [==============================] - 1s 12ms/step - loss: 0.4183 - accuracy: 0.8001 - precision: 0.0000e+00 - recall: 0.0000e+00 - val_loss: 0.3995 - val_accuracy: 0.7992 - val_precision: 0.0000e+00 - val_recall: 0.0000e+00\n",
            "Epoch 4/20\n",
            "44/44 [==============================] - 1s 23ms/step - loss: 0.3441 - accuracy: 0.8172 - precision: 0.9608 - recall: 0.0888 - val_loss: 0.3014 - val_accuracy: 0.8525 - val_precision: 0.9643 - val_recall: 0.2755\n",
            "Epoch 5/20\n",
            "44/44 [==============================] - 1s 17ms/step - loss: 0.2269 - accuracy: 0.9196 - precision: 0.9459 - recall: 0.6341 - val_loss: 0.2056 - val_accuracy: 0.9242 - val_precision: 0.9841 - val_recall: 0.6327\n",
            "Epoch 6/20\n",
            "44/44 [==============================] - 1s 17ms/step - loss: 0.1447 - accuracy: 0.9558 - precision: 0.9442 - recall: 0.8279 - val_loss: 0.1526 - val_accuracy: 0.9508 - val_precision: 0.9744 - val_recall: 0.7755\n",
            "Epoch 7/20\n",
            "44/44 [==============================] - 1s 28ms/step - loss: 0.1001 - accuracy: 0.9692 - precision: 0.9606 - recall: 0.8822 - val_loss: 0.1292 - val_accuracy: 0.9590 - val_precision: 0.9756 - val_recall: 0.8163\n",
            "Epoch 8/20\n",
            "44/44 [==============================] - 1s 23ms/step - loss: 0.0765 - accuracy: 0.9761 - precision: 0.9728 - recall: 0.9058 - val_loss: 0.1135 - val_accuracy: 0.9652 - val_precision: 0.9880 - val_recall: 0.8367\n",
            "Epoch 9/20\n",
            "44/44 [==============================] - 1s 22ms/step - loss: 0.0630 - accuracy: 0.9783 - precision: 0.9786 - recall: 0.9112 - val_loss: 0.1017 - val_accuracy: 0.9672 - val_precision: 0.9659 - val_recall: 0.8673\n",
            "Epoch 10/20\n",
            "44/44 [==============================] - 1s 22ms/step - loss: 0.0532 - accuracy: 0.9833 - precision: 0.9884 - recall: 0.9275 - val_loss: 0.0976 - val_accuracy: 0.9734 - val_precision: 0.9670 - val_recall: 0.8980\n",
            "Epoch 11/20\n",
            "44/44 [==============================] - 1s 20ms/step - loss: 0.0474 - accuracy: 0.9844 - precision: 0.9904 - recall: 0.9312 - val_loss: 0.0967 - val_accuracy: 0.9713 - val_precision: 0.9565 - val_recall: 0.8980\n",
            "Epoch 12/20\n",
            "44/44 [==============================] - 1s 29ms/step - loss: 0.0434 - accuracy: 0.9862 - precision: 0.9923 - recall: 0.9384 - val_loss: 0.0998 - val_accuracy: 0.9734 - val_precision: 0.9775 - val_recall: 0.8878\n",
            "Epoch 13/20\n",
            "44/44 [==============================] - 1s 22ms/step - loss: 0.0359 - accuracy: 0.9884 - precision: 0.9943 - recall: 0.9475 - val_loss: 0.1121 - val_accuracy: 0.9734 - val_precision: 1.0000 - val_recall: 0.8673\n",
            "Epoch 14/20\n",
            "44/44 [==============================] - 1s 22ms/step - loss: 0.0319 - accuracy: 0.9891 - precision: 0.9943 - recall: 0.9511 - val_loss: 0.0945 - val_accuracy: 0.9713 - val_precision: 0.9565 - val_recall: 0.8980\n",
            "Epoch 15/20\n",
            "44/44 [==============================] - 1s 26ms/step - loss: 0.0287 - accuracy: 0.9917 - precision: 0.9962 - recall: 0.9620 - val_loss: 0.1134 - val_accuracy: 0.9734 - val_precision: 1.0000 - val_recall: 0.8673\n",
            "Epoch 16/20\n",
            "44/44 [==============================] - 1s 30ms/step - loss: 0.0261 - accuracy: 0.9935 - precision: 0.9981 - recall: 0.9692 - val_loss: 0.1029 - val_accuracy: 0.9713 - val_precision: 0.9565 - val_recall: 0.8980\n",
            "Epoch 17/20\n",
            "44/44 [==============================] - 1s 18ms/step - loss: 0.0227 - accuracy: 0.9938 - precision: 0.9963 - recall: 0.9728 - val_loss: 0.1045 - val_accuracy: 0.9713 - val_precision: 0.9565 - val_recall: 0.8980\n",
            "Epoch 18/20\n",
            "44/44 [==============================] - 1s 21ms/step - loss: 0.0218 - accuracy: 0.9946 - precision: 0.9981 - recall: 0.9746 - val_loss: 0.1070 - val_accuracy: 0.9713 - val_precision: 0.9565 - val_recall: 0.8980\n",
            "Epoch 19/20\n",
            "44/44 [==============================] - 1s 18ms/step - loss: 0.0192 - accuracy: 0.9960 - precision: 1.0000 - recall: 0.9801 - val_loss: 0.1099 - val_accuracy: 0.9693 - val_precision: 0.9663 - val_recall: 0.8776\n",
            "Epoch 20/20\n",
            "44/44 [==============================] - 1s 21ms/step - loss: 0.0175 - accuracy: 0.9964 - precision: 1.0000 - recall: 0.9819 - val_loss: 0.1096 - val_accuracy: 0.9734 - val_precision: 0.9570 - val_recall: 0.9082\n"
          ]
        },
        {
          "output_type": "execute_result",
          "data": {
            "text/plain": [
              "<keras.src.callbacks.History at 0x79eefa33de40>"
            ]
          },
          "metadata": {},
          "execution_count": 26
        }
      ],
      "source": [
        "model_1.fit(\n",
        "    train_batch,\n",
        "    epochs=20,\n",
        "    verbose=1,\n",
        "    callbacks=[tensorboard_callback, hparams_callback],\n",
        "    validation_data=test_batch)"
      ]
    },
    {
      "cell_type": "markdown",
      "source": [
        "#### Analysis"
      ],
      "metadata": {
        "id": "NedwwI0f-J-q"
      }
    },
    {
      "cell_type": "markdown",
      "source": [
        "Au fur et à mesure que les epochs progressent, la loss diminue, la précision augmente, le rappel augmente, et l'accuracy générale du modèle s'améliore sur l'ensemble de validation ce qui montre qu'il y a une amélioration de la performance du modèle.\n"
      ],
      "metadata": {
        "id": "k9lejhHC-PcL"
      }
    },
    {
      "cell_type": "markdown",
      "source": [
        "On crée une fonction pour convertir les prédictions probabilistes du modèle (probabilités continues entre 0 et 1) en prédictions binaires (0 ou 1) en utilisant un seuil spécifié. Cela nous servira pour ajuster le point de décision pour la classification binaire en fonction de nos besoins spécifiques comme par exemple pour améliorer la précision ou le rappel en ajustant le seuil de décision."
      ],
      "metadata": {
        "id": "jU4G2-IhSfZi"
      }
    },
    {
      "cell_type": "code",
      "source": [
        "def predictions_singleton_to_binary(model, tresh, x_val, y_val):\n",
        "  y_true = y_val\n",
        "  y_pred = np.where(model.predict(x_val) > tresh, 1, 0)\n",
        "  return y_true, y_pred"
      ],
      "metadata": {
        "id": "87xMgnMP7taR"
      },
      "execution_count": 27,
      "outputs": []
    },
    {
      "cell_type": "code",
      "source": [
        "# Affichage des matrices de confusion\n",
        "\n",
        "def display_matrix_and_scores(y_true, y_pred):\n",
        "  ConfusionMatrixDisplay.from_predictions(y_true, y_pred)\n",
        "  print(f'Accuracy : {accuracy_score(y_true,y_pred)}')\n",
        "  print(f'Precision : {precision_score(y_true,y_pred)}')\n",
        "  print(f'Recall : {recall_score(y_true,y_pred)}')"
      ],
      "metadata": {
        "id": "21eA2rseTAF3"
      },
      "execution_count": 28,
      "outputs": []
    },
    {
      "cell_type": "code",
      "source": [
        "\n",
        "# Créer un DataFrame vide pour stocker les résultats\n",
        "results_df = pd.DataFrame(columns=['Model', 'Accuracy', 'Precision', 'Recall'])\n",
        "\n",
        "# Fonction pour ajouter les résultats d'un modèle au DataFrame\n",
        "def add_results_to_df(model_name, y_true, y_pred):\n",
        "    accuracy = accuracy_score(y_true, y_pred)\n",
        "    precision = precision_score(y_true, y_pred)\n",
        "    recall = recall_score(y_true, y_pred)\n",
        "\n",
        "    # Ajouter une nouvelle ligne au DataFrame\n",
        "    global results_df\n",
        "    results_df = results_df.append({\n",
        "        'Model': model_name,\n",
        "        'Accuracy': accuracy,\n",
        "        'Precision': precision,\n",
        "        'Recall': recall\n",
        "    }, ignore_index=True)\n",
        "\n",
        "model_name = 'Model 1 '\n",
        "y_true, y_pred = predictions_singleton_to_binary(model_1, 0.5, v2_pad_val, y_val)\n",
        "add_results_to_df(model_name, y_true, y_pred)\n",
        "display_matrix_and_scores(y_true, y_pred)\n",
        "# Afficher le DataFrame\n",
        "print(results_df)\n"
      ],
      "metadata": {
        "colab": {
          "base_uri": "https://localhost:8080/",
          "height": 551
        },
        "id": "pK_yWDfCU19o",
        "outputId": "f4172444-6f1d-4a22-c873-8e26cc7c7c1e"
      },
      "execution_count": 29,
      "outputs": [
        {
          "output_type": "stream",
          "name": "stdout",
          "text": [
            "23/23 [==============================] - 0s 3ms/step\n",
            "Accuracy : 0.9848275862068966\n",
            "Precision : 0.967391304347826\n",
            "Recall : 0.9175257731958762\n",
            "      Model  Accuracy  Precision    Recall\n",
            "0  Model 1   0.984828   0.967391  0.917526\n"
          ]
        },
        {
          "output_type": "display_data",
          "data": {
            "text/plain": [
              "<Figure size 640x480 with 2 Axes>"
            ],
            "image/png": "[encoded data removed]"
          },
          "metadata": {}
        }
      ]
    },
    {
      "cell_type": "markdown",
      "source": [
        "### Modèle 2"
      ],
      "metadata": {
        "id": "-oO8CyiJX-On"
      }
    },
    {
      "cell_type": "markdown",
      "source": [
        " On ajoute une couche Dropout qui est une technique de régularisation qui aide à prévenir le surajustement dans les réseaux de neurones. En l'absence de la couche Dropout, le modèle peut avoir tendance à surapprendre les détails spécifiques du jeu de données d'entraînement, ce qui peut conduire à une performance médiocre sur de nouvelles données (overfitting). La couche Dropout introduit une régularisation en désactivant aléatoirement certains neurones pendant l'entraînement, forçant ainsi le réseau à apprendre de manière plus robuste. Nous allons voir si elle est utile dans notre cas."
      ],
      "metadata": {
        "id": "7A2FvLB-fLZO"
      }
    },
    {
      "cell_type": "code",
      "source": [
        "model_2 = tf.keras.Sequential([\n",
        "                  tf.keras.layers.Embedding(vocab_size+1, 128, input_shape=[x_train.shape[1],],name=\"embedding\"),\n",
        "                  tf.keras.layers.GlobalAveragePooling1D(),\n",
        "                  tf.keras.layers.Dense(64, activation='relu'),\n",
        "                  tf.keras.layers.Dropout(0.2),\n",
        "                  tf.keras.layers.Dense(1, activation=\"sigmoid\")\n",
        "])"
      ],
      "metadata": {
        "id": "aThMJzs8XFNf"
      },
      "execution_count": 30,
      "outputs": []
    },
    {
      "cell_type": "code",
      "source": [
        "tensorboard_callback, hparams_callback = compile_and_log(model_2, \"Simple Multi-Layers Denses with dropout\", {\n",
        "                                                                                            'dim_embedding':128,\n",
        "                                                                                            'nb_dense_units':105,\n",
        "                                                                                            'dropout':0.2})"
      ],
      "metadata": {
        "colab": {
          "base_uri": "https://localhost:8080/"
        },
        "id": "91oaZl2alscy",
        "outputId": "b750f294-d53b-4cfa-e601-9af5fe13b34f"
      },
      "execution_count": 31,
      "outputs": [
        {
          "output_type": "stream",
          "name": "stdout",
          "text": [
            "<keras.src.engine.sequential.Sequential object at 0x79eef58d9540> logged with name : Simple Multi-Layers Denses with dropout...\n"
          ]
        }
      ]
    },
    {
      "cell_type": "code",
      "source": [
        "model_2.fit(\n",
        "    train_batch,\n",
        "    epochs=20,\n",
        "    verbose=1,\n",
        "    callbacks=[tensorboard_callback, hparams_callback],\n",
        "    validation_data=test_batch)"
      ],
      "metadata": {
        "colab": {
          "base_uri": "https://localhost:8080/"
        },
        "id": "INqF-_7ml8fM",
        "outputId": "8c7b6877-cb02-4cf0-87a5-1ebbe80b8be4"
      },
      "execution_count": 32,
      "outputs": [
        {
          "output_type": "stream",
          "name": "stdout",
          "text": [
            "Epoch 1/20\n",
            "44/44 [==============================] - 4s 44ms/step - loss: 0.5467 - accuracy: 0.7991 - precision: 0.0000e+00 - recall: 0.0000e+00 - val_loss: 0.4621 - val_accuracy: 0.7992 - val_precision: 0.0000e+00 - val_recall: 0.0000e+00\n",
            "Epoch 2/20\n",
            "44/44 [==============================] - 1s 29ms/step - loss: 0.4466 - accuracy: 0.8001 - precision: 0.0000e+00 - recall: 0.0000e+00 - val_loss: 0.4323 - val_accuracy: 0.7992 - val_precision: 0.0000e+00 - val_recall: 0.0000e+00\n",
            "Epoch 3/20\n",
            "44/44 [==============================] - 1s 17ms/step - loss: 0.4031 - accuracy: 0.8001 - precision: 0.0000e+00 - recall: 0.0000e+00 - val_loss: 0.3752 - val_accuracy: 0.7992 - val_precision: 0.0000e+00 - val_recall: 0.0000e+00\n",
            "Epoch 4/20\n",
            "44/44 [==============================] - 0s 10ms/step - loss: 0.3195 - accuracy: 0.8269 - precision: 0.9868 - recall: 0.1359 - val_loss: 0.2860 - val_accuracy: 0.8750 - val_precision: 0.9744 - val_recall: 0.3878\n",
            "Epoch 5/20\n",
            "44/44 [==============================] - 0s 11ms/step - loss: 0.2339 - accuracy: 0.9149 - precision: 0.9490 - recall: 0.6069 - val_loss: 0.2319 - val_accuracy: 0.9098 - val_precision: 0.9821 - val_recall: 0.5612\n",
            "Epoch 6/20\n",
            "44/44 [==============================] - 0s 11ms/step - loss: 0.1690 - accuracy: 0.9493 - precision: 0.9498 - recall: 0.7880 - val_loss: 0.1717 - val_accuracy: 0.9426 - val_precision: 0.9730 - val_recall: 0.7347\n",
            "Epoch 7/20\n",
            "44/44 [==============================] - 0s 10ms/step - loss: 0.1217 - accuracy: 0.9642 - precision: 0.9539 - recall: 0.8623 - val_loss: 0.1373 - val_accuracy: 0.9590 - val_precision: 0.9756 - val_recall: 0.8163\n",
            "Epoch 8/20\n",
            "44/44 [==============================] - 1s 13ms/step - loss: 0.0921 - accuracy: 0.9721 - precision: 0.9594 - recall: 0.8986 - val_loss: 0.1249 - val_accuracy: 0.9631 - val_precision: 0.9878 - val_recall: 0.8265\n",
            "Epoch 9/20\n",
            "44/44 [==============================] - 1s 13ms/step - loss: 0.0756 - accuracy: 0.9743 - precision: 0.9706 - recall: 0.8986 - val_loss: 0.1066 - val_accuracy: 0.9672 - val_precision: 0.9659 - val_recall: 0.8673\n",
            "Epoch 10/20\n",
            "44/44 [==============================] - 1s 13ms/step - loss: 0.0626 - accuracy: 0.9790 - precision: 0.9787 - recall: 0.9149 - val_loss: 0.1023 - val_accuracy: 0.9672 - val_precision: 0.9659 - val_recall: 0.8673\n",
            "Epoch 11/20\n",
            "44/44 [==============================] - 1s 11ms/step - loss: 0.0568 - accuracy: 0.9826 - precision: 0.9809 - recall: 0.9312 - val_loss: 0.1030 - val_accuracy: 0.9672 - val_precision: 0.9767 - val_recall: 0.8571\n",
            "Epoch 12/20\n",
            "44/44 [==============================] - 0s 10ms/step - loss: 0.0464 - accuracy: 0.9855 - precision: 0.9923 - recall: 0.9348 - val_loss: 0.0953 - val_accuracy: 0.9713 - val_precision: 0.9565 - val_recall: 0.8980\n",
            "Epoch 13/20\n",
            "44/44 [==============================] - 0s 11ms/step - loss: 0.0440 - accuracy: 0.9862 - precision: 0.9886 - recall: 0.9420 - val_loss: 0.1081 - val_accuracy: 0.9713 - val_precision: 0.9884 - val_recall: 0.8673\n",
            "Epoch 14/20\n",
            "44/44 [==============================] - 1s 13ms/step - loss: 0.0385 - accuracy: 0.9884 - precision: 0.9943 - recall: 0.9475 - val_loss: 0.1063 - val_accuracy: 0.9713 - val_precision: 0.9773 - val_recall: 0.8776\n",
            "Epoch 15/20\n",
            "44/44 [==============================] - 1s 13ms/step - loss: 0.0332 - accuracy: 0.9888 - precision: 0.9924 - recall: 0.9511 - val_loss: 0.1072 - val_accuracy: 0.9713 - val_precision: 0.9773 - val_recall: 0.8776\n",
            "Epoch 16/20\n",
            "44/44 [==============================] - 1s 12ms/step - loss: 0.0303 - accuracy: 0.9917 - precision: 0.9926 - recall: 0.9656 - val_loss: 0.1020 - val_accuracy: 0.9693 - val_precision: 0.9560 - val_recall: 0.8878\n",
            "Epoch 17/20\n",
            "44/44 [==============================] - 1s 14ms/step - loss: 0.0260 - accuracy: 0.9935 - precision: 0.9963 - recall: 0.9710 - val_loss: 0.1049 - val_accuracy: 0.9693 - val_precision: 0.9663 - val_recall: 0.8776\n",
            "Epoch 18/20\n",
            "44/44 [==============================] - 1s 18ms/step - loss: 0.0233 - accuracy: 0.9953 - precision: 0.9982 - recall: 0.9783 - val_loss: 0.1108 - val_accuracy: 0.9693 - val_precision: 0.9663 - val_recall: 0.8776\n",
            "Epoch 19/20\n",
            "44/44 [==============================] - 1s 21ms/step - loss: 0.0213 - accuracy: 0.9938 - precision: 0.9945 - recall: 0.9746 - val_loss: 0.1147 - val_accuracy: 0.9693 - val_precision: 0.9663 - val_recall: 0.8776\n",
            "Epoch 20/20\n",
            "44/44 [==============================] - 1s 15ms/step - loss: 0.0191 - accuracy: 0.9964 - precision: 1.0000 - recall: 0.9819 - val_loss: 0.1056 - val_accuracy: 0.9713 - val_precision: 0.9565 - val_recall: 0.8980\n"
          ]
        },
        {
          "output_type": "execute_result",
          "data": {
            "text/plain": [
              "<keras.src.callbacks.History at 0x79eef622b850>"
            ]
          },
          "metadata": {},
          "execution_count": 32
        }
      ]
    },
    {
      "cell_type": "code",
      "source": [
        "model_name = 'Model 2 '\n",
        "y_true, y_pred = predictions_singleton_to_binary(model_2, 0.5, v2_pad_val, y_val)\n",
        "add_results_to_df(model_name, y_true, y_pred)\n",
        "display_matrix_and_scores(y_true, y_pred)\n",
        "# Afficher le DataFrame\n",
        "print(results_df)"
      ],
      "metadata": {
        "colab": {
          "base_uri": "https://localhost:8080/",
          "height": 568
        },
        "id": "uMXXdS0-fcJ1",
        "outputId": "dc253efd-d72e-4e6f-db7f-dd40d2b571dd"
      },
      "execution_count": 33,
      "outputs": [
        {
          "output_type": "stream",
          "name": "stdout",
          "text": [
            "23/23 [==============================] - 0s 2ms/step\n",
            "Accuracy : 0.983448275862069\n",
            "Precision : 0.956989247311828\n",
            "Recall : 0.9175257731958762\n",
            "      Model  Accuracy  Precision    Recall\n",
            "0  Model 1   0.984828   0.967391  0.917526\n",
            "1  Model 2   0.983448   0.956989  0.917526\n"
          ]
        },
        {
          "output_type": "display_data",
          "data": {
            "text/plain": [
              "<Figure size 640x480 with 2 Axes>"
            ],
            "image/png": "[encoded data removed]"
          },
          "metadata": {}
        }
      ]
    },
    {
      "cell_type": "markdown",
      "source": [
        "      Model  Accuracy  Precision    Recall\n",
        "0  Model 1   0.984828   0.957447  0.927835\n",
        "1  Model 2   0.986207   0.967742  0.927835"
      ],
      "metadata": {
        "id": "tfqlAOVhpP9s"
      }
    },
    {
      "cell_type": "markdown",
      "source": [
        "### Modèle 3"
      ],
      "metadata": {
        "id": "Febq7aOblXNy"
      }
    },
    {
      "cell_type": "code",
      "source": [
        "model_3 = tf.keras.Sequential([\n",
        "    tf.keras.layers.Embedding(vocab_size+1, 128, input_shape=[x_train.shape[1],], name=\"embedding\"),\n",
        "    tf.keras.layers.GlobalAveragePooling1D(),\n",
        "    tf.keras.layers.Dense(64, activation='relu'),\n",
        "    tf.keras.layers.Dense(32, activation='relu'),  # Nouvelle couche Dense\n",
        "    tf.keras.layers.Dropout(0.2),\n",
        "    tf.keras.layers.Dense(16, activation='relu'),  # Nouvelle couche Dense\n",
        "    tf.keras.layers.Dense(1, activation=\"sigmoid\")\n",
        "])\n"
      ],
      "metadata": {
        "id": "S0_0VB3DgO5A"
      },
      "execution_count": 34,
      "outputs": []
    },
    {
      "cell_type": "code",
      "source": [
        "tensorboard_callback, hparams_callback = compile_and_log(model_3, \"Simple Multi-Layers Denses with dropout\", {\n",
        "                                                                                            'dim_embedding':128,\n",
        "                                                                                            'nb_dense_units':105,\n",
        "                                                                                            'dropout':0.2})"
      ],
      "metadata": {
        "colab": {
          "base_uri": "https://localhost:8080/"
        },
        "id": "6vS0F6oFlbEM",
        "outputId": "b2ffa020-ab14-4395-acb2-8df954cf8075"
      },
      "execution_count": 35,
      "outputs": [
        {
          "output_type": "stream",
          "name": "stdout",
          "text": [
            "<keras.src.engine.sequential.Sequential object at 0x79eef589bee0> logged with name : Simple Multi-Layers Denses with dropout...\n"
          ]
        }
      ]
    },
    {
      "cell_type": "code",
      "source": [
        "model_3.fit(\n",
        "    train_batch,\n",
        "    epochs=20,\n",
        "    verbose=1,\n",
        "    callbacks=[tensorboard_callback, hparams_callback],\n",
        "    validation_data=test_batch)"
      ],
      "metadata": {
        "colab": {
          "base_uri": "https://localhost:8080/"
        },
        "id": "ktnmHaL6hxAb",
        "outputId": "acd1239d-3b91-40c4-d495-f3f9a7b1d376"
      },
      "execution_count": 36,
      "outputs": [
        {
          "output_type": "stream",
          "name": "stdout",
          "text": [
            "Epoch 1/20\n",
            "44/44 [==============================] - 2s 20ms/step - loss: 0.5879 - accuracy: 0.7994 - precision: 0.2500 - recall: 0.0018 - val_loss: 0.4684 - val_accuracy: 0.7992 - val_precision: 0.0000e+00 - val_recall: 0.0000e+00\n",
            "Epoch 2/20\n",
            "44/44 [==============================] - 1s 14ms/step - loss: 0.4609 - accuracy: 0.8001 - precision: 0.0000e+00 - recall: 0.0000e+00 - val_loss: 0.4348 - val_accuracy: 0.7992 - val_precision: 0.0000e+00 - val_recall: 0.0000e+00\n",
            "Epoch 3/20\n",
            "44/44 [==============================] - 1s 14ms/step - loss: 0.3880 - accuracy: 0.8001 - precision: 0.0000e+00 - recall: 0.0000e+00 - val_loss: 0.3080 - val_accuracy: 0.7992 - val_precision: 0.0000e+00 - val_recall: 0.0000e+00\n",
            "Epoch 4/20\n",
            "44/44 [==============================] - 1s 13ms/step - loss: 0.2341 - accuracy: 0.8823 - precision: 0.9349 - recall: 0.4420 - val_loss: 0.2143 - val_accuracy: 0.9344 - val_precision: 0.9583 - val_recall: 0.7041\n",
            "Epoch 5/20\n",
            "44/44 [==============================] - 1s 14ms/step - loss: 0.1235 - accuracy: 0.9685 - precision: 0.9330 - recall: 0.9076 - val_loss: 0.1578 - val_accuracy: 0.9611 - val_precision: 0.9759 - val_recall: 0.8265\n",
            "Epoch 6/20\n",
            "44/44 [==============================] - 1s 12ms/step - loss: 0.0675 - accuracy: 0.9790 - precision: 0.9625 - recall: 0.9312 - val_loss: 0.1128 - val_accuracy: 0.9713 - val_precision: 0.9667 - val_recall: 0.8878\n",
            "Epoch 7/20\n",
            "44/44 [==============================] - 1s 14ms/step - loss: 0.0455 - accuracy: 0.9859 - precision: 0.9812 - recall: 0.9475 - val_loss: 0.1027 - val_accuracy: 0.9734 - val_precision: 0.9570 - val_recall: 0.9082\n",
            "Epoch 8/20\n",
            "44/44 [==============================] - 1s 13ms/step - loss: 0.0337 - accuracy: 0.9906 - precision: 0.9870 - recall: 0.9656 - val_loss: 0.1505 - val_accuracy: 0.9672 - val_precision: 1.0000 - val_recall: 0.8367\n",
            "Epoch 9/20\n",
            "44/44 [==============================] - 1s 13ms/step - loss: 0.0365 - accuracy: 0.9888 - precision: 0.9887 - recall: 0.9547 - val_loss: 0.1085 - val_accuracy: 0.9713 - val_precision: 0.9468 - val_recall: 0.9082\n",
            "Epoch 10/20\n",
            "44/44 [==============================] - 1s 11ms/step - loss: 0.0229 - accuracy: 0.9928 - precision: 0.9926 - recall: 0.9710 - val_loss: 0.1175 - val_accuracy: 0.9734 - val_precision: 0.9570 - val_recall: 0.9082\n",
            "Epoch 11/20\n",
            "44/44 [==============================] - 1s 13ms/step - loss: 0.0195 - accuracy: 0.9938 - precision: 0.9890 - recall: 0.9801 - val_loss: 0.1214 - val_accuracy: 0.9754 - val_precision: 0.9674 - val_recall: 0.9082\n",
            "Epoch 12/20\n",
            "44/44 [==============================] - 1s 21ms/step - loss: 0.0195 - accuracy: 0.9957 - precision: 0.9963 - recall: 0.9819 - val_loss: 0.1239 - val_accuracy: 0.9713 - val_precision: 0.9468 - val_recall: 0.9082\n",
            "Epoch 13/20\n",
            "44/44 [==============================] - 1s 21ms/step - loss: 0.0146 - accuracy: 0.9960 - precision: 0.9945 - recall: 0.9855 - val_loss: 0.1274 - val_accuracy: 0.9713 - val_precision: 0.9468 - val_recall: 0.9082\n",
            "Epoch 14/20\n",
            "44/44 [==============================] - 1s 20ms/step - loss: 0.0142 - accuracy: 0.9971 - precision: 0.9982 - recall: 0.9873 - val_loss: 0.1328 - val_accuracy: 0.9734 - val_precision: 0.9570 - val_recall: 0.9082\n",
            "Epoch 15/20\n",
            "44/44 [==============================] - 1s 14ms/step - loss: 0.0128 - accuracy: 0.9975 - precision: 1.0000 - recall: 0.9873 - val_loss: 0.1356 - val_accuracy: 0.9713 - val_precision: 0.9468 - val_recall: 0.9082\n",
            "Epoch 16/20\n",
            "44/44 [==============================] - 1s 12ms/step - loss: 0.0151 - accuracy: 0.9953 - precision: 0.9909 - recall: 0.9855 - val_loss: 0.1338 - val_accuracy: 0.9734 - val_precision: 0.9474 - val_recall: 0.9184\n",
            "Epoch 17/20\n",
            "44/44 [==============================] - 0s 10ms/step - loss: 0.0115 - accuracy: 0.9975 - precision: 0.9964 - recall: 0.9909 - val_loss: 0.1464 - val_accuracy: 0.9754 - val_precision: 0.9778 - val_recall: 0.8980\n",
            "Epoch 18/20\n",
            "44/44 [==============================] - 0s 10ms/step - loss: 0.0100 - accuracy: 0.9978 - precision: 0.9982 - recall: 0.9909 - val_loss: 0.1577 - val_accuracy: 0.9693 - val_precision: 0.9278 - val_recall: 0.9184\n",
            "Epoch 19/20\n",
            "44/44 [==============================] - 1s 13ms/step - loss: 0.0122 - accuracy: 0.9967 - precision: 0.9963 - recall: 0.9873 - val_loss: 0.1545 - val_accuracy: 0.9693 - val_precision: 0.9278 - val_recall: 0.9184\n",
            "Epoch 20/20\n",
            "44/44 [==============================] - 1s 14ms/step - loss: 0.0136 - accuracy: 0.9960 - precision: 0.9963 - recall: 0.9837 - val_loss: 0.1583 - val_accuracy: 0.9693 - val_precision: 0.9278 - val_recall: 0.9184\n"
          ]
        },
        {
          "output_type": "execute_result",
          "data": {
            "text/plain": [
              "<keras.src.callbacks.History at 0x79eef55d2d10>"
            ]
          },
          "metadata": {},
          "execution_count": 36
        }
      ]
    },
    {
      "cell_type": "code",
      "source": [
        "model_name = 'Model 3 '\n",
        "y_true, y_pred = predictions_singleton_to_binary(model_3, 0.5, v2_pad_val, y_val)\n",
        "add_results_to_df(model_name, y_true, y_pred)\n",
        "display_matrix_and_scores(y_true, y_pred)\n",
        "# Afficher le DataFrame\n",
        "print(results_df)"
      ],
      "metadata": {
        "colab": {
          "base_uri": "https://localhost:8080/",
          "height": 585
        },
        "id": "VMLxabIyh2vx",
        "outputId": "44f1967d-816b-4fab-847e-38154c36f898"
      },
      "execution_count": 37,
      "outputs": [
        {
          "output_type": "stream",
          "name": "stdout",
          "text": [
            "23/23 [==============================] - 0s 2ms/step\n",
            "Accuracy : 0.9793103448275862\n",
            "Precision : 0.8942307692307693\n",
            "Recall : 0.9587628865979382\n",
            "      Model  Accuracy  Precision    Recall\n",
            "0  Model 1   0.984828   0.967391  0.917526\n",
            "1  Model 2   0.983448   0.956989  0.917526\n",
            "2  Model 3   0.979310   0.894231  0.958763\n"
          ]
        },
        {
          "output_type": "display_data",
          "data": {
            "text/plain": [
              "<Figure size 640x480 with 2 Axes>"
            ],
            "image/png": "[encoded data removed]"
          },
          "metadata": {}
        }
      ]
    },
    {
      "cell_type": "markdown",
      "source": [
        "         Model  Accuracy  Precision    Recall\n",
        "      0  Model 1   0.984828   0.957447  0.927835\n",
        "      1  Model 2   0.986207   0.967742  0.927835\n",
        "\n",
        "         Model  Accuracy  Precision    Recall\n",
        "      0  Model 1   0.984828   0.957447  0.927835\n",
        "      1  Model 2   0.986207   0.967742  0.927835\n",
        "      2  Model 3   0.983448   0.947368  0.927835\n"
      ],
      "metadata": {
        "id": "JQaVArjJy_Qi"
      }
    },
    {
      "cell_type": "markdown",
      "source": [
        " La taille de l'embedding de 128 dans les trois modèles peut être augmentée pour permettre au modèle de capturer des informations plus riches. Nous allons tester un 4e modèles pour tester la couche d'embedding"
      ],
      "metadata": {
        "id": "C1mY8qcnzA9a"
      }
    },
    {
      "cell_type": "markdown",
      "source": [
        "#### Modèle 4"
      ],
      "metadata": {
        "id": "bG6T6QoQqz9N"
      }
    },
    {
      "cell_type": "code",
      "source": [
        "model_4 = tf.keras.Sequential([\n",
        "    tf.keras.layers.Embedding(vocab_size+1, 256, input_shape=[x_train.shape[1],], name=\"embedding\"),\n",
        "    tf.keras.layers.GlobalAveragePooling1D(),\n",
        "    tf.keras.layers.Dense(64, activation='relu'),\n",
        "    tf.keras.layers.Dense(32, activation='relu'),  # Nouvelle couche Dense\n",
        "    tf.keras.layers.Dropout(0.2),\n",
        "    tf.keras.layers.Dense(16, activation='relu'),  # Nouvelle couche Dense\n",
        "    tf.keras.layers.Dense(1, activation=\"sigmoid\")\n",
        "])\n"
      ],
      "metadata": {
        "id": "qin3xHU_iAGy"
      },
      "execution_count": 38,
      "outputs": []
    },
    {
      "cell_type": "code",
      "source": [
        "tensorboard_callback, hparams_callback = compile_and_log(model_4, \"Simple Multi-Layers Denses with dropout\", {\n",
        "                                                                                            'dim_embedding':128,\n",
        "                                                                                            'nb_dense_units':105,\n",
        "                                                                                            'dropout':0.2})"
      ],
      "metadata": {
        "colab": {
          "base_uri": "https://localhost:8080/"
        },
        "id": "cxY7KMzgzXOB",
        "outputId": "143a5b09-b67b-4d7c-eff6-98f6a666985b"
      },
      "execution_count": 39,
      "outputs": [
        {
          "output_type": "stream",
          "name": "stdout",
          "text": [
            "<keras.src.engine.sequential.Sequential object at 0x79eef53155a0> logged with name : Simple Multi-Layers Denses with dropout...\n"
          ]
        }
      ]
    },
    {
      "cell_type": "code",
      "source": [
        "model_4.fit(\n",
        "    train_batch,\n",
        "    epochs=20,\n",
        "    verbose=1,\n",
        "    callbacks=[tensorboard_callback, hparams_callback],\n",
        "    validation_data=test_batch)"
      ],
      "metadata": {
        "colab": {
          "base_uri": "https://localhost:8080/"
        },
        "id": "iHs7S9ah0Mff",
        "outputId": "08b0cfd9-0b7c-4320-d5c7-8dd73c30711a"
      },
      "execution_count": 40,
      "outputs": [
        {
          "output_type": "stream",
          "name": "stdout",
          "text": [
            "Epoch 1/20\n",
            "44/44 [==============================] - 3s 28ms/step - loss: 0.5360 - accuracy: 0.7915 - precision: 0.2143 - recall: 0.0163 - val_loss: 0.4639 - val_accuracy: 0.7992 - val_precision: 0.0000e+00 - val_recall: 0.0000e+00\n",
            "Epoch 2/20\n",
            "44/44 [==============================] - 1s 22ms/step - loss: 0.4447 - accuracy: 0.8001 - precision: 0.0000e+00 - recall: 0.0000e+00 - val_loss: 0.4099 - val_accuracy: 0.7992 - val_precision: 0.0000e+00 - val_recall: 0.0000e+00\n",
            "Epoch 3/20\n",
            "44/44 [==============================] - 1s 22ms/step - loss: 0.3234 - accuracy: 0.8001 - precision: 0.0000e+00 - recall: 0.0000e+00 - val_loss: 0.2537 - val_accuracy: 0.7992 - val_precision: 0.0000e+00 - val_recall: 0.0000e+00\n",
            "Epoch 4/20\n",
            "44/44 [==============================] - 1s 26ms/step - loss: 0.2060 - accuracy: 0.9356 - precision: 0.9390 - recall: 0.7246 - val_loss: 0.2089 - val_accuracy: 0.9488 - val_precision: 0.9740 - val_recall: 0.7653\n",
            "Epoch 5/20\n",
            "44/44 [==============================] - 1s 27ms/step - loss: 0.1089 - accuracy: 0.9703 - precision: 0.9368 - recall: 0.9130 - val_loss: 0.1167 - val_accuracy: 0.9652 - val_precision: 0.9551 - val_recall: 0.8673\n",
            "Epoch 6/20\n",
            "44/44 [==============================] - 1s 29ms/step - loss: 0.0643 - accuracy: 0.9830 - precision: 0.9685 - recall: 0.9457 - val_loss: 0.1362 - val_accuracy: 0.9611 - val_precision: 1.0000 - val_recall: 0.8061\n",
            "Epoch 7/20\n",
            "44/44 [==============================] - 1s 17ms/step - loss: 0.0431 - accuracy: 0.9870 - precision: 0.9778 - recall: 0.9565 - val_loss: 0.1444 - val_accuracy: 0.9693 - val_precision: 1.0000 - val_recall: 0.8469\n",
            "Epoch 8/20\n",
            "44/44 [==============================] - 1s 16ms/step - loss: 0.0321 - accuracy: 0.9902 - precision: 0.9944 - recall: 0.9565 - val_loss: 0.1118 - val_accuracy: 0.9713 - val_precision: 0.9468 - val_recall: 0.9082\n",
            "Epoch 9/20\n",
            "44/44 [==============================] - 1s 16ms/step - loss: 0.0229 - accuracy: 0.9938 - precision: 0.9890 - recall: 0.9801 - val_loss: 0.1181 - val_accuracy: 0.9734 - val_precision: 0.9570 - val_recall: 0.9082\n",
            "Epoch 10/20\n",
            "44/44 [==============================] - 1s 22ms/step - loss: 0.0258 - accuracy: 0.9920 - precision: 0.9871 - recall: 0.9728 - val_loss: 0.1396 - val_accuracy: 0.9713 - val_precision: 0.9884 - val_recall: 0.8673\n",
            "Epoch 11/20\n",
            "44/44 [==============================] - 1s 22ms/step - loss: 0.0183 - accuracy: 0.9964 - precision: 0.9963 - recall: 0.9855 - val_loss: 0.1274 - val_accuracy: 0.9734 - val_precision: 0.9670 - val_recall: 0.8980\n",
            "Epoch 12/20\n",
            "44/44 [==============================] - 1s 21ms/step - loss: 0.0214 - accuracy: 0.9946 - precision: 0.9945 - recall: 0.9783 - val_loss: 0.1227 - val_accuracy: 0.9734 - val_precision: 0.9670 - val_recall: 0.8980\n",
            "Epoch 13/20\n",
            "44/44 [==============================] - 1s 22ms/step - loss: 0.0143 - accuracy: 0.9957 - precision: 0.9927 - recall: 0.9855 - val_loss: 0.1814 - val_accuracy: 0.9652 - val_precision: 0.9880 - val_recall: 0.8367\n",
            "Epoch 14/20\n",
            "44/44 [==============================] - 1s 22ms/step - loss: 0.0174 - accuracy: 0.9967 - precision: 0.9982 - recall: 0.9855 - val_loss: 0.1257 - val_accuracy: 0.9734 - val_precision: 0.9474 - val_recall: 0.9184\n",
            "Epoch 15/20\n",
            "44/44 [==============================] - 1s 24ms/step - loss: 0.0125 - accuracy: 0.9967 - precision: 0.9945 - recall: 0.9891 - val_loss: 0.1304 - val_accuracy: 0.9713 - val_precision: 0.9468 - val_recall: 0.9082\n",
            "Epoch 16/20\n",
            "44/44 [==============================] - 1s 27ms/step - loss: 0.0133 - accuracy: 0.9946 - precision: 0.9855 - recall: 0.9873 - val_loss: 0.1577 - val_accuracy: 0.9693 - val_precision: 0.9770 - val_recall: 0.8673\n",
            "Epoch 17/20\n",
            "44/44 [==============================] - 1s 32ms/step - loss: 0.0131 - accuracy: 0.9957 - precision: 0.9982 - recall: 0.9801 - val_loss: 0.1419 - val_accuracy: 0.9713 - val_precision: 0.9375 - val_recall: 0.9184\n",
            "Epoch 18/20\n",
            "44/44 [==============================] - 1s 23ms/step - loss: 0.0069 - accuracy: 0.9986 - precision: 1.0000 - recall: 0.9928 - val_loss: 0.1510 - val_accuracy: 0.9713 - val_precision: 0.9286 - val_recall: 0.9286\n",
            "Epoch 19/20\n",
            "44/44 [==============================] - 1s 20ms/step - loss: 0.0101 - accuracy: 0.9971 - precision: 0.9964 - recall: 0.9891 - val_loss: 0.1465 - val_accuracy: 0.9754 - val_precision: 0.9574 - val_recall: 0.9184\n",
            "Epoch 20/20\n",
            "44/44 [==============================] - 1s 17ms/step - loss: 0.0080 - accuracy: 0.9978 - precision: 0.9964 - recall: 0.9928 - val_loss: 0.1497 - val_accuracy: 0.9713 - val_precision: 0.9565 - val_recall: 0.8980\n"
          ]
        },
        {
          "output_type": "execute_result",
          "data": {
            "text/plain": [
              "<keras.src.callbacks.History at 0x79eef52e3430>"
            ]
          },
          "metadata": {},
          "execution_count": 40
        }
      ]
    },
    {
      "cell_type": "code",
      "source": [
        "model_name = 'Model 4 '\n",
        "y_true, y_pred = predictions_singleton_to_binary(model_4, 0.5, v2_pad_val, y_val)\n",
        "add_results_to_df(model_name, y_true, y_pred)\n",
        "display_matrix_and_scores(y_true, y_pred)\n",
        "# Afficher le DataFrame\n",
        "print(results_df)"
      ],
      "metadata": {
        "colab": {
          "base_uri": "https://localhost:8080/",
          "height": 602
        },
        "id": "lX9zxUR60Ri7",
        "outputId": "e7735f65-9338-4b0f-eaf3-bfd8baf70f54"
      },
      "execution_count": 41,
      "outputs": [
        {
          "output_type": "stream",
          "name": "stdout",
          "text": [
            "23/23 [==============================] - 0s 2ms/step\n",
            "Accuracy : 0.9820689655172414\n",
            "Precision : 0.9375\n",
            "Recall : 0.9278350515463918\n",
            "      Model  Accuracy  Precision    Recall\n",
            "0  Model 1   0.984828   0.967391  0.917526\n",
            "1  Model 2   0.983448   0.956989  0.917526\n",
            "2  Model 3   0.979310   0.894231  0.958763\n",
            "3  Model 4   0.982069   0.937500  0.927835\n"
          ]
        },
        {
          "output_type": "display_data",
          "data": {
            "text/plain": [
              "<Figure size 640x480 with 2 Axes>"
            ],
            "image/png": "[encoded data removed]"
          },
          "metadata": {}
        }
      ]
    },
    {
      "cell_type": "markdown",
      "source": [
        "         Model  Accuracy  Precision    Recall\n",
        "      0  Model 1   0.984828   0.957447  0.927835\n",
        "      1  Model 2   0.986207   0.967742  0.927835\n",
        "\n",
        "         Model  Accuracy  Precision    Recall\n",
        "      0  Model 1   0.984828   0.957447  0.927835\n",
        "      1  Model 2   0.986207   0.967742  0.927835\n",
        "      2  Model 3   0.983448   0.947368  0.927835\n",
        "\n",
        "         Model  Accuracy  Precision    Recall\n",
        "      0  Model 1   0.984828   0.957447  0.927835\n",
        "      1  Model 2   0.986207   0.967742  0.927835\n",
        "      2  Model 3   0.983448   0.947368  0.927835\n",
        "      3  Model 4   0.983448   0.947368  0.927835\n",
        "\n",
        "\n",
        "          Model  Accuracy  Precision    Recall\n",
        "      0  Model 1   0.984828   0.967391  0.917526\n",
        "      1  Model 2   0.984828   0.957447  0.927835\n",
        "      2  Model 3   0.977931   0.926316  0.907216\n",
        "      3  Model 4   0.983448   0.967033  0.907216\n",
        "\n",
        "            Model  Accuracy  Precision    Recall\n",
        "      0  Model 1   0.982069   0.937500  0.927835\n",
        "      1  Model 2   0.983448   0.947368  0.927835\n",
        "      2  Model 3   0.979310   0.927083  0.917526\n",
        "      3  Model 4   0.984828   0.977778  0.907216\n",
        "\n",
        "            Model  Accuracy  Precision    Recall\n",
        "      0  Model 1   0.984828   0.967391  0.917526\n",
        "      1  Model 2   0.983448   0.956989  0.917526\n",
        "      2  Model 3   0.979310   0.894231  0.958763\n",
        "      3  Model 4   0.982069   0.937500  0.927835"
      ],
      "metadata": {
        "id": "YjvM-BqGmJls"
      }
    },
    {
      "cell_type": "code",
      "source": [
        "import numpy as np\n",
        "from sklearn.model_selection import StratifiedKFold\n",
        "from sklearn.metrics import accuracy_score, precision_score, recall_score\n",
        "import tensorflow as tf\n",
        "from tensorflow.keras.models import Sequential\n",
        "from tensorflow.keras.layers import Embedding, GlobalAveragePooling1D, Dense\n",
        "\n",
        "# Supposons que x_data et y_data sont vos données d'entraînement\n",
        "# x_data est la matrice des features, et y_data est le vecteur des labels\n",
        "\n",
        "# Nombre de plis pour la validation croisée\n",
        "num_folds = 5\n",
        "\n",
        "# Initialisation de la validation croisée\n",
        "kfold = StratifiedKFold(n_splits=num_folds, shuffle=True, random_state=42)\n",
        "\n",
        "# Liste pour stocker les performances de chaque modèle\n",
        "model_performances = []\n",
        "\n",
        "# Modèle 1\n",
        "model_1 = Sequential([\n",
        "    Embedding(vocab_size + 1, 128, input_shape=(x_data.shape[1],), name=\"embedding\"),\n",
        "    GlobalAveragePooling1D(),\n",
        "    Dense(64, activation='relu'),\n",
        "    Dense(1, activation='sigmoid')\n",
        "])\n",
        "\n",
        "# Modèle 2\n",
        "model_2 = Sequential([\n",
        "    Embedding(vocab_size + 1, 128, input_shape=(x_data.shape[1],), name=\"embedding\"),\n",
        "    GlobalAveragePooling1D(),\n",
        "    Dense(64, activation='relu'),\n",
        "    Dense(32, activation='relu'),\n",
        "    Dense(1, activation='sigmoid')\n",
        "])\n",
        "\n",
        "#\n"
      ],
      "metadata": {
        "id": "wk1dYkByYXcj"
      },
      "execution_count": null,
      "outputs": []
    },
    {
      "cell_type": "code",
      "source": [],
      "metadata": {
        "id": "qWb6MIoaYXr-"
      },
      "execution_count": null,
      "outputs": []
    },
    {
      "cell_type": "code",
      "source": [],
      "metadata": {
        "id": "Vi77tin3RBL1"
      },
      "execution_count": null,
      "outputs": []
    }
  ],
  "metadata": {
    "kernelspec": {
      "display_name": "base",
      "language": "python",
      "name": "base"
    },
    "language_info": {
      "codemirror_mode": {
        "name": "ipython",
        "version": 3
      },
      "file_extension": ".py",
      "mimetype": "text/x-python",
      "name": "python",
      "nbconvert_exporter": "python",
      "pygments_lexer": "ipython3",
      "version": "3.10.12"
    },
    "colab": {
      "provenance": []
    }
  },
  "nbformat": 4,
  "nbformat_minor": 0
}